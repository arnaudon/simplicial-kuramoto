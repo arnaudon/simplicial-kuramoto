{
 "cells": [
  {
   "cell_type": "code",
   "execution_count": 1,
   "metadata": {
    "collapsed": true
   },
   "outputs": [],
   "source": [
    "import numpy as np\n",
    "import pylab as plt\n",
    "import networkx as nx\n",
    "import scipy.integrate as integ\n",
    "from scipy.linalg import null_space\n",
    "import math\n",
    "\n",
    "from utils import *\n",
    "\n",
    "%matplotlib inline"
   ]
  },
  {
   "cell_type": "code",
   "execution_count": 2,
   "metadata": {
    "collapsed": true
   },
   "outputs": [],
   "source": [
    "def simplicial_kuramoto_full_theta(t, theta, B0, B1, a, omega_0):#, weights_n, weights_e, weights_f):\n",
    "    return omega_0-a*(B0.dot(np.sin(B0.T.dot(theta))))-a*B1.T.dot(np.sin(B1.dot(theta)))\n",
    "#     return omega_0-a*np.diag(we).dot(B0.dot(np.sin(B0.T.dot(theta))))-a*B1.T.dot(np.diag(wf).dot(np.sin(B1.dot(theta))))\n",
    "\n",
    "def integrate_simplicial_kuramoto_full_theta(B0, B1, theta_0, t_max, n_t, a, omega_0):#, weights_n, weights_e, weights_f):\n",
    "    return integ.solve_ivp(lambda t, theta: simplicial_kuramoto_full_theta(t, theta, B0, B1, a, omega_0), [0, t_max], theta_0, t_eval = np.linspace(0, t_max, n_t),method='Radau',rtol=1.49012e-8,atol=1.49012e-8)\n",
    "#     return integ.solve_ivp(lambda t, theta: simplicial_kuramoto_full_theta(t, theta, B0, B1, a, omega_0, degree, weights_n, weights_e, weights_f), [0, t_max], theta_0, t_eval = np.linspace(0, t_max, n_t),method='Radau',rtol=1.49012e-8,atol=1.49012e-8)"
   ]
  },
  {
   "cell_type": "code",
   "execution_count": 14,
   "metadata": {
    "collapsed": true
   },
   "outputs": [],
   "source": [
    "def ntri(A):\n",
    "    # signed incidence matrices for triangles\n",
    "    Nn=A.shape[0]\n",
    "    Ne=int(np.sum(A)/2)\n",
    "    #print Nn, Ne\n",
    "\n",
    "    e=np.zeros((Ne,2))\n",
    "    count=0;\n",
    "    for i in range(Nn):\n",
    "        for j in range(i+1,Nn):\n",
    "            if(A[i,j]>0):\n",
    "                e[count,0]=i\n",
    "                e[count,1]=j\n",
    "                count+=1\n",
    "#     print \"edges\"\n",
    "#     print e\n",
    "    I=np.zeros((Ne,Nn))\n",
    "    for i in range(Ne):\n",
    "        I[i,int(e[i,0])]=1\n",
    "        I[i,int(e[i,1])]=-1\n",
    "    #print I\n",
    "\n",
    "    Nf=0\n",
    "    for i in range(Nn):\n",
    "        for j in range(i+1,Nn):\n",
    "            for k in range(j+1,Nn):\n",
    "                subA=A[np.ix_([i,j,k],[i,j,k])]\n",
    "                if(np.sum(subA)==6):\n",
    "                    Nf+=1\n",
    "    f=np.zeros((Nf,3))\n",
    "    count=0\n",
    "    for i in range(Nn):\n",
    "        for j in range(i+1,Nn):\n",
    "            for k in range(j+1,Nn):\n",
    "                subA=A[np.ix_([i,j,k],[i,j,k])]\n",
    "                if(np.sum(subA)==6):\n",
    "                    f[count,0]=i\n",
    "                    f[count,1]=j\n",
    "                    f[count,2]=k\n",
    "                    count+=1\n",
    "#     print \"faces\"\n",
    "#     print f\n",
    "    II=np.zeros((Nf,Ne))\n",
    "    for i in range(f.shape[0]):\n",
    "        for j in [0,-1,-2]:\n",
    "            temp=np.roll(f[i,:],j)\n",
    "            temp=temp[0:2]\n",
    "            for k in range(e.shape[0]):\n",
    "                #print e[k,:],temp\n",
    "                if(((e[k,:]==temp).all())or((e[k,:]==np.roll(temp,1)).all())):\n",
    "                    Irow=k\n",
    "            if(temp[0]<temp[1]):\n",
    "                II[i,Irow]=1\n",
    "            else:\n",
    "                II[i,Irow]=-1\n",
    "    #print II \n",
    "    ntrie=np.sum(II,1)\n",
    "    return I,II#,ntrie, e#, len(ntrie)"
   ]
  },
  {
   "cell_type": "code",
   "execution_count": 25,
   "metadata": {
    "collapsed": true
   },
   "outputs": [],
   "source": [
    "def plotflow(theta_0,B0,B1,plotname,t_max=110,n_t=200):\n",
    "    print(plotname)\n",
    "    omega_0=np.ones(B0.shape[0])*0\n",
    "    degree=np.absolute(B0).sum(0)\n",
    "    a=1\n",
    "#     t_max = 110 #integration time\n",
    "#     n_t = 200 #number of timepoints \n",
    "\n",
    "    result=integrate_simplicial_kuramoto_full_theta(B0, B1, theta_0, t_max, n_t, a, omega_0)\n",
    "    times = result.t\n",
    "    theta = result.y\n",
    "    \n",
    "    plt.figure()\n",
    "    plt.imshow(np.mod(np.around(theta,10),np.around(2*np.pi,10)), aspect='auto',cmap='bwr')\n",
    "    plt.title(plotname+' phases')\n",
    "    plt.colorbar()\n",
    "    \n",
    "    op=order_parameter(theta, 4, 1)\n",
    "    plt.figure()\n",
    "    plt.title(plotname+' order parameter')\n",
    "    plt.plot(op[0,:])\n",
    "\n",
    "    print('\\theta_0: ', theta_0)\n",
    "    print('\\theta_final: ',theta[:,-1])\n",
    "    \n",
    "    Div=np.mod(np.around(B0.T.dot(theta),10),np.around(2*np.pi,10))\n",
    "    Curl=np.mod(np.around(B1.dot(theta),10),np.around(2*np.pi,10))\n",
    "    print('Div: (must be zeros for solutions)', Div[:,-1])\n",
    "    print('Curl: ', Curl[:,-1])\n",
    "    \n",
    "    L1=-B0.dot(B0.T)-B1.T.dot(B1)\n",
    "    print('L1\\theta must be zero, second one row is modulo 2pi')\n",
    "    print('L1\\theta: ', L1.dot(theta[:,-1]))\n",
    "    print('L1\\theta:', np.mod(np.around(L1.dot(theta[:,-1]),10),np.around(2*np.pi,10)))\n",
    "    print('dim(Ker(L1)): ', null_space(L1).shape[1])\n",
    "    print('Ker(L1): ', null_space(L1))\n",
    "    \n",
    "#     plt.figure()\n",
    "#     plt.imshow(Div, aspect='auto',cmap='bwr')\n",
    "#     plt.title(plotname+' divergence')\n",
    "#     plt.colorbar()\n",
    "#     plt.figure()\n",
    "#     plt.imshow(Curl, aspect='auto',cmap='bwr')\n",
    "#     plt.title(plotname+' curl')\n",
    "#     plt.colorbar()\n",
    "    return theta[:,-1]"
   ]
  },
  {
   "cell_type": "code",
   "execution_count": 22,
   "metadata": {
    "scrolled": false
   },
   "outputs": [
    {
     "name": "stdout",
     "output_type": "stream",
     "text": [
      "[[ 1. -1.  0.  0.  0.  0.  0.  0.  0.  0.]\n",
      " [ 1.  0.  0.  0.  0.  0.  0.  0.  0. -1.]\n",
      " [ 0.  1. -1.  0.  0.  0.  0.  0.  0.  0.]\n",
      " [ 0.  0.  1. -1.  0.  0.  0.  0.  0.  0.]\n",
      " [ 0.  0.  0.  1. -1.  0.  0.  0.  0.  0.]\n",
      " [ 0.  0.  0.  0.  1. -1.  0.  0.  0.  0.]\n",
      " [ 0.  0.  0.  0.  0.  1. -1.  0.  0.  0.]\n",
      " [ 0.  0.  0.  0.  0.  0.  1. -1.  0.  0.]\n",
      " [ 0.  0.  0.  0.  0.  0.  0.  1. -1.  0.]\n",
      " [ 0.  0.  0.  0.  0.  0.  0.  0.  1. -1.]]\n",
      "One opposite orientation\n",
      "('\\theta_0: ', array([2.29237291, 5.31071462, 0.96241623, 0.11126571, 2.13236113,\n",
      "       5.52615858, 5.49851734, 1.72901296, 1.75843134, 5.68498114]))\n",
      "('\\theta_final: ', array([0.78184321, 5.5013421 , 0.78184321, 0.78184321, 0.78184321,\n",
      "       7.06502852, 7.06502852, 0.78184321, 0.78184321, 7.06502852]))\n",
      "('Div: ', array([0., 0., 0., 0., 0., 0., 0., 0., 0., 0.]))\n",
      "('Curl: ', array([], dtype=float64))\n",
      "('L1\\theta: ', array([-6.28318531e+00, -1.88495559e+01, -4.27102798e-13, -8.37108161e-14,\n",
      "        6.28318531e+00, -6.28318531e+00, -6.28318531e+00,  6.28318531e+00,\n",
      "        6.28318531e+00, -1.88495559e+01]))\n",
      "('L1\\theta: ', array([0.00000000e+00, 1.00001785e-10, 0.00000000e+00, 0.00000000e+00,\n",
      "       0.00000000e+00, 0.00000000e+00, 0.00000000e+00, 0.00000000e+00,\n",
      "       0.00000000e+00, 1.00001785e-10]))\n",
      "('dim(Ker(L1)): ', 1)\n",
      "('Ker(L1): ', array([[ 0.31622777],\n",
      "       [-0.31622777],\n",
      "       [ 0.31622777],\n",
      "       [ 0.31622777],\n",
      "       [ 0.31622777],\n",
      "       [ 0.31622777],\n",
      "       [ 0.31622777],\n",
      "       [ 0.31622777],\n",
      "       [ 0.31622777],\n",
      "       [ 0.31622777]]))\n",
      "All same orientations\n",
      "('\\theta_0: ', array([2.29237291, 5.31071462, 0.96241623, 0.11126571, 2.13236113,\n",
      "       5.52615858, 5.49851734, 1.72901296, 1.75843134, 5.68498114]))\n",
      "('\\theta_final: ', array([0.58734907, 6.87053438, 0.58734907, 0.58734907, 0.58734907,\n",
      "       6.87053438, 6.87053438, 0.58734907, 0.58734907, 6.87053438]))\n",
      "('Div: ', array([0., 0., 0., 0., 0., 0., 0., 0., 0., 0.]))\n",
      "('Curl: ', array([], dtype=float64))\n",
      "('L1\\theta: ', array([ 6.28318531e+00, -6.28318531e+00, -5.22359933e-13, -5.00932629e-13,\n",
      "        6.28318531e+00, -6.28318531e+00, -6.28318531e+00,  6.28318531e+00,\n",
      "        6.28318531e+00, -6.28318531e+00]))\n",
      "('L1\\theta: ', array([0., 0., 0., 0., 0., 0., 0., 0., 0., 0.]))\n",
      "('dim(Ker(L1)): ', 1)\n",
      "('Ker(L1): ', array([[0.31622777],\n",
      "       [0.31622777],\n",
      "       [0.31622777],\n",
      "       [0.31622777],\n",
      "       [0.31622777],\n",
      "       [0.31622777],\n",
      "       [0.31622777],\n",
      "       [0.31622777],\n",
      "       [0.31622777],\n",
      "       [0.31622777]]))\n"
     ]
    },
    {
     "data": {
      "text/plain": [
       "array([0.58734907, 6.87053438, 0.58734907, 0.58734907, 0.58734907,\n",
       "       6.87053438, 6.87053438, 0.58734907, 0.58734907, 6.87053438])"
      ]
     },
     "execution_count": 22,
     "metadata": {},
     "output_type": "execute_result"
    },
    {
     "data": {
      "image/png": "[encoded data removed]",
      "text/plain": [
       "<Figure size 432x288 with 2 Axes>"
      ]
     },
     "metadata": {},
     "output_type": "display_data"
    },
    {
     "data": {
      "image/png": "[encoded data removed]",
      "text/plain": [
       "<Figure size 432x288 with 1 Axes>"
      ]
     },
     "metadata": {},
     "output_type": "display_data"
    },
    {
     "data": {
      "image/png": "[encoded data removed]",
      "text/plain": [
       "<Figure size 432x288 with 2 Axes>"
      ]
     },
     "metadata": {},
     "output_type": "display_data"
    },
    {
     "data": {
      "image/png": "[encoded data removed]",
      "text/plain": [
       "<Figure size 432x288 with 1 Axes>"
      ]
     },
     "metadata": {},
     "output_type": "display_data"
    }
   ],
   "source": [
    "# cycle graph, so no faces, simplest case\n",
    "Nn=10 # the transient with large Nn is fun to watch\n",
    "\n",
    "G=nx.cycle_graph(Nn)\n",
    "\n",
    "A=nx.to_numpy_matrix(G)\n",
    "\n",
    "B0,B1=ntri(A) # only B0 is non trivial, as no faces\n",
    "\n",
    "print(B0)\n",
    "# with the current orientation, there is a clash on node 0\n",
    "\n",
    "Nn=B0.shape[1]\n",
    "Ne=B0.shape[0]\n",
    "Nf=B1.shape[0]\n",
    "\n",
    "# inital conditions\n",
    "# np.random.seed(seed=4444)\n",
    "theta_0=2*np.pi*np.random.rand(Ne)\n",
    "# theta_0=(np.random.rand(Ne)-0.5)*10\n",
    "\n",
    "theta_final=plotflow(theta_0,B0,B1,'One opposite orientation',110,200)\n",
    "\n",
    "# reverse the orientation of the odd one out\n",
    "B0[1,0]=-B0[1,0]\n",
    "B0[1,-1]=-B0[1,-1]\n",
    "\n",
    "plotflow(theta_0,B0,B1,'All same orientations',110,200)\n",
    "# plotflow(theta_final,B0,B1,'All same orientations') #to check that the stationary state with the odd one out is unstable for the all the same\n",
    "\n",
    "# So here we see that the stationary state is directly proportional to the eigenvector in the null-space of the Laplacian\n",
    "# With one \"off-phase\" oscillator"
   ]
  },
  {
   "cell_type": "code",
   "execution_count": 6,
   "metadata": {
    "collapsed": true
   },
   "outputs": [],
   "source": [
    "# Edge Kuramoto with only the first term, but the lift associated matrices, see next cell for definitions\n",
    "# The problem is probably in this equation\n",
    "def simplicial_kuramoto_full_theta_double(t, theta, B0d, B0dp, B0dm, B1d, B1dp, B1dm, a, omega_0):\n",
    "\n",
    "    return omega_0-a*(B0d.dot(np.sin(B0d.T.dot(theta))))\n",
    "\n",
    "def integrate_simplicial_kuramoto_full_theta_double(B0d, B0dp ,B0dm, B1d, B1dp, B1dm, theta_0, t_max, n_t, a, omega_0):\n",
    "    \n",
    "    return integ.solve_ivp(lambda t, theta: simplicial_kuramoto_full_theta_double(t, theta, B0d, B0dp ,B0dm, B1d, B1dp, B1dm, a, omega_0), [0, t_max], theta_0, t_eval = np.linspace(0, t_max, n_t),method='Radau',rtol=1.49012e-8,atol=1.49012e-8)"
   ]
  },
  {
   "cell_type": "code",
   "execution_count": 28,
   "metadata": {
    "scrolled": false
   },
   "outputs": [
    {
     "name": "stdout",
     "output_type": "stream",
     "text": [
      "('\\theta_0: ', array([ 4.06466774,  2.53267683,  1.23723435,  1.55139362, -1.27603977,\n",
      "        2.17971215,  2.49387141,  2.80803068,  3.12218995,  3.43634921,\n",
      "       -4.06466774, -2.53267683, -1.23723435, -1.55139362,  1.27603977,\n",
      "       -2.17971215, -2.49387141, -2.80803068, -3.12218995, -3.43634921]))\n",
      "('\\theta_final: ', array([ 4.06466774,  2.53267683,  1.23723435,  1.55139362, -1.27603977,\n",
      "        2.17971215,  2.49387141,  2.80803068,  3.12218995,  3.43634921,\n",
      "       -4.06466774, -2.53267683, -1.23723435, -1.55139362,  1.27603977,\n",
      "       -2.17971215, -2.49387141, -2.80803068, -3.12218995, -3.43634921]))\n",
      "('\\theta_final: ', array([4.06466774, 2.53267683, 1.23723435, 1.55139362, 5.00714554,\n",
      "       2.17971215, 2.49387141, 2.80803068, 3.12218995, 3.43634921,\n",
      "       2.21851757, 3.75050848, 5.04595095, 4.73179169, 1.27603977,\n",
      "       4.10347316, 3.78931389, 3.47515463, 3.16099536, 2.8468361 ]))\n",
      "Unlifted quantities\n",
      "('\\theta_0: ', array([ 8.12933548,  5.06535366,  2.47446871,  3.10278724, -2.55207954,\n",
      "        4.3594243 ,  4.98774283,  5.61606136,  6.24437989,  6.87269842]))\n",
      "('\\theta_final: ', array([ 8.12933548,  5.06535366,  2.47446871,  3.10278724, -2.55207954,\n",
      "        4.3594243 ,  4.98774283,  5.61606136,  6.24437989,  6.87269842]))\n",
      "('\\theta_final: ', array([1.84615018, 5.06535366, 2.47446871, 3.10278724, 3.73110577,\n",
      "       4.3594243 , 4.98774283, 5.61606136, 6.24437989, 0.58951311]))\n",
      "('Div: ', array([0.62831853, 0.62831853, 0.62831853, 0.62831853, 0.62831853,\n",
      "       0.62831853, 0.62831853, 0.62831853, 0.62831853, 0.62831853]))\n",
      "('Curl: ', array([], dtype=float64))\n",
      "L1\theta must be zero, second one row is modulo 2pi\n",
      "('L1\\theta: ', array([-1.88495559e+01, -2.51327412e+01,  6.28318531e+00, -6.28318531e+00,\n",
      "        1.25663706e+01, -6.28318531e+00,  5.32907052e-15, -2.66453526e-15,\n",
      "        7.54951657e-14, -1.25663706e+01]))\n",
      "('L1\\theta: ', array([1.00001785e-10, 1.00001785e-10, 0.00000000e+00, 0.00000000e+00,\n",
      "       0.00000000e+00, 0.00000000e+00, 0.00000000e+00, 0.00000000e+00,\n",
      "       0.00000000e+00, 0.00000000e+00]))\n",
      "('dim(Ker(L1)): ', 1)\n",
      "('Ker(L1): ', array([[ 0.31622777],\n",
      "       [-0.31622777],\n",
      "       [ 0.31622777],\n",
      "       [ 0.31622777],\n",
      "       [ 0.31622777],\n",
      "       [ 0.31622777],\n",
      "       [ 0.31622777],\n",
      "       [ 0.31622777],\n",
      "       [ 0.31622777],\n",
      "       [ 0.31622777]]))\n"
     ]
    },
    {
     "data": {
      "image/png": "[encoded data removed]",
      "text/plain": [
       "<Figure size 432x288 with 2 Axes>"
      ]
     },
     "metadata": {},
     "output_type": "display_data"
    },
    {
     "data": {
      "image/png": "[encoded data removed]",
      "text/plain": [
       "<Figure size 432x288 with 1 Axes>"
      ]
     },
     "metadata": {},
     "output_type": "display_data"
    },
    {
     "data": {
      "image/png": "[encoded data removed]",
      "text/plain": [
       "<Figure size 432x288 with 2 Axes>"
      ]
     },
     "metadata": {},
     "output_type": "display_data"
    },
    {
     "data": {
      "image/png": "[encoded data removed]",
      "text/plain": [
       "<Figure size 432x288 with 1 Axes>"
      ]
     },
     "metadata": {},
     "output_type": "display_data"
    }
   ],
   "source": [
    "# Now let's do the same with the lift to try to make all this orientation independent\n",
    "Nn=10\n",
    "G=nx.cycle_graph(Nn)\n",
    "\n",
    "B0,B1=ntri(A)\n",
    "\n",
    "# B0[1,0]=-B0[1,0]\n",
    "# B0[1,-1]=-B0[1,-1]\n",
    "\n",
    "Ne=B0.shape[0]\n",
    "Nf=B1.shape[0]\n",
    "\n",
    "# lift matrix\n",
    "V=np.concatenate((np.eye(Ne),-np.eye(Ne)),axis=0)\n",
    "# lifted B0 and B1\n",
    "B0d=V.dot(B0)\n",
    "B1d=B1.dot(V.T)\n",
    "# plus and minuses Bs\n",
    "B0dp=(np.abs(B0d)+B0d)/2\n",
    "B0dm=(np.abs(B0d)-B0d)/2\n",
    "B1dp=(np.abs(B1d)+B1d)/2\n",
    "B1dm=(np.abs(B1d)-B1d)/2\n",
    "\n",
    "\n",
    "# initial conditions\n",
    "# np.random.seed(seed=4444)\n",
    "theta_0=np.pi*np.random.rand(Ne)\n",
    "# theta_0=(np.random.rand(Ne)-0.5)*1\n",
    "theta_0d=V.dot(theta_0)\n",
    "omega_0=np.ones(2*Ne)*0\n",
    "\n",
    "a=1\n",
    "\n",
    "t_max = 110 #integration time\n",
    "n_t = 200 #number of timepoints \n",
    "\n",
    "result=integrate_simplicial_kuramoto_full_theta_double(B0d, B0dp ,B0dm, B1d, B1dp, B1dm, theta_0d, t_max, n_t, a, omega_0)\n",
    "\n",
    "times = result.t\n",
    "theta = result.y\n",
    "# theta=V.T.dot(theta)\n",
    "\n",
    "plt.figure()\n",
    "plt.imshow(np.mod(np.around(theta,10),np.around(2*np.pi,10)), aspect='auto',cmap='bwr')\n",
    "plt.title('Phases in the lift')\n",
    "plt.colorbar()\n",
    "\n",
    "op=order_parameter(theta, 4, 1)\n",
    "plt.figure()\n",
    "plt.title('OP in the lift')\n",
    "plt.plot(op[0,:])\n",
    "\n",
    "print('\\theta_0: ',theta[:,-1])\n",
    "print('\\theta_final: ', theta[:,-1])\n",
    "print('\\theta_final: ', np.mod(np.around(theta[:,-1],10),np.around(2*np.pi,10)))\n",
    "\n",
    "\n",
    "print('Unlifted quantities')\n",
    "theta=V.T.dot(theta) # no we bring the final state back down\n",
    "Div=np.mod(np.around(B0.T.dot(theta),10),np.around(2*np.pi,10))\n",
    "Curl=np.mod(np.around(B1.dot(theta),10),np.around(2*np.pi,10))\n",
    "\n",
    "plt.figure()\n",
    "plt.imshow(np.mod(np.around(theta,10),np.around(2*np.pi,10)), aspect='auto',cmap='bwr')\n",
    "plt.title('Phases back down')\n",
    "plt.colorbar()\n",
    "\n",
    "op=order_parameter(theta, 4, 1)\n",
    "plt.figure()\n",
    "plt.title('OP back down')\n",
    "plt.plot(op[0,:])\n",
    "\n",
    "print('\\theta_0: ',theta[:,-1])\n",
    "print('\\theta_final: ', theta[:,-1])\n",
    "print('\\theta_final: ', np.mod(np.around(theta[:,-1],10),np.around(2*np.pi,10)))\n",
    "\n",
    "print('Div: ', Div[:,-1])\n",
    "print('Curl: ', Curl[:,-1])\n",
    "\n",
    "L1=-B0.dot(B0.T)-B1.T.dot(B1)\n",
    "print('L1\\theta must be zero, second one row is modulo 2pi')\n",
    "print('L1\\theta: ', L1.dot(theta[:,-1]))\n",
    "print('L1\\theta: ', np.mod(np.around(L1.dot(theta[:,-1]),10),np.around(2*np.pi,10)))\n",
    "print('dim(Ker(L1)): ', null_space(L1).shape[1])\n",
    "print('Ker(L1): ', null_space(L1))\n",
    "\n",
    "# plt.figure()\n",
    "# plt.imshow(Div, aspect='auto',cmap='bwr')\n",
    "# plt.colorbar()\n",
    "# plt.figure()\n",
    "# plt.imshow(Curl, aspect='auto',cmap='bwr')\n",
    "# plt.colorbar() "
   ]
  },
  {
   "cell_type": "code",
   "execution_count": null,
   "metadata": {
    "collapsed": true
   },
   "outputs": [],
   "source": []
  }
 ],
 "metadata": {
  "kernelspec": {
   "display_name": "Python 2",
   "language": "python",
   "name": "python2"
  },
  "language_info": {
   "codemirror_mode": {
    "name": "ipython",
    "version": 2
   },
   "file_extension": ".py",
   "mimetype": "text/x-python",
   "name": "python",
   "nbconvert_exporter": "python",
   "pygments_lexer": "ipython2",
   "version": "2.7.9"
  }
 },
 "nbformat": 4,
 "nbformat_minor": 2
}
