{
 "cells": [
  {
   "cell_type": "code",
   "execution_count": 1,
   "metadata": {
    "collapsed": true
   },
   "outputs": [],
   "source": [
    "import numpy as np\n",
    "import pylab as plt\n",
    "import networkx as nx\n",
    "import scipy.integrate as integ\n",
    "from scipy.linalg import null_space\n",
    "import math\n",
    "\n",
    "from utils import *\n",
    "\n",
    "%matplotlib inline"
   ]
  },
  {
   "cell_type": "code",
   "execution_count": 2,
   "metadata": {
    "collapsed": true
   },
   "outputs": [],
   "source": [
    "def simplicial_kuramoto_full_theta(t, theta, B0, B1, a, omega_0):#, weights_n, weights_e, weights_f\n",
    "    return omega_0-a*(B0.dot(np.sin(B0.T.dot(theta))))-a*B1.T.dot(np.sin(B1.dot(theta)))\n",
    "#     return omega_0-a*np.diag(we).dot(B0.dot(np.sin(B0.T.dot(theta))))-a*B1.T.dot(np.diag(wf).dot(np.sin(B1.dot(theta))))\n",
    "\n",
    "def integrate_simplicial_kuramoto_full_theta(B0, B1, theta_0, t_max, n_t, a, omega_0):#, weights_n, weights_e, weights_f):\n",
    "    return integ.solve_ivp(lambda t, theta: simplicial_kuramoto_full_theta(t, theta, B0, B1, a, omega_0), [0, t_max], theta_0, t_eval = np.linspace(0, t_max, n_t),method='Radau',rtol=1.49012e-8,atol=1.49012e-8)\n",
    "#     return integ.solve_ivp(lambda t, theta: simplicial_kuramoto_full_theta(t, theta, B0, B1, a, omega_0, degree, weights_n, weights_e, weights_f), [0, t_max], theta_0, t_eval = np.linspace(0, t_max, n_t),method='Radau',rtol=1.49012e-8,atol=1.49012e-8)"
   ]
  },
  {
   "cell_type": "code",
   "execution_count": 3,
   "metadata": {
    "collapsed": true
   },
   "outputs": [],
   "source": [
    "def ntri(A):\n",
    "    # signed incidence matrices for triangles\n",
    "    Nn=A.shape[0]\n",
    "    Ne=int(np.sum(A)/2)\n",
    "    #print Nn, Ne\n",
    "\n",
    "    e=np.zeros((Ne,2))\n",
    "    count=0;\n",
    "    for i in range(Nn):\n",
    "        for j in range(i+1,Nn):\n",
    "            if(A[i,j]>0):\n",
    "                e[count,0]=i\n",
    "                e[count,1]=j\n",
    "                count+=1\n",
    "    print \"edges\"\n",
    "    print e\n",
    "    I=np.zeros((Ne,Nn))\n",
    "    for i in range(Ne):\n",
    "        I[i,int(e[i,0])]=1\n",
    "        I[i,int(e[i,1])]=-1\n",
    "    #print I\n",
    "\n",
    "    Nf=0\n",
    "    for i in range(Nn):\n",
    "        for j in range(i+1,Nn):\n",
    "            for k in range(j+1,Nn):\n",
    "                subA=A[np.ix_([i,j,k],[i,j,k])]\n",
    "                if(np.sum(subA)==6):\n",
    "                    Nf+=1\n",
    "    f=np.zeros((Nf,3))\n",
    "    count=0\n",
    "    for i in range(Nn):\n",
    "        for j in range(i+1,Nn):\n",
    "            for k in range(j+1,Nn):\n",
    "                subA=A[np.ix_([i,j,k],[i,j,k])]\n",
    "                if(np.sum(subA)==6):\n",
    "                    f[count,0]=i\n",
    "                    f[count,1]=j\n",
    "                    f[count,2]=k\n",
    "                    count+=1\n",
    "    print \"faces\"\n",
    "    print f\n",
    "    II=np.zeros((Nf,Ne))\n",
    "    for i in range(f.shape[0]):\n",
    "        for j in [0,-1,-2]:\n",
    "            temp=np.roll(f[i,:],j)\n",
    "            temp=temp[0:2]\n",
    "            for k in range(e.shape[0]):\n",
    "                #print e[k,:],temp\n",
    "                if(((e[k,:]==temp).all())or((e[k,:]==np.roll(temp,1)).all())):\n",
    "                    Irow=k\n",
    "            if(temp[0]<temp[1]):\n",
    "                II[i,Irow]=1\n",
    "            else:\n",
    "                II[i,Irow]=-1\n",
    "    #print II \n",
    "    ntrie=np.sum(II,1)\n",
    "    return I,II#,ntrie, e#, len(ntrie)"
   ]
  },
  {
   "cell_type": "code",
   "execution_count": 4,
   "metadata": {
    "scrolled": false
   },
   "outputs": [
    {
     "name": "stdout",
     "output_type": "stream",
     "text": [
      "edges\n",
      "[[0. 1.]\n",
      " [0. 3.]\n",
      " [1. 2.]\n",
      " [2. 3.]]\n",
      "faces\n",
      "[]\n"
     ]
    },
    {
     "ename": "NameError",
     "evalue": "name 'plotflow' is not defined",
     "output_type": "error",
     "traceback": [
      "\u001b[0;31m---------------------------------------------------------------------------\u001b[0m",
      "\u001b[0;31mNameError\u001b[0m                                 Traceback (most recent call last)",
      "\u001b[0;32m<ipython-input-4-dd99a87ac188>\u001b[0m in \u001b[0;36m<module>\u001b[0;34m()\u001b[0m\n\u001b[1;32m     17\u001b[0m \u001b[0;31m# theta_0=(np.random.rand(Ne)-0.5)*10\u001b[0m\u001b[0;34m\u001b[0m\u001b[0;34m\u001b[0m\u001b[0m\n\u001b[1;32m     18\u001b[0m \u001b[0;34m\u001b[0m\u001b[0m\n\u001b[0;32m---> 19\u001b[0;31m \u001b[0mtheta_final\u001b[0m\u001b[0;34m=\u001b[0m\u001b[0mplotflow\u001b[0m\u001b[0;34m(\u001b[0m\u001b[0mtheta_0\u001b[0m\u001b[0;34m,\u001b[0m\u001b[0mB0\u001b[0m\u001b[0;34m,\u001b[0m\u001b[0mB1\u001b[0m\u001b[0;34m,\u001b[0m\u001b[0;34m'One opposite orientation'\u001b[0m\u001b[0;34m)\u001b[0m\u001b[0;34m\u001b[0m\u001b[0m\n\u001b[0m\u001b[1;32m     20\u001b[0m \u001b[0;34m\u001b[0m\u001b[0m\n\u001b[1;32m     21\u001b[0m \u001b[0;31m# reverse the orientation of the odd one out\u001b[0m\u001b[0;34m\u001b[0m\u001b[0;34m\u001b[0m\u001b[0m\n",
      "\u001b[0;31mNameError\u001b[0m: name 'plotflow' is not defined"
     ]
    }
   ],
   "source": [
    "# cycle graph\n",
    "Nn=4\n",
    "\n",
    "G=nx.cycle_graph(Nn)\n",
    "\n",
    "A=nx.to_numpy_matrix(G)\n",
    "\n",
    "B0,B1=ntri(A)\n",
    "\n",
    "Nn=B0.shape[1]\n",
    "Ne=B0.shape[0]\n",
    "Nf=B1.shape[0]\n",
    "\n",
    "# inital conditions\n",
    "# np.random.seed(seed=4444)\n",
    "theta_0=2*np.pi*np.random.rand(Ne)\n",
    "# theta_0=(np.random.rand(Ne)-0.5)*10\n",
    "\n",
    "theta_final=plotflow(theta_0,B0,B1,'One opposite orientation')\n",
    "\n",
    "# reverse the orientation of the odd one out\n",
    "B0[1,0]=-B0[1,0]\n",
    "B0[1,-1]=-B0[1,-1]\n",
    "\n",
    "plotflow(theta_0,B0,B1,'All same orientations')\n",
    "plotflow(theta_final,B0,B1,'All same orientations') #to check that the stationary state with the odd one out is unstable for the all the same"
   ]
  },
  {
   "cell_type": "markdown",
   "metadata": {},
   "source": [
    "## Line graph"
   ]
  },
  {
   "cell_type": "code",
   "execution_count": null,
   "metadata": {
    "collapsed": true
   },
   "outputs": [],
   "source": [
    "def plotflow(theta_0,B0,B1,plotname):\n",
    "    print(plotname)\n",
    "    omega_0=np.ones(B0.shape[0])*0\n",
    "#     degree=np.absolute(B0).sum(0)\n",
    "    a=10\n",
    "    t_max = 110 #integration time\n",
    "    n_t = 200 #number of timepoints \n",
    "\n",
    "    result=integrate_simplicial_kuramoto_full_theta(B0, B1, theta_0, t_max, n_t, a, omega_0)\n",
    "    times = result.t\n",
    "    theta = result.y\n",
    "    \n",
    "    plt.figure()\n",
    "    plt.imshow(np.mod(np.around(theta,10),np.around(2*np.pi,10)), aspect='auto',cmap='bwr')\n",
    "    plt.title(plotname+' phases')\n",
    "    plt.colorbar()\n",
    "    \n",
    "#     op=order_parameter(theta, 4, 1)\n",
    "    op=order_parameter(np.mod(np.around(theta,10),np.around(2*np.pi,10)), 4, 1)\n",
    "    plt.figure()\n",
    "    plt.title(plotname+' order parameter')\n",
    "    plt.plot(op[0,:])\n",
    "    \n",
    "    print('\\theta_0: ', theta_0)\n",
    "    print('\\theta_final: ',theta[:,-1])\n",
    "    \n",
    "    Div=np.mod(np.around(B0.T.dot(theta),10),np.around(2*np.pi,10))\n",
    "    Curl=np.mod(np.around(B1.dot(theta),10),np.around(2*np.pi,10))\n",
    "    print('Div: ', Div[:,-1])\n",
    "    print('Curl: ', Curl[:,-1])\n",
    "    \n",
    "    L1=-B0.dot(B0.T)-B1.T.dot(B1)\n",
    "    print('L1\\theta: ', L1.dot(theta[:,-1]))\n",
    "    print('L1\\theta (mod 2pi): ', np.mod(np.around(L1.dot(theta[:,-1]),10),np.around(2*np.pi,10)))\n",
    "    print('dim(Ker(L1)): ', null_space(L1).shape[1])\n",
    "    print('Ker(L1): ', null_space(L1))\n",
    "    \n",
    "#     plt.figure()\n",
    "#     plt.imshow(Div, aspect='auto',cmap='bwr')\n",
    "#     plt.title(plotname+' divergence')\n",
    "#     plt.colorbar()\n",
    "#     plt.figure()\n",
    "#     plt.imshow(Curl, aspect='auto',cmap='bwr')\n",
    "#     plt.title(plotname+' curl')\n",
    "#     plt.colorbar()\n",
    "    return theta[:,-1]"
   ]
  },
  {
   "cell_type": "code",
   "execution_count": null,
   "metadata": {
    "scrolled": false
   },
   "outputs": [],
   "source": [
    "# barbell with two 4-cycles\n",
    "Nn=8\n",
    "Ne=9\n",
    "Nf=0\n",
    "B0=np.zeros((Ne,Nn))\n",
    "B0[0,:]=[-1, 1, 0, 0, 0, 0, 0, 0]\n",
    "B0[1,:]=[0, -1, 1, 0, 0, 0, 0, 0]\n",
    "B0[2,:]=[0, 0, -1, 1, 0, 0, 0, 0]\n",
    "B0[3,:]=[1, 0, 0, -1, 0, 0, 0, 0]\n",
    "B0[4,:]=[0, 0, 0, 0, -1, 1, 0, 0]\n",
    "B0[5,:]=[0, 0, 0, 0, 0, -1, 1, 0]\n",
    "B0[6,:]=[0, 0, 0, 0, 0, 0, -1, 1]\n",
    "B0[7,:]=[0, 0, 0, 0, 1, 0, 0, -1]\n",
    "B0[8,:]=[0, 1, 0, 0, 0, 0, 0, -1] #barbell\n",
    "B1=np.zeros((Nf,Ne))\n",
    "\n",
    "# 4-cycle\n",
    "# Nn=4\n",
    "# G=nx.cycle_graph(Nn)\n",
    "# A=nx.to_numpy_matrix(G)\n",
    "# B0,B1=ntri(A)\n",
    "\n",
    "G=nx.from_numpy_matrix(B0.T.dot(B0)-np.diag(np.diag(B0.T.dot(B0))))\n",
    "B0abs=np.abs(B0)\n",
    "# Gedge=nx.from_numpy_matrix(B0.dot(B0.T)-np.diag(np.diag(B0.dot(B0.T))))\n",
    "Gedge=nx.from_numpy_matrix(B0abs.dot(B0abs.T)-np.diag(np.diag(B0abs.dot(B0abs.T))))\n",
    "Aedge=np.abs(B0.dot(B0.T)-np.diag(np.diag(B0.dot(B0.T))))\n",
    "Gline=nx.line_graph(G)\n",
    "Aline=nx.to_numpy_matrix(Gline)\n",
    "# print('Adjacency edge: ',Aedge, Aedge.sum(0))\n",
    "# print('Adjacency line: ',Aline, Aline.sum(0))\n",
    "\n",
    "B0_2=np.asarray(nx.incidence_matrix(Gedge,oriented=False).todense())\n",
    "B0_2_or=np.asarray(nx.incidence_matrix(Gedge,oriented=True).todense())\n",
    "I0=np.asarray(nx.incidence_matrix(Gline,oriented=False).todense())\n",
    "I0_or=np.asarray(nx.incidence_matrix(Gline,oriented=True).todense())\n",
    "print('Incidence from adjacency edge',B0_2_or,B0_2_or.shape)\n",
    "print('Incidence from adjacency line',I0_or,I0_or.sum(1))\n",
    "\n",
    "# different graphs plots\n",
    "plt.figure()\n",
    "pos=nx.spring_layout(Gedge)\n",
    "nx.draw_networkx(G, pos=pos)\n",
    "plt.title('G')\n",
    "plt.show()\n",
    "\n",
    "plt.figure()\n",
    "pos=nx.spring_layout(Gedge)\n",
    "nx.draw_networkx(Gedge,pos=pos)\n",
    "plt.title('Gedge')\n",
    "plt.show()\n",
    "\n",
    "plt.figure()\n",
    "pos=nx.spring_layout(Gline)\n",
    "nx.draw_networkx(Gline,pos=pos)\n",
    "plt.title('Gline')\n",
    "plt.show()\n",
    "\n",
    "print(B0.shape,B0_2.shape,I0.shape)"
   ]
  },
  {
   "cell_type": "code",
   "execution_count": null,
   "metadata": {
    "scrolled": false
   },
   "outputs": [],
   "source": [
    "# inital conditions\n",
    "# np.random.seed(seed=4444)\n",
    "\n",
    "theta_0=2*np.pi*np.random.rand(Ne)\n",
    "\n",
    "# theta_0=(np.random.rand(Ne)-0.5)*10\n",
    "Ne=B0.shape[0]\n",
    "B1=np.zeros((Nf,Ne))\n",
    "\n",
    "theta_0=2*np.pi*np.random.rand(Ne)\n",
    "theta_final_edge=plotflow(theta_0,B0,B1,'Incidence from the graph, oriented')\n",
    "theta_final_line=plotflow(theta_0,I0_or,B1,'Incidence from the line graph, oriented')\n",
    "theta_final_edge=plotflow(theta_0,B0_2_or,B1,'Incidence from the edge graph, oriented')\n",
    "\n",
    "# Ne=I0.shape[1]\n",
    "# B1=np.zeros((Nf,Ne))\n",
    "# theta_0=2*np.pi*np.random.rand(Ne)\n",
    "# theta_final_line=plotflow(theta_0,I0_or.T,B1,'Incidence from the line graph, oriented')\n",
    "# theta_final_edge=plotflow(theta_0,B0_2_or.T,B1,'Incidence from the edge graph, oriented')\n",
    "# theta_final_line=plotflow(theta_0,I0,B1,'Incidence from the line graph')\n",
    "# theta_final_edge=plotflow(theta_0,B0_2,B1,'Incidence from the edge graph')"
   ]
  },
  {
   "cell_type": "code",
   "execution_count": null,
   "metadata": {
    "collapsed": true
   },
   "outputs": [],
   "source": []
  }
 ],
 "metadata": {
  "kernelspec": {
   "display_name": "Python 2",
   "language": "python",
   "name": "python2"
  },
  "language_info": {
   "codemirror_mode": {
    "name": "ipython",
    "version": 2
   },
   "file_extension": ".py",
   "mimetype": "text/x-python",
   "name": "python",
   "nbconvert_exporter": "python",
   "pygments_lexer": "ipython2",
   "version": "2.7.9"
  }
 },
 "nbformat": 4,
 "nbformat_minor": 2
}
