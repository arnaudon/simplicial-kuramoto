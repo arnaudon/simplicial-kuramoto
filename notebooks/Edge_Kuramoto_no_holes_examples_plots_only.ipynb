{
 "cells": [
  {
   "cell_type": "code",
   "execution_count": null,
   "metadata": {
    "collapsed": true
   },
   "outputs": [],
   "source": [
    "import pickle\n",
    "import random\n",
    "\n",
    "import matplotlib\n",
    "import matplotlib.pyplot as plt\n",
    "import networkx as nx\n",
    "import numpy as np\n",
    "import scipy as sc\n",
    "from scipy.spatial import Delaunay\n",
    "from scipy.spatial.distance import cdist\n",
    "\n",
    "from simplicial_kuramoto import SimplicialComplex\n",
    "from simplicial_kuramoto.frustration_scan import *\n",
    "from simplicial_kuramoto.graph_generator import modular_graph\n",
    "from simplicial_kuramoto.integrators import *\n",
    "from simplicial_kuramoto.plotting import *"
   ]
  },
  {
   "cell_type": "markdown",
   "metadata": {},
   "source": [
    "## Barbell 2 3-cliques"
   ]
  },
  {
   "cell_type": "code",
   "execution_count": null,
   "metadata": {},
   "outputs": [],
   "source": [
    "G = nx.Graph()\n",
    "\n",
    "G.add_edge(0, 1, weight=1, edge_com=0)\n",
    "G.add_edge(1, 2, weight=1, edge_com=0)\n",
    "G.add_edge(2, 0, weight=1, edge_com=0)\n",
    "\n",
    "G.add_edge(0, 3, weight=1, edge_com=1)\n",
    "\n",
    "G.add_edge(3, 4, weight=1, edge_com=2)\n",
    "G.add_edge(4, 5, weight=1, edge_com=2)\n",
    "G.add_edge(5, 3, weight=1, edge_com=2)\n",
    "\n",
    "node_com_dict = dict(zip(list(np.linspace(0, 5, 6).astype(int)), [0, 0, 0, 1, 1, 1]))\n",
    "nx.set_node_attributes(G, node_com_dict, \"node_com\")\n",
    "\n",
    "edge_community_assignment = np.array(\n",
    "    list(nx.get_edge_attributes(G, \"edge_com\").values())\n",
    ")\n",
    "\n",
    "Gsc = SimplicialComplex(graph=G, no_faces=False)\n",
    "\n",
    "plt.figure()\n",
    "nx.draw_networkx(G)\n",
    "plt.show()"
   ]
  },
  {
   "cell_type": "code",
   "execution_count": null,
   "metadata": {},
   "outputs": [],
   "source": [
    "# the bar edge is 2\n",
    "folder = \"./results/\"\n",
    "\n",
    "path = folder + \"barbell_2_3.pkl\"\n",
    "filename = \"barbell_2_3.pdf\"\n",
    "plot_phases(path, filename)\n",
    "plot_recurences(path, filename, eps=0.1, steps=10)\n",
    "plot_rqa(path, filename, frac=0.2, min_rr=0.3)"
   ]
  },
  {
   "cell_type": "code",
   "execution_count": null,
   "metadata": {},
   "outputs": [],
   "source": [
    "# the bar edge is 2\n",
    "folder = \"./results/\"\n",
    "\n",
    "path = folder + \"barbell_2_3_flip.pkl\"\n",
    "filename = \"barbell_2_3_flip.pdf\"\n",
    "plot_phases(path, filename)\n",
    "plot_recurences(path, filename, eps=0.1, steps=10)\n",
    "plot_rqa(path, filename, frac=0.2, min_rr=0.3)"
   ]
  },
  {
   "cell_type": "markdown",
   "metadata": {},
   "source": [
    "## Barbell 2 4-cliques"
   ]
  },
  {
   "cell_type": "code",
   "execution_count": null,
   "metadata": {
    "scrolled": true
   },
   "outputs": [],
   "source": [
    "G = nx.Graph()\n",
    "\n",
    "G.add_edge(0, 1, weight=1, edge_com=0)\n",
    "G.add_edge(1, 2, weight=1, edge_com=0)\n",
    "G.add_edge(2, 3, weight=1, edge_com=0)\n",
    "G.add_edge(0, 3, weight=1, edge_com=0)\n",
    "G.add_edge(0, 2, weight=1, edge_com=0)\n",
    "G.add_edge(1, 3, weight=1, edge_com=0)\n",
    "\n",
    "G.add_edge(0, 4, weight=1, edge_com=1)\n",
    "\n",
    "G.add_edge(4, 5, weight=1, edge_com=2)\n",
    "G.add_edge(5, 6, weight=1, edge_com=2)\n",
    "G.add_edge(6, 7, weight=1, edge_com=2)\n",
    "G.add_edge(4, 7, weight=1, edge_com=2)\n",
    "G.add_edge(4, 6, weight=1, edge_com=2)\n",
    "G.add_edge(5, 7, weight=1, edge_com=2)\n",
    "\n",
    "node_com_dict = dict(\n",
    "    zip(list(np.linspace(0, 7, 8).astype(int)), [0, 0, 0, 0, 1, 1, 1, 1])\n",
    ")\n",
    "nx.set_node_attributes(G, node_com_dict, \"node_com\")\n",
    "\n",
    "edge_community_assignment = np.array(\n",
    "    list(nx.get_edge_attributes(G, \"edge_com\").values())\n",
    ")\n",
    "\n",
    "Gsc = SimplicialComplex(graph=G, no_faces=False)\n",
    "\n",
    "plt.figure()\n",
    "nx.draw_networkx(G)\n",
    "plt.show()"
   ]
  },
  {
   "cell_type": "code",
   "execution_count": null,
   "metadata": {},
   "outputs": [],
   "source": [
    "# the bar edge is 3\n",
    "folder = \"./results/\"\n",
    "\n",
    "path = folder + \"barbell_2_4.pkl\"\n",
    "filename = \"barbell_2_4.pdf\"\n",
    "plot_phases(path, filename)\n",
    "plot_recurences(path, filename, eps=0.1, steps=10)\n",
    "plot_rqa(path, filename, frac=0.2, min_rr=0.3)"
   ]
  },
  {
   "cell_type": "code",
   "execution_count": null,
   "metadata": {},
   "outputs": [],
   "source": [
    "# the bar edge is 3\n",
    "folder = \"./results/\"\n",
    "\n",
    "path = folder + \"barbell_2_4_flip.pkl\"\n",
    "filename = \"barbell_2_4_flip.pdf\"\n",
    "plot_phases(path, filename)\n",
    "plot_recurences(path, filename, eps=0.1, steps=10)\n",
    "plot_rqa(path, filename, frac=0.2, min_rr=0.3)"
   ]
  },
  {
   "cell_type": "markdown",
   "metadata": {},
   "source": [
    "## Two faces - common node"
   ]
  },
  {
   "cell_type": "code",
   "execution_count": null,
   "metadata": {},
   "outputs": [],
   "source": [
    "G = nx.Graph()\n",
    "\n",
    "G.add_edge(0, 1, weight=1, edge_com=0)\n",
    "G.add_edge(1, 2, weight=1, edge_com=0)\n",
    "G.add_edge(2, 0, weight=1, edge_com=0)\n",
    "\n",
    "G.add_edge(0, 3, weight=1, edge_com=1)\n",
    "G.add_edge(3, 4, weight=1, edge_com=1)\n",
    "G.add_edge(4, 0, weight=1, edge_com=1)\n",
    "\n",
    "node_com_dict = dict(zip(list(np.linspace(0, 4, 5).astype(int)), [0, 0, 0, 0, 0]))\n",
    "nx.set_node_attributes(G, node_com_dict, \"node_com\")\n",
    "\n",
    "edge_community_assignment = np.array(\n",
    "    list(nx.get_edge_attributes(G, \"edge_com\").values())\n",
    ")\n",
    "\n",
    "Gsc = SimplicialComplex(graph=G, no_faces=False)\n",
    "\n",
    "plt.figure()\n",
    "nx.draw_networkx(G)\n",
    "plt.show()"
   ]
  },
  {
   "cell_type": "code",
   "execution_count": null,
   "metadata": {},
   "outputs": [],
   "source": [
    "folder = \"./results/\"\n",
    "\n",
    "path = folder + \"2_faces_common_node.pkl\"\n",
    "filename = \"2_faces_common_node.pdf\"\n",
    "plot_phases(path, filename)\n",
    "plot_recurences(path, filename, eps=0.1, steps=10)\n",
    "plot_rqa(path, filename, frac=0.2, min_rr=0.3)"
   ]
  },
  {
   "cell_type": "code",
   "execution_count": null,
   "metadata": {},
   "outputs": [],
   "source": [
    "# the flipped edge makes one triangle a directed cycle\n",
    "folder = \"./results/\"\n",
    "\n",
    "path = folder + \"2_faces_common_node_dircycle.pkl\"\n",
    "filename = \"2_faces_common_node_dircycle.pdf\"\n",
    "plot_phases(path, filename)\n",
    "plot_recurences(path, filename, eps=0.1, steps=10)\n",
    "plot_rqa(path, filename, frac=0.2, min_rr=0.3)"
   ]
  },
  {
   "cell_type": "markdown",
   "metadata": {
    "collapsed": true
   },
   "source": [
    "## Two faces - common edge"
   ]
  },
  {
   "cell_type": "code",
   "execution_count": null,
   "metadata": {},
   "outputs": [],
   "source": [
    "G = nx.Graph()\n",
    "\n",
    "G.add_edge(0, 1, weight=1, edge_com=0)\n",
    "G.add_edge(1, 2, weight=1, edge_com=0)\n",
    "G.add_edge(2, 3, weight=1, edge_com=0)\n",
    "G.add_edge(3, 0, weight=1, edge_com=0)\n",
    "G.add_edge(0, 2, weight=1, edge_com=0)\n",
    "\n",
    "node_com_dict = dict(zip(list(np.linspace(0, 3, 4).astype(int)), [0, 0, 0, 0]))\n",
    "nx.set_node_attributes(G, node_com_dict, \"node_com\")\n",
    "\n",
    "edge_community_assignment = np.array(\n",
    "    list(nx.get_edge_attributes(G, \"edge_com\").values())\n",
    ")\n",
    "\n",
    "Gsc = SimplicialComplex(graph=G, no_faces=False)\n",
    "\n",
    "plt.figure()\n",
    "nx.draw_networkx(G)\n",
    "plt.show()"
   ]
  },
  {
   "cell_type": "code",
   "execution_count": null,
   "metadata": {},
   "outputs": [],
   "source": [
    "folder = \"./results/\"\n",
    "\n",
    "path = folder + \"2_faces_common_edge.pkl\"\n",
    "filename = \"2_faces_common_edge.pdf\"\n",
    "plot_phases(path, filename)\n",
    "plot_recurences(path, filename, eps=0.1, steps=10)\n",
    "plot_rqa(path, filename, frac=0.2, min_rr=0.3)"
   ]
  },
  {
   "cell_type": "code",
   "execution_count": null,
   "metadata": {},
   "outputs": [],
   "source": [
    "folder = \"./results/\"\n",
    "\n",
    "path = folder + \"2_faces_common_edge_flip.pkl\"\n",
    "filename = \"2_faces_common_edge_flip.pdf\"\n",
    "plot_phases(path, filename)\n",
    "plot_recurences(path, filename, eps=0.1, steps=10)\n",
    "plot_rqa(path, filename, frac=0.2, min_rr=0.3)"
   ]
  }
 ],
 "metadata": {
  "kernelspec": {
   "display_name": "Python 3",
   "language": "python",
   "name": "python3"
  },
  "language_info": {
   "codemirror_mode": {
    "name": "ipython",
    "version": 3
   },
   "file_extension": ".py",
   "mimetype": "text/x-python",
   "name": "python",
   "nbconvert_exporter": "python",
   "pygments_lexer": "ipython3",
   "version": "3.7.4"
  }
 },
 "nbformat": 4,
 "nbformat_minor": 2
}
