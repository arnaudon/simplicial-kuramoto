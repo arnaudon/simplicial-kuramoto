{
 "cells": [
  {
   "cell_type": "code",
   "execution_count": null,
   "metadata": {
    "collapsed": true
   },
   "outputs": [],
   "source": [
    "import pickle\n",
    "import random\n",
    "\n",
    "import matplotlib\n",
    "import matplotlib.pyplot as plt\n",
    "import networkx as nx\n",
    "import numpy as np\n",
    "import scipy as sc\n",
    "from scipy.spatial import Delaunay\n",
    "from scipy.spatial.distance import cdist\n",
    "\n",
    "from simplicial_kuramoto import SimplicialComplex\n",
    "from simplicial_kuramoto.frustration_scan import *\n",
    "from simplicial_kuramoto.graph_generator import modular_graph\n",
    "from simplicial_kuramoto.integrators import *\n",
    "from simplicial_kuramoto.plotting import *\n",
    "from simplicial_kuramoto.sub_space_projections import *"
   ]
  },
  {
   "cell_type": "code",
   "execution_count": null,
   "metadata": {
    "collapsed": true
   },
   "outputs": [],
   "source": [
    "def get_delauney_holes_multi(n_points, centre_holes, radius, points=None):\n",
    "\n",
    "    if points is None:\n",
    "        x = np.random.rand(n_points)\n",
    "        y = np.random.rand(n_points)\n",
    "        points = np.vstack([x, y]).T\n",
    "\n",
    "    tri = Delaunay(points)\n",
    "\n",
    "    edge_list = []\n",
    "\n",
    "    idx_inside = np.empty([0], dtype=int)\n",
    "    for i in range(centre_holes.shape[0]):\n",
    "        idx_inside = np.hstack(\n",
    "            [idx_inside, encloses([centre_holes[i]], points, radius)[1]]\n",
    "        )\n",
    "\n",
    "    for t in tri.simplices:\n",
    "\n",
    "        if t[0] not in idx_inside and t[1] not in idx_inside:\n",
    "            edge_list.append([t[0], t[1]])\n",
    "\n",
    "        if t[1] not in idx_inside and t[2] not in idx_inside:\n",
    "            edge_list.append([t[1], t[2]])\n",
    "\n",
    "        if t[0] not in idx_inside and t[2] not in idx_inside:\n",
    "            edge_list.append([t[0], t[2]])\n",
    "\n",
    "    graph = nx.Graph()\n",
    "    # graph.add_nodes_from(np.arange(len(points)))\n",
    "    graph.add_edges_from(edge_list)\n",
    "\n",
    "    Gcc = sorted(nx.connected_components(graph), key=len, reverse=True)\n",
    "    g = graph.subgraph(Gcc[0])\n",
    "\n",
    "    return g, points\n",
    "\n",
    "\n",
    "def encloses(centre, points, radius):\n",
    "    inside_hole = cdist(centre, points, \"euclidean\") <= radius\n",
    "    idx_inside = np.where(inside_hole)\n",
    "\n",
    "    return idx_inside\n",
    "\n",
    "\n",
    "# Plotting the nullspace of L1\n",
    "\n",
    "\n",
    "def Null_Space_Plot(graph):\n",
    "    complex_delaunay = SimplicialComplex(graph=graph, no_faces=False)\n",
    "\n",
    "    KerL1 = sc.linalg.null_space(complex_delaunay.L1.todense())\n",
    "\n",
    "    for i in range(KerL1.shape[1]):\n",
    "        plt.figure()\n",
    "        nx.draw_networkx_nodes(graph, pos=points, node_size=5)\n",
    "        nx.draw_networkx_edges(\n",
    "            graph,\n",
    "            pos=points,\n",
    "            edge_color=KerL1[:, i],\n",
    "            edge_cmap=plt.get_cmap(\"bwr\"),\n",
    "            width=5,\n",
    "            edge_vmin=np.min(KerL1[:, i]),\n",
    "            edge_vmax=np.max(KerL1[:, i]),\n",
    "        )\n",
    "        plt.title(\"Null space of L1, vector \" + str(i))\n",
    "        plt.show()"
   ]
  },
  {
   "cell_type": "code",
   "execution_count": null,
   "metadata": {
    "collapsed": true
   },
   "outputs": [],
   "source": [
    "def is_in_subspace(vector, matrix):\n",
    "    ns = sc.linalg.null_space(matrix.todense())\n",
    "\n",
    "    coeff = vector.dot(ns)\n",
    "    ns_dim = coeff.shape\n",
    "\n",
    "    vector_hat = np.zeros(ns.shape[0])\n",
    "\n",
    "    for i in range(ns.shape[1]):\n",
    "        vector_hat += coeff[i] * ns[:, i]\n",
    "\n",
    "    error = np.sum(np.abs(vector - vector_hat))\n",
    "\n",
    "    return error, vector_hat, coeff, ns_dim"
   ]
  },
  {
   "cell_type": "markdown",
   "metadata": {},
   "source": [
    "# One hole"
   ]
  },
  {
   "cell_type": "code",
   "execution_count": null,
   "metadata": {},
   "outputs": [],
   "source": [
    "np.random.seed(4444)\n",
    "\n",
    "centre_hole_1 = np.array([[0.5, 0.5]])\n",
    "\n",
    "radius = 0.0\n",
    "\n",
    "graph, points = get_delauney_holes_multi(100, centre_hole_1, radius)\n",
    "pos = dict(enumerate(points))\n",
    "nx.draw(graph, pos, node_size=30)\n",
    "\n",
    "Gsc = SimplicialComplex(graph=graph, no_faces=False)"
   ]
  },
  {
   "cell_type": "code",
   "execution_count": null,
   "metadata": {},
   "outputs": [],
   "source": [
    "folder = \"./results/\"\n",
    "\n",
    "path = folder + \"Delaunay_one_hole_r_0.pkl\"\n",
    "filename = \"Delaunay_one_hole_r_0.pdf\"\n",
    "plot_phases(path, filename)\n",
    "plot_recurences(path, filename, eps=0.1, steps=10)\n",
    "plot_rqa(path, filename, frac=0.2, min_rr=0.3)\n",
    "plot_harm(path, filename)\n",
    "plot_grad(path, filename)\n",
    "plot_curl(path, filename)"
   ]
  },
  {
   "cell_type": "code",
   "execution_count": null,
   "metadata": {},
   "outputs": [],
   "source": [
    "np.random.seed(4444)\n",
    "\n",
    "centre_hole_1 = np.array([[0.5, 0.5]])\n",
    "\n",
    "radius = 0.1\n",
    "\n",
    "graph, points = get_delauney_holes_multi(100, centre_hole_1, radius)\n",
    "pos = dict(enumerate(points))\n",
    "nx.draw(graph, pos, node_size=30)\n",
    "\n",
    "Gsc = SimplicialComplex(graph=graph, no_faces=False)"
   ]
  },
  {
   "cell_type": "code",
   "execution_count": null,
   "metadata": {},
   "outputs": [],
   "source": [
    "folder = \"./results/\"\n",
    "\n",
    "path = folder + \"Delaunay_one_hole_r_0_1.pkl\"\n",
    "filename = \"Delaunay_one_hole_r_0_1.pdf\"\n",
    "plot_phases(path, filename)\n",
    "plot_recurences(path, filename, eps=0.1, steps=10)\n",
    "plot_rqa(path, filename, frac=0.2, min_rr=0.3)\n",
    "plot_harm(path, filename)\n",
    "plot_grad(path, filename)\n",
    "plot_curl(path, filename)"
   ]
  },
  {
   "cell_type": "code",
   "execution_count": null,
   "metadata": {},
   "outputs": [],
   "source": [
    "np.random.seed(4444)\n",
    "\n",
    "centre_hole_1 = np.array([[0.5, 0.5]])\n",
    "\n",
    "radius = 0.2\n",
    "\n",
    "graph, points = get_delauney_holes_multi(100, centre_hole_1, radius)\n",
    "pos = dict(enumerate(points))\n",
    "nx.draw(graph, pos, node_size=30)\n",
    "\n",
    "Gsc = SimplicialComplex(graph=graph, no_faces=False)"
   ]
  },
  {
   "cell_type": "code",
   "execution_count": null,
   "metadata": {},
   "outputs": [],
   "source": [
    "folder = \"./results/\"\n",
    "\n",
    "path = folder + \"Delaunay_one_hole_r_0_2.pkl\"\n",
    "filename = \"Delaunay_one_hole_r_0_2.pdf\"\n",
    "plot_phases(path, filename)\n",
    "plot_recurences(path, filename, eps=0.1, steps=10)\n",
    "plot_rqa(path, filename, frac=0.2, min_rr=0.3)\n",
    "plot_harm(path, filename)\n",
    "plot_grad(path, filename)\n",
    "plot_curl(path, filename)"
   ]
  },
  {
   "cell_type": "code",
   "execution_count": null,
   "metadata": {},
   "outputs": [],
   "source": [
    "np.random.seed(4444)\n",
    "\n",
    "centre_hole_1 = np.array([[0.5, 0.5]])\n",
    "\n",
    "radius = 0.4\n",
    "\n",
    "graph, points = get_delauney_holes_multi(100, centre_hole_1, radius)\n",
    "pos = dict(enumerate(points))\n",
    "nx.draw(graph, pos, node_size=30)\n",
    "\n",
    "Gsc = SimplicialComplex(graph=graph, no_faces=False)"
   ]
  },
  {
   "cell_type": "code",
   "execution_count": null,
   "metadata": {},
   "outputs": [],
   "source": [
    "folder = \"./results/\"\n",
    "\n",
    "path = folder + \"Delaunay_one_hole_r_0_4.pkl\"\n",
    "filename = \"Delaunay_one_hole_r_0_4.pdf\"\n",
    "plot_phases(path, filename)\n",
    "plot_recurences(path, filename, eps=0.1, steps=10)\n",
    "plot_rqa(path, filename, frac=0.2, min_rr=0.3)\n",
    "plot_harm(path, filename)\n",
    "plot_grad(path, filename)\n",
    "plot_curl(path, filename)"
   ]
  }
 ],
 "metadata": {
  "kernelspec": {
   "display_name": "Python 3",
   "language": "python",
   "name": "python3"
  },
  "language_info": {
   "codemirror_mode": {
    "name": "ipython",
    "version": 3
   },
   "file_extension": ".py",
   "mimetype": "text/x-python",
   "name": "python",
   "nbconvert_exporter": "python",
   "pygments_lexer": "ipython3",
   "version": "3.7.4"
  }
 },
 "nbformat": 4,
 "nbformat_minor": 4
}
