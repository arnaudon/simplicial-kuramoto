{
 "cells": [
  {
   "cell_type": "code",
   "execution_count": null,
   "metadata": {
    "collapsed": true
   },
   "outputs": [],
   "source": [
    "import pickle\n",
    "import random\n",
    "\n",
    "import matplotlib\n",
    "import matplotlib.pyplot as plt\n",
    "import networkx as nx\n",
    "import numpy as np\n",
    "import scipy as sc\n",
    "from scipy.spatial import Delaunay\n",
    "from scipy.spatial.distance import cdist\n",
    "\n",
    "from simplicial_kuramoto import SimplicialComplex\n",
    "from simplicial_kuramoto.graph_generator import modular_graph\n",
    "from simplicial_kuramoto.integrators import *\n",
    "from simplicial_kuramoto.plotting import *"
   ]
  },
  {
   "cell_type": "code",
   "execution_count": null,
   "metadata": {},
   "outputs": [],
   "source": [
    "# modular graph\n",
    "Nc = 3\n",
    "Nn = 10\n",
    "Nie = 5\n",
    "G = modular_graph(Nc, Nn, Nie, rando=True)\n",
    "Gsc = SimplicialComplex(graph=G, no_faces=False)\n",
    "\n",
    "node_community_assignment = np.array(\n",
    "    list(nx.get_node_attributes(G, \"community\").values())\n",
    ")\n",
    "edge_community_assignment = np.array(\n",
    "    list(nx.get_edge_attributes(G, \"community\").values())\n",
    ")\n",
    "\n",
    "\n",
    "plt.figure()\n",
    "nx.draw_networkx(G)\n",
    "plt.show()"
   ]
  },
  {
   "cell_type": "code",
   "execution_count": null,
   "metadata": {},
   "outputs": [],
   "source": [
    "# normal node Kuramoto\n",
    "# np.random.seed(0)\n",
    "# initial_phase = np.ones(Gsc.n_edges)#np.random.uniform(0, 2 * np.pi, Gsc.n_edges)\n",
    "initial_phase = np.random.uniform(0, 2 * np.pi, Gsc.n_edges)\n",
    "# np.ones(Gsc.n_edges)#np.random.uniform(0, 2 * np.pi, Gsc.n_edges)\n",
    "# initial_phase = np.concatenate((np.eye(len(graph.nodes -np.eye(len(graph.nodes))), axis=0).dot(initial_phase)\n",
    "\n",
    "\n",
    "t_max = 50\n",
    "n_t = 100\n",
    "alpha_1 = 0\n",
    "alpha_2 = 1.5\n",
    "# alpha_2=np.random.uniform(0, 2 * np.pi, Gsc.lifted_N1.shape[0]) # np.ones(Gsc.lifted_N1.shape[0])*np.pi\n",
    "\n",
    "initial_phase = np.hstack([initial_phase, -initial_phase])\n",
    "\n",
    "\n",
    "edge_result = integrate_edge_kuramoto(\n",
    "    Gsc, initial_phase, t_max, n_t, alpha_1=alpha_1, alpha_2=alpha_2\n",
    ")\n",
    "plot_edge_kuramoto(edge_result)"
   ]
  },
  {
   "cell_type": "code",
   "execution_count": null,
   "metadata": {},
   "outputs": [],
   "source": [
    "op = module_order_parameter(edge_result.y, edge_community_assignment)\n",
    "plt.figure()\n",
    "plt.plot(op[0:3, :].T)\n",
    "plt.show\n",
    "plt.ylim([0, 1])\n",
    "\n",
    "print(Shanahan_indices(op))"
   ]
  },
  {
   "cell_type": "code",
   "execution_count": null,
   "metadata": {},
   "outputs": [],
   "source": [
    "ce = coalition_entropy(op)\n",
    "ce"
   ]
  },
  {
   "cell_type": "code",
   "execution_count": null,
   "metadata": {},
   "outputs": [],
   "source": [
    "gop, phase_gradient = module_gradient_parameter(\n",
    "    edge_result.y, edge_community_assignment\n",
    ")\n",
    "plt.imshow(phase_gradient)\n",
    "plt.figure()\n",
    "plt.plot(gop.T)\n",
    "plt.show\n",
    "\n",
    "print(coalition_entropy(gop))"
   ]
  }
 ],
 "metadata": {
  "kernelspec": {
   "display_name": "Python 3",
   "language": "python",
   "name": "python3"
  },
  "language_info": {
   "codemirror_mode": {
    "name": "ipython",
    "version": 3
   },
   "file_extension": ".py",
   "mimetype": "text/x-python",
   "name": "python",
   "nbconvert_exporter": "python",
   "pygments_lexer": "ipython3",
   "version": "3.7.4"
  }
 },
 "nbformat": 4,
 "nbformat_minor": 2
}
