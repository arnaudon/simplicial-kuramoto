{
 "cells": [
  {
   "cell_type": "code",
   "execution_count": null,
   "metadata": {
    "collapsed": true
   },
   "outputs": [],
   "source": [
    "import pickle\n",
    "import random\n",
    "\n",
    "import matplotlib\n",
    "import matplotlib.pyplot as plt\n",
    "import networkx as nx\n",
    "import numpy as np\n",
    "import scipy as sc\n",
    "from scipy.spatial import Delaunay\n",
    "from scipy.spatial.distance import cdist\n",
    "\n",
    "from simplicial_kuramoto import SimplicialComplex\n",
    "from simplicial_kuramoto.graph_generator import modular_graph\n",
    "from simplicial_kuramoto.integrators import *\n",
    "from simplicial_kuramoto.plotting import *"
   ]
  },
  {
   "cell_type": "code",
   "execution_count": null,
   "metadata": {
    "collapsed": true
   },
   "outputs": [],
   "source": [
    "def get_delauney_holes_multi(n_points, centre_holes, radius, points=None):\n",
    "\n",
    "    if points is None:\n",
    "        x = np.random.rand(n_points)\n",
    "        y = np.random.rand(n_points)\n",
    "        points = np.vstack([x, y]).T\n",
    "\n",
    "    tri = Delaunay(points)\n",
    "\n",
    "    edge_list = []\n",
    "\n",
    "    idx_inside = np.empty([0], dtype=int)\n",
    "    for i in range(centre_holes.shape[0]):\n",
    "        idx_inside = np.hstack(\n",
    "            [idx_inside, encloses([centre_holes[i]], points, radius)[1]]\n",
    "        )\n",
    "\n",
    "    for t in tri.simplices:\n",
    "\n",
    "        if t[0] not in idx_inside and t[1] not in idx_inside:\n",
    "            edge_list.append([t[0], t[1]])\n",
    "\n",
    "        if t[1] not in idx_inside and t[2] not in idx_inside:\n",
    "            edge_list.append([t[1], t[2]])\n",
    "\n",
    "        if t[0] not in idx_inside and t[2] not in idx_inside:\n",
    "            edge_list.append([t[0], t[2]])\n",
    "\n",
    "    graph = nx.Graph()\n",
    "    # graph.add_nodes_from(np.arange(len(points)))\n",
    "    graph.add_edges_from(edge_list)\n",
    "\n",
    "    Gcc = sorted(nx.connected_components(graph), key=len, reverse=True)\n",
    "    g = graph.subgraph(Gcc[0])\n",
    "\n",
    "    return g, points\n",
    "\n",
    "\n",
    "def encloses(centre, points, radius):\n",
    "    inside_hole = cdist(centre, points, \"euclidean\") <= radius\n",
    "    idx_inside = np.where(inside_hole)\n",
    "\n",
    "    return idx_inside\n",
    "\n",
    "\n",
    "# Plotting the nullspace of L1\n",
    "\n",
    "\n",
    "def Null_Space_Plot(graph):\n",
    "    complex_delaunay = SimplicialComplex(graph=graph, no_faces=False)\n",
    "\n",
    "    KerL1 = sc.linalg.null_space(complex_delaunay.L1.todense())\n",
    "\n",
    "    for i in range(KerL1.shape[1]):\n",
    "        plt.figure()\n",
    "        nx.draw_networkx_nodes(graph, pos=points, node_size=5)\n",
    "        nx.draw_networkx_edges(\n",
    "            graph,\n",
    "            pos=points,\n",
    "            edge_color=KerL1[:, i],\n",
    "            edge_cmap=plt.get_cmap(\"bwr\"),\n",
    "            width=5,\n",
    "            edge_vmin=np.min(KerL1[:, i]),\n",
    "            edge_vmax=np.max(KerL1[:, i]),\n",
    "        )\n",
    "        plt.title(\"Null space of L1, vector \" + str(i))\n",
    "        plt.show()"
   ]
  },
  {
   "cell_type": "markdown",
   "metadata": {},
   "source": [
    "# Two holes"
   ]
  },
  {
   "cell_type": "code",
   "execution_count": null,
   "metadata": {},
   "outputs": [],
   "source": [
    "centre_hole_1 = np.array([[0.25, 0.25]])\n",
    "centre_hole_2 = np.array([[0.75, 0.75]])\n",
    "\n",
    "centre_holes = np.concatenate((centre_hole_1, centre_hole_2), axis=0)\n",
    "\n",
    "radius = 0.1\n",
    "\n",
    "graph, points = get_delauney_holes_multi(100, centre_holes, radius)\n",
    "pos = dict(enumerate(points))\n",
    "nx.draw(graph, pos, node_size=30)"
   ]
  },
  {
   "cell_type": "code",
   "execution_count": null,
   "metadata": {},
   "outputs": [],
   "source": [
    "np.random.seed(0)\n",
    "\n",
    "t_max = 100\n",
    "n_t = 100\n",
    "labels = dict(((u, v), d) for d, (u, v) in enumerate(graph.edges))\n",
    "\n",
    "\n",
    "Null_Space_Plot(graph)\n",
    "\n",
    "\n",
    "initial_phase = np.random.uniform(0, 2 * np.pi, len(graph.edges))\n",
    "complex_delaunay = SimplicialComplex(graph=graph, no_faces=False)\n",
    "KerL1 = sc.linalg.null_space(complex_delaunay.L1.todense())"
   ]
  },
  {
   "cell_type": "code",
   "execution_count": null,
   "metadata": {
    "collapsed": true
   },
   "outputs": [],
   "source": [
    "edge_result = integrate_edge_kuramoto(\n",
    "    complex_delaunay, initial_phase, t_max, n_t, alpha_1=1, alpha_2=0\n",
    ")"
   ]
  },
  {
   "cell_type": "code",
   "execution_count": null,
   "metadata": {},
   "outputs": [],
   "source": [
    "# take the the null space vectors and multiply by the phase from solver\n",
    "# then take average across time\n",
    "\n",
    "# solution 1\n",
    "x1 = KerL1[:, 0]\n",
    "y1 = edge_result.y * x1[:, None]\n",
    "plt.plot(y1.mean(axis=1))\n",
    "\n",
    "# solution 2\n",
    "x2 = KerL1[:, 1]\n",
    "y2 = edge_result.y * x2[:, None]\n",
    "plt.plot(y2.mean(axis=1))\n",
    "\n",
    "# set some limit\n",
    "limit = 2\n",
    "\n",
    "# define the edge communities around the holes based on the null space and the phase\n",
    "X = np.vstack([y1.mean(axis=1), y2.mean(axis=1)]).T\n",
    "edge_community_assignment = abs(X).argmax(axis=1)\n",
    "\n",
    "# set edges not inside a community to 99999\n",
    "edge_community_assignment[~(abs(X) > limit).max(axis=1)] = 2\n",
    "\n",
    "plt.figure()\n",
    "nx.draw_networkx_edges(\n",
    "    graph,\n",
    "    pos=points,\n",
    "    edge_color=edge_community_assignment,\n",
    "    width=3,\n",
    ")"
   ]
  },
  {
   "cell_type": "code",
   "execution_count": null,
   "metadata": {},
   "outputs": [],
   "source": [
    "op = module_order_parameter(edge_result.y, edge_community_assignment)\n",
    "gms, chi = Shanahan_indices(op)\n",
    "ce = coalition_entropy(op, 0.2)\n",
    "gop, phase_gradient = module_gradient_parameter(\n",
    "    edge_result.y, edge_community_assignment\n",
    ")\n",
    "ceg = coalition_entropy(gop)\n",
    "plt.figure()\n",
    "plt.plot(op.T)\n",
    "print(\"Global metastability={}\".format(gms))\n",
    "print(\"Chimeraness={}\".format(chi))\n",
    "print(\"Coalition Entropy={}\".format(ce))"
   ]
  }
 ],
 "metadata": {
  "kernelspec": {
   "display_name": "Python 3",
   "language": "python",
   "name": "python3"
  },
  "language_info": {
   "codemirror_mode": {
    "name": "ipython",
    "version": 3
   },
   "file_extension": ".py",
   "mimetype": "text/x-python",
   "name": "python",
   "nbconvert_exporter": "python",
   "pygments_lexer": "ipython3",
   "version": "3.7.4"
  }
 },
 "nbformat": 4,
 "nbformat_minor": 4
}
