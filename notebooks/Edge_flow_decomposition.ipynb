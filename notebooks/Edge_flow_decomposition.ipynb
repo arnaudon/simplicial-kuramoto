{
 "cells": [
  {
   "cell_type": "code",
   "execution_count": null,
   "metadata": {},
   "outputs": [],
   "source": [
    "import pickle\n",
    "import random\n",
    "\n",
    "import matplotlib\n",
    "import matplotlib.pyplot as plt\n",
    "import networkx as nx\n",
    "import numpy as np\n",
    "import scipy as sc\n",
    "from scipy.spatial import Delaunay\n",
    "from scipy.spatial.distance import cdist\n",
    "\n",
    "from simplicial_kuramoto import SimplicialComplex\n",
    "from simplicial_kuramoto.frustration_scan import *\n",
    "from simplicial_kuramoto.graph_generator import modular_graph\n",
    "from simplicial_kuramoto.integrators import *\n",
    "from simplicial_kuramoto.plotting import *\n",
    "from simplicial_kuramoto.sub_space_projections import *"
   ]
  },
  {
   "cell_type": "markdown",
   "metadata": {},
   "source": [
    "## Square"
   ]
  },
  {
   "cell_type": "code",
   "execution_count": null,
   "metadata": {},
   "outputs": [],
   "source": [
    "G = nx.Graph()\n",
    "\n",
    "G.add_edge(0, 1, weight=1, edge_com=0)\n",
    "G.add_edge(1, 2, weight=1, edge_com=0)\n",
    "G.add_edge(2, 3, weight=1, edge_com=0)\n",
    "G.add_edge(3, 0, weight=1, edge_com=0)\n",
    "\n",
    "node_com_dict = dict(zip(list(np.linspace(0, 3, 4).astype(int)), [0, 0, 0, 0]))\n",
    "nx.set_node_attributes(G, node_com_dict, \"node_com\")\n",
    "\n",
    "edge_community_assignment = np.array(\n",
    "    list(nx.get_edge_attributes(G, \"edge_com\").values())\n",
    ")\n",
    "\n",
    "plt.figure()\n",
    "nx.draw_networkx(G)\n",
    "plt.show()"
   ]
  },
  {
   "cell_type": "code",
   "execution_count": null,
   "metadata": {},
   "outputs": [],
   "source": [
    "folder = \"./results/\"\n",
    "\n",
    "path = folder + \"square.pkl\"\n",
    "filename = \"square_phases.pdf\"\n",
    "\n",
    "plot_phases(path, filename)"
   ]
  },
  {
   "cell_type": "code",
   "execution_count": null,
   "metadata": {},
   "outputs": [],
   "source": [
    "filename = \"square_harm.pdf\"\n",
    "\n",
    "plot_harm(path, filename)"
   ]
  },
  {
   "cell_type": "code",
   "execution_count": null,
   "metadata": {},
   "outputs": [],
   "source": [
    "filename = \"square_grad.pdf\"\n",
    "\n",
    "plot_grad(path, filename)"
   ]
  },
  {
   "cell_type": "code",
   "execution_count": null,
   "metadata": {},
   "outputs": [],
   "source": [
    "filename = \"square_curl.pdf\"\n",
    "\n",
    "plot_curl(path, filename)"
   ]
  },
  {
   "cell_type": "code",
   "execution_count": null,
   "metadata": {},
   "outputs": [],
   "source": [
    "folder = \"./results/\"\n",
    "\n",
    "path = folder + \"square_flip.pkl\"\n",
    "\n",
    "filename = \"square_flip_phases.pdf\"\n",
    "\n",
    "plot_phases(path, filename)"
   ]
  },
  {
   "cell_type": "code",
   "execution_count": null,
   "metadata": {},
   "outputs": [],
   "source": [
    "filename = \"square_flip_harm.pdf\"\n",
    "\n",
    "plot_harm(path, filename)"
   ]
  },
  {
   "cell_type": "code",
   "execution_count": null,
   "metadata": {},
   "outputs": [],
   "source": [
    "filename = \"square_flip_grad.pdf\"\n",
    "\n",
    "plot_grad(path, filename)"
   ]
  },
  {
   "cell_type": "code",
   "execution_count": null,
   "metadata": {},
   "outputs": [],
   "source": [
    "filename = \"square_flip_curl.pdf\"\n",
    "\n",
    "plot_curl(path, filename)"
   ]
  },
  {
   "cell_type": "markdown",
   "metadata": {},
   "source": [
    "## House"
   ]
  },
  {
   "cell_type": "code",
   "execution_count": null,
   "metadata": {},
   "outputs": [],
   "source": [
    "G = nx.Graph()\n",
    "\n",
    "G.add_edge(0, 1, weight=1, edge_com=0)\n",
    "G.add_edge(1, 2, weight=1, edge_com=0)\n",
    "G.add_edge(2, 3, weight=1, edge_com=0)\n",
    "G.add_edge(3, 4, weight=1, edge_com=0)\n",
    "G.add_edge(4, 0, weight=1, edge_com=0)\n",
    "# G.add_edge(5,0,weight=1,edge_com=0)\n",
    "\n",
    "G.add_edge(2, 0, weight=1, edge_com=0)\n",
    "\n",
    "node_com_dict = dict(zip(list(np.linspace(0, 5, 6).astype(int)), [0, 0, 0, 0, 0, 0]))\n",
    "nx.set_node_attributes(G, node_com_dict, \"node_com\")\n",
    "\n",
    "edge_community_assignment = np.array(\n",
    "    list(nx.get_edge_attributes(G, \"edge_com\").values())\n",
    ")\n",
    "\n",
    "# plt.figure()\n",
    "# nx.draw_networkx(G)\n",
    "# plt.show()\n",
    "pos = nx.spring_layout(\n",
    "    G,\n",
    ")\n",
    "plt.figure()\n",
    "nx.draw_networkx_nodes(G, pos=pos)\n",
    "edge_labels = dict(((u, v), d) for d, (u, v) in enumerate(G.edges))\n",
    "node_labels = dict((u, d) for d, u in enumerate(G.nodes))\n",
    "_ = nx.draw_networkx_edge_labels(G, pos=pos, edge_labels=edge_labels)\n",
    "_ = nx.draw_networkx_labels(G, pos=pos, labels=node_labels)\n",
    "_ = nx.draw_networkx_edges(G, pos=pos)"
   ]
  },
  {
   "cell_type": "code",
   "execution_count": null,
   "metadata": {},
   "outputs": [],
   "source": [
    "folder = \"./results/\"\n",
    "\n",
    "path = folder + \"house.pkl\"\n",
    "\n",
    "filename = \"house_phases.pdf\"\n",
    "\n",
    "plot_phases(path, filename)"
   ]
  },
  {
   "cell_type": "code",
   "execution_count": null,
   "metadata": {},
   "outputs": [],
   "source": [
    "filename = \"house_harm.pdf\"\n",
    "\n",
    "plot_harm(path, filename)"
   ]
  },
  {
   "cell_type": "code",
   "execution_count": null,
   "metadata": {},
   "outputs": [],
   "source": [
    "filename = \"house_grad.pdf\"\n",
    "\n",
    "plot_grad(path, filename)"
   ]
  },
  {
   "cell_type": "code",
   "execution_count": null,
   "metadata": {},
   "outputs": [],
   "source": [
    "filename = \"house_curl.pdf\"\n",
    "\n",
    "plot_curl(path, filename)"
   ]
  },
  {
   "cell_type": "code",
   "execution_count": null,
   "metadata": {},
   "outputs": [],
   "source": [
    "folder = \"./results/\"\n",
    "\n",
    "path = folder + \"house_triangle_cyle.pkl\"\n",
    "\n",
    "filename = \"house_triangle_cyle_phases.pdf\"\n",
    "\n",
    "plot_phases(path, filename)"
   ]
  },
  {
   "cell_type": "code",
   "execution_count": null,
   "metadata": {},
   "outputs": [],
   "source": [
    "filename = \"house_triangle_cyle_harm.pdf\"\n",
    "\n",
    "plot_harm(path, filename)"
   ]
  },
  {
   "cell_type": "code",
   "execution_count": null,
   "metadata": {},
   "outputs": [],
   "source": [
    "filename = \"house_triangle_cyle_grad.pdf\"\n",
    "\n",
    "plot_grad(path, filename)"
   ]
  },
  {
   "cell_type": "code",
   "execution_count": null,
   "metadata": {},
   "outputs": [],
   "source": [
    "filename = \"house_triangle_cyle_curl.pdf\"\n",
    "\n",
    "plot_curl(path, filename)"
   ]
  },
  {
   "cell_type": "markdown",
   "metadata": {},
   "source": [
    "## Barbell 2-3"
   ]
  },
  {
   "cell_type": "code",
   "execution_count": null,
   "metadata": {},
   "outputs": [],
   "source": [
    "G = nx.Graph()\n",
    "\n",
    "G.add_edge(0, 1, weight=1, edge_com=0)\n",
    "G.add_edge(1, 2, weight=1, edge_com=0)\n",
    "G.add_edge(2, 0, weight=1, edge_com=0)\n",
    "\n",
    "G.add_edge(0, 3, weight=1, edge_com=1)\n",
    "\n",
    "G.add_edge(3, 4, weight=1, edge_com=2)\n",
    "G.add_edge(4, 5, weight=1, edge_com=2)\n",
    "G.add_edge(5, 3, weight=1, edge_com=2)\n",
    "\n",
    "node_com_dict = dict(zip(list(np.linspace(0, 5, 6).astype(int)), [0, 0, 0, 1, 1, 1]))\n",
    "nx.set_node_attributes(G, node_com_dict, \"node_com\")\n",
    "\n",
    "edge_community_assignment = np.array(\n",
    "    list(nx.get_edge_attributes(G, \"edge_com\").values())\n",
    ")\n",
    "\n",
    "# Gsc=SimplicialComplex(graph=G, no_faces=False)\n",
    "\n",
    "plt.figure()\n",
    "nx.draw_networkx(G)\n",
    "plt.show()"
   ]
  },
  {
   "cell_type": "code",
   "execution_count": null,
   "metadata": {},
   "outputs": [],
   "source": [
    "folder = \"./results/\"\n",
    "\n",
    "path = folder + \"barbell_2_3.pkl\"\n",
    "\n",
    "filename = \"barbell_2_3_phases.pdf\"\n",
    "\n",
    "plot_phases(path, filename)"
   ]
  },
  {
   "cell_type": "code",
   "execution_count": null,
   "metadata": {},
   "outputs": [],
   "source": [
    "filename = \"barbell_2_3_harm.pdf\"\n",
    "\n",
    "plot_harm(path, filename)"
   ]
  },
  {
   "cell_type": "code",
   "execution_count": null,
   "metadata": {},
   "outputs": [],
   "source": [
    "filename = \"barbell_2_3_grad.pdf\"\n",
    "\n",
    "plot_grad(path, filename)"
   ]
  },
  {
   "cell_type": "code",
   "execution_count": null,
   "metadata": {},
   "outputs": [],
   "source": [
    "filename = \"barbell_2_3_curl.pdf\"\n",
    "\n",
    "plot_curl(path, filename)"
   ]
  }
 ],
 "metadata": {
  "kernelspec": {
   "display_name": "Python 3",
   "language": "python",
   "name": "python3"
  },
  "language_info": {
   "codemirror_mode": {
    "name": "ipython",
    "version": 3
   },
   "file_extension": ".py",
   "mimetype": "text/x-python",
   "name": "python",
   "nbconvert_exporter": "python",
   "pygments_lexer": "ipython3",
   "version": "3.7.4"
  }
 },
 "nbformat": 4,
 "nbformat_minor": 2
}
