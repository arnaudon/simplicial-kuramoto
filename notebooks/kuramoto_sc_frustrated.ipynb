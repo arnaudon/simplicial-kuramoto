{
 "cells": [
  {
   "cell_type": "code",
   "execution_count": null,
   "metadata": {},
   "outputs": [],
   "source": [
    "import pickle\n",
    "import random\n",
    "\n",
    "import matplotlib\n",
    "import matplotlib.pyplot as plt\n",
    "import networkx as nx\n",
    "import numpy as np\n",
    "import scipy as sc\n",
    "from scipy.spatial import Delaunay\n",
    "from scipy.spatial.distance import cdist\n",
    "\n",
    "from simplicial_kuramoto import SimplicialComplex\n",
    "from simplicial_kuramoto.graph_generator import modular_graph\n",
    "from simplicial_kuramoto.integrators import *\n",
    "from simplicial_kuramoto.plotting import *"
   ]
  },
  {
   "cell_type": "code",
   "execution_count": null,
   "metadata": {},
   "outputs": [],
   "source": [
    "def get_delauney_holes_multi(n_points, centre_holes, radius, points=[]):\n",
    "\n",
    "    if len(points) == 0:\n",
    "        x = np.random.rand(n_points)\n",
    "        y = np.random.rand(n_points)\n",
    "        points = np.vstack([x, y]).T\n",
    "\n",
    "    tri = Delaunay(points)\n",
    "\n",
    "    edge_list = []\n",
    "\n",
    "    idx_inside = np.empty([0], dtype=int)\n",
    "    for i in range(centre_holes.shape[0]):\n",
    "        idx_inside = np.hstack(\n",
    "            [idx_inside, encloses([centre_holes[i]], points, radius)[1]]\n",
    "        )\n",
    "\n",
    "    for t in tri.simplices:\n",
    "\n",
    "        if t[0] not in idx_inside and t[1] not in idx_inside:\n",
    "            edge_list.append([t[0], t[1]])\n",
    "\n",
    "        if t[1] not in idx_inside and t[2] not in idx_inside:\n",
    "            edge_list.append([t[1], t[2]])\n",
    "\n",
    "        if t[0] not in idx_inside and t[2] not in idx_inside:\n",
    "            edge_list.append([t[0], t[2]])\n",
    "\n",
    "    graph = nx.Graph()\n",
    "    # graph.add_nodes_from(np.arange(len(points)))\n",
    "    graph.add_edges_from(edge_list)\n",
    "\n",
    "    Gcc = sorted(nx.connected_components(graph), key=len, reverse=True)\n",
    "    g = graph.subgraph(Gcc[0])\n",
    "\n",
    "    return g, points\n",
    "\n",
    "\n",
    "def encloses(centre, points, radius):\n",
    "    inside_hole = cdist(centre, points, \"euclidean\") <= radius\n",
    "    idx_inside = np.where(inside_hole)\n",
    "\n",
    "    return idx_inside"
   ]
  },
  {
   "cell_type": "code",
   "execution_count": null,
   "metadata": {
    "scrolled": false
   },
   "outputs": [],
   "source": [
    "centre_holes = np.array([[0.5, 0.5]])\n",
    "n_points = 10\n",
    "radius = 0.2\n",
    "\n",
    "graph, points = get_delauney_holes_multi(n_points, centre_holes, radius)\n",
    "pos = dict(enumerate(points))\n",
    "nx.draw(graph, pos, node_size=30)\n",
    "plt.show()\n",
    "\n",
    "np.random.seed(0)\n",
    "initial_phase = np.random.uniform(0, 2 * np.pi, len(graph.edges))\n",
    "initial_phase = np.concatenate(\n",
    "    (np.eye(len(graph.edges)), -np.eye(len(graph.edges))), axis=0\n",
    ").dot(initial_phase)\n",
    "\n",
    "\n",
    "t_max = 500\n",
    "n_t = 100\n",
    "\n",
    "complex_delaunay = SimplicialComplex(graph=graph, no_faces=False)"
   ]
  },
  {
   "cell_type": "code",
   "execution_count": null,
   "metadata": {},
   "outputs": [],
   "source": [
    "omega_0 = np.zeros(complex_delaunay.n_edges)\n",
    "initial_phase = np.random.uniform(0, 2 * np.pi, len(graph.edges))\n",
    "edge_result = integrate_edge_kuramoto(\n",
    "    complex_delaunay, initial_phase, t_max, n_t, omega_0=omega_0\n",
    ")\n",
    "plot_edge_kuramoto(edge_result)"
   ]
  },
  {
   "cell_type": "code",
   "execution_count": null,
   "metadata": {},
   "outputs": [],
   "source": [
    "omega_0 = np.ones(complex_delaunay.n_edges)\n",
    "initial_phase = np.random.uniform(0, 2 * np.pi, len(graph.edges))\n",
    "edge_result = integrate_edge_kuramoto(\n",
    "    complex_delaunay, initial_phase, t_max, n_t, omega_0=omega_0\n",
    ")\n",
    "plot_edge_kuramoto(edge_result)"
   ]
  },
  {
   "cell_type": "code",
   "execution_count": null,
   "metadata": {},
   "outputs": [],
   "source": [
    "omega_0 = np.ones(2 * complex_delaunay.n_edges)\n",
    "initial_phase = np.random.uniform(0, 2 * np.pi, len(graph.edges))\n",
    "initial_phase = np.concatenate(\n",
    "    (np.eye(len(graph.edges)), -np.eye(len(graph.edges))), axis=0\n",
    ").dot(initial_phase)\n",
    "alpha_1 = 0.0\n",
    "alpha_2 = np.pi\n",
    "edge_result = integrate_edge_kuramoto_frustrated(\n",
    "    complex_delaunay,\n",
    "    initial_phase,\n",
    "    t_max,\n",
    "    n_t,\n",
    "    omega_0=omega_0,\n",
    "    alpha_1=alpha_1,\n",
    "    alpha_2=alpha_2,\n",
    ")\n",
    "plot_edge_kuramoto(edge_result)"
   ]
  },
  {
   "cell_type": "code",
   "execution_count": null,
   "metadata": {},
   "outputs": [],
   "source": [
    "omega_0 = np.ones(2 * complex_delaunay.n_edges)\n",
    "initial_phase = np.random.uniform(0, 2 * np.pi, len(graph.edges))\n",
    "initial_phase = np.concatenate(\n",
    "    (np.eye(len(graph.edges)), -np.eye(len(graph.edges))), axis=0\n",
    ").dot(initial_phase)\n",
    "alpha_1 = 0.01\n",
    "alpha_2 = np.pi\n",
    "edge_result = integrate_edge_kuramoto_frustrated(\n",
    "    complex_delaunay,\n",
    "    initial_phase,\n",
    "    t_max,\n",
    "    n_t,\n",
    "    omega_0=omega_0,\n",
    "    alpha_1=alpha_1,\n",
    "    alpha_2=alpha_2,\n",
    ")\n",
    "plot_edge_kuramoto(edge_result)"
   ]
  },
  {
   "cell_type": "code",
   "execution_count": null,
   "metadata": {},
   "outputs": [],
   "source": [
    "omega_0 = np.zeros(2 * complex_delaunay.n_edges)\n",
    "initial_phase = np.random.uniform(0, 2 * np.pi, len(graph.edges))\n",
    "initial_phase = np.concatenate(\n",
    "    (np.eye(len(graph.edges)), -np.eye(len(graph.edges))), axis=0\n",
    ").dot(initial_phase)\n",
    "alpha_1 = 1\n",
    "alpha_2 = np.pi\n",
    "edge_result = integrate_edge_kuramoto_frustrated(\n",
    "    complex_delaunay,\n",
    "    initial_phase,\n",
    "    t_max,\n",
    "    n_t,\n",
    "    omega_0=omega_0,\n",
    "    alpha_1=alpha_1,\n",
    "    alpha_2=alpha_2,\n",
    ")\n",
    "plot_edge_kuramoto(edge_result)"
   ]
  },
  {
   "cell_type": "code",
   "execution_count": null,
   "metadata": {},
   "outputs": [],
   "source": [
    "plt.figure()\n",
    "nx.draw_networkx_nodes(graph, pos=points, node_size=5)\n",
    "nx.draw_networkx_edges(\n",
    "    graph,\n",
    "    pos=points,\n",
    "    edge_color=edge_result.y[: graph.number_of_edges(), -1],\n",
    "    edge_cmap=plt.get_cmap(\"twilight_shifted\"),\n",
    "    width=5,\n",
    ")"
   ]
  },
  {
   "cell_type": "code",
   "execution_count": null,
   "metadata": {},
   "outputs": [],
   "source": [
    "plt.figure()\n",
    "nx.draw_networkx_nodes(graph, pos=points, node_size=5)\n",
    "nx.draw_networkx_edges(\n",
    "    graph,\n",
    "    pos=points,\n",
    "    edge_color=edge_result.y[-graph.number_of_edges() :, -1],\n",
    "    edge_cmap=plt.get_cmap(\"twilight_shifted\"),\n",
    "    width=5,\n",
    ")"
   ]
  }
 ],
 "metadata": {
  "kernelspec": {
   "display_name": "Python 3",
   "language": "python",
   "name": "python3"
  },
  "language_info": {
   "codemirror_mode": {
    "name": "ipython",
    "version": 3
   },
   "file_extension": ".py",
   "mimetype": "text/x-python",
   "name": "python",
   "nbconvert_exporter": "python",
   "pygments_lexer": "ipython3",
   "version": "3.7.7"
  }
 },
 "nbformat": 4,
 "nbformat_minor": 2
}
