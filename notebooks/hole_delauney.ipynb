{
 "cells": [
  {
   "cell_type": "markdown",
   "metadata": {},
   "source": [
    " Theunderlying SC was constructed by (i) drawing 400 random points in the unit square;(ii) generating a triangular lattice via Delauney triangulation; (iii) eliminating edgesinside two predefined regions; and (iv) defining all triangles to be faces."
   ]
  },
  {
   "cell_type": "code",
   "execution_count": null,
   "metadata": {
    "collapsed": true
   },
   "outputs": [],
   "source": [
    "import pickle\n",
    "import random\n",
    "\n",
    "import matplotlib\n",
    "import matplotlib.pyplot as plt\n",
    "import networkx as nx\n",
    "import numpy as np\n",
    "import scipy as sc\n",
    "from scipy.spatial import Delaunay\n",
    "from scipy.spatial.distance import cdist\n",
    "\n",
    "from simplicial_kuramoto import SimplicialComplex, plotting\n",
    "from simplicial_kuramoto.graph_generator import modular_graph\n",
    "from simplicial_kuramoto.integrators import *"
   ]
  },
  {
   "cell_type": "code",
   "execution_count": null,
   "metadata": {
    "collapsed": true
   },
   "outputs": [],
   "source": [
    "def get_delauney_holes(n_points, centre_hole_1, centre_hole_2, radius):\n",
    "\n",
    "    x = np.random.rand(n_points)\n",
    "    y = np.random.rand(n_points)\n",
    "    points = np.vstack([x, y]).T\n",
    "\n",
    "    tri = Delaunay(points)\n",
    "\n",
    "    edge_list = []\n",
    "\n",
    "    idx_inside_1 = encloses(centre_hole_1, points, radius)[1]\n",
    "    idx_inside_2 = encloses(centre_hole_2, points, radius)[1]\n",
    "\n",
    "    idx_inside = np.hstack([idx_inside_1, idx_inside_2])\n",
    "\n",
    "    for t in tri.simplices:\n",
    "\n",
    "        if t[0] not in idx_inside and t[1] not in idx_inside:\n",
    "            edge_list.append([t[0], t[1]])\n",
    "\n",
    "        if t[1] not in idx_inside and t[2] not in idx_inside:\n",
    "            edge_list.append([t[1], t[2]])\n",
    "\n",
    "        if t[0] not in idx_inside and t[2] not in idx_inside:\n",
    "            edge_list.append([t[0], t[2]])\n",
    "\n",
    "    graph = nx.Graph()\n",
    "    # graph.add_nodes_from(np.arange(len(points)))\n",
    "    graph.add_edges_from(edge_list)\n",
    "\n",
    "    Gcc = sorted(nx.connected_components(graph), key=len, reverse=True)\n",
    "    g = graph.subgraph(Gcc[0])\n",
    "\n",
    "    return g, points\n",
    "\n",
    "\n",
    "def encloses(centre, points, radius):\n",
    "    inside_hole = cdist(centre, points, \"euclidean\") <= radius\n",
    "    idx_inside = np.where(inside_hole)\n",
    "\n",
    "    return idx_inside"
   ]
  },
  {
   "cell_type": "code",
   "execution_count": null,
   "metadata": {},
   "outputs": [],
   "source": [
    "centre_hole_1 = np.array([[0.25, 0.25]])\n",
    "centre_hole_2 = np.array([[0.75, 0.75]])\n",
    "radius = 0.05\n",
    "\n",
    "graph, points = get_delauney_holes(400, centre_hole_1, centre_hole_2, radius)\n",
    "pos = dict(enumerate(points))\n",
    "nx.draw(graph, pos, node_size=30)"
   ]
  },
  {
   "cell_type": "code",
   "execution_count": null,
   "metadata": {},
   "outputs": [],
   "source": [
    "plt.figure()\n",
    "nx.draw_networkx_nodes(graph, pos=points, node_size=5)\n",
    "nx.draw_networkx_edges(graph, pos=points)\n",
    "\n",
    "labels = dict(((u, v), d) for d, (u, v) in enumerate(graph.edges))\n",
    "\n",
    "\n",
    "np.random.seed(0)\n",
    "initial_phase = np.random.uniform(0, 2 * np.pi, len(graph.edges))\n",
    "\n",
    "\n",
    "t_max = 500\n",
    "n_t = 10\n",
    "\n",
    "complex_delaunay = SimplicialComplex(graph=graph, no_faces=False)\n",
    "\n",
    "edge_result = integrate_edge_kuramoto(complex_delaunay, initial_phase, t_max, n_t)\n",
    "plotting.plot_edge_kuramoto(edge_result)\n",
    "# plt.savefig(\"phases_no_faces.png\")\n",
    "\n",
    "plotting.plot_order_parameter(edge_result.y, return_op=False, plot=True)\n",
    "\n",
    "plt.figure()\n",
    "nx.draw_networkx_nodes(graph, pos=points, node_size=5)\n",
    "nx.draw_networkx_edges(\n",
    "    graph,\n",
    "    pos=points,\n",
    "    edge_color=edge_result.y[:, -1],\n",
    "    edge_cmap=plt.get_cmap(\"bwr\"),\n",
    "    width=5,\n",
    "    edge_vmin=np.min(edge_result.y),\n",
    "    edge_vmax=np.max(edge_result.y),\n",
    ")"
   ]
  }
 ],
 "metadata": {
  "kernelspec": {
   "display_name": "Python 3",
   "language": "python",
   "name": "python3"
  },
  "language_info": {
   "codemirror_mode": {
    "name": "ipython",
    "version": 3
   },
   "file_extension": ".py",
   "mimetype": "text/x-python",
   "name": "python",
   "nbconvert_exporter": "python",
   "pygments_lexer": "ipython3",
   "version": "3.7.4"
  }
 },
 "nbformat": 4,
 "nbformat_minor": 4
}
