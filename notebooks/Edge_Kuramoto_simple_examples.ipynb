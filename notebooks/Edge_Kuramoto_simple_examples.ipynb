{
 "cells": [
  {
   "cell_type": "code",
   "execution_count": null,
   "metadata": {
    "collapsed": true
   },
   "outputs": [],
   "source": [
    "import pickle\n",
    "import random\n",
    "\n",
    "import matplotlib\n",
    "import matplotlib.pyplot as plt\n",
    "import networkx as nx\n",
    "import numpy as np\n",
    "import scipy as sc\n",
    "from scipy.spatial import Delaunay\n",
    "from scipy.spatial.distance import cdist\n",
    "\n",
    "from simplicial_kuramoto import SimplicialComplex\n",
    "from simplicial_kuramoto.graph_generator import modular_graph\n",
    "from simplicial_kuramoto.integrators import *\n",
    "from simplicial_kuramoto.plotting import *"
   ]
  },
  {
   "cell_type": "code",
   "execution_count": null,
   "metadata": {
    "collapsed": true
   },
   "outputs": [],
   "source": [
    "def is_in_subspace(vector, matrix):\n",
    "    ns = sc.linalg.null_space(matrix.todense())\n",
    "\n",
    "    coeff = vector.dot(ns)\n",
    "    ns_dim = coeff.shape\n",
    "\n",
    "    vector_hat = np.zeros(ns.shape[0])\n",
    "\n",
    "    for i in range(ns.shape[1]):\n",
    "        vector_hat += coeff[i] * ns[:, i]\n",
    "\n",
    "    error = np.sum(np.abs(vector - vector_hat))\n",
    "\n",
    "    return error, vector_hat, coeff, ns_dim"
   ]
  },
  {
   "cell_type": "markdown",
   "metadata": {},
   "source": [
    "## Two cliques no hole"
   ]
  },
  {
   "cell_type": "code",
   "execution_count": null,
   "metadata": {
    "scrolled": false
   },
   "outputs": [],
   "source": [
    "G = nx.Graph()\n",
    "\n",
    "G.add_edge(0, 1, weight=1, edge_com=0)\n",
    "G.add_edge(6, 7, weight=1, edge_com=0)\n",
    "G.add_edge(7, 0, weight=1, edge_com=0)\n",
    "G.add_edge(0, 6, weight=1, edge_com=0)\n",
    "G.add_edge(1, 7, weight=1, edge_com=0)\n",
    "\n",
    "G.add_edge(1, 6, weight=1, edge_com=0)\n",
    "\n",
    "G.add_edge(2, 3, weight=1, edge_com=1)\n",
    "G.add_edge(3, 4, weight=1, edge_com=1)\n",
    "G.add_edge(4, 5, weight=1, edge_com=1)\n",
    "G.add_edge(2, 4, weight=1, edge_com=1)\n",
    "G.add_edge(3, 5, weight=1, edge_com=1)\n",
    "\n",
    "G.add_edge(2, 5, weight=1, edge_com=1)\n",
    "G.add_edge(5, 6, weight=1, edge_com=2)\n",
    "\n",
    "node_com_dict = dict(\n",
    "    zip(list(np.linspace(0, 7, 8).astype(int)), [0, 0, 1, 1, 1, 1, 0, 0])\n",
    ")\n",
    "nx.set_node_attributes(G, node_com_dict, \"node_com\")\n",
    "\n",
    "edge_community_assignment = np.array(\n",
    "    list(nx.get_edge_attributes(G, \"edge_com\").values())\n",
    ")\n",
    "\n",
    "Gsc = SimplicialComplex(graph=G, no_faces=False)\n",
    "\n",
    "pos = nx.spring_layout(\n",
    "    G,\n",
    ")\n",
    "\n",
    "plt.figure()\n",
    "nx.draw_networkx_nodes(G, pos=pos)\n",
    "edge_labels = dict(((u, v), d) for d, (u, v) in enumerate(G.edges))\n",
    "node_labels = dict((u, d) for d, u in enumerate(G.nodes))\n",
    "_ = nx.draw_networkx_edge_labels(G, pos=pos, edge_labels=edge_labels)\n",
    "_ = nx.draw_networkx_labels(G, pos=pos, labels=node_labels)\n",
    "_ = nx.draw_networkx_edges(\n",
    "    G.to_directed(), pos=pos\n",
    ")  # , edge_color=e[:,i],width=2, edge_vmin=-np.pi, edge_vmax=np.pi)"
   ]
  },
  {
   "cell_type": "code",
   "execution_count": null,
   "metadata": {},
   "outputs": [],
   "source": [
    "np.random.seed(42)\n",
    "initial_phase = np.random.random(Gsc.n_edges)\n",
    "\n",
    "t_max = 100\n",
    "n_t = 1000\n",
    "alpha_1 = np.pi / 4.0\n",
    "alpha_2 = np.pi / 4.0  # -0.2\n",
    "\n",
    "edge_result = integrate_edge_kuramoto(\n",
    "    Gsc, initial_phase, t_max, n_t, alpha_1=alpha_1, alpha_2=alpha_2\n",
    ")\n",
    "plot_edge_kuramoto(edge_result)"
   ]
  },
  {
   "cell_type": "code",
   "execution_count": null,
   "metadata": {},
   "outputs": [],
   "source": [
    "np.random.seed(42)\n",
    "initial_phase = np.random.random(Gsc.n_edges)\n",
    "\n",
    "t_max = 200\n",
    "n_t = 5000\n",
    "alpha_1 = 0.05\n",
    "alpha_2 = np.pi / 2.0 + 0.2\n",
    "\n",
    "edge_result = integrate_edge_kuramoto(\n",
    "    Gsc, initial_phase, t_max, n_t, alpha_1=alpha_1, alpha_2=alpha_2\n",
    ")\n",
    "plot_edge_kuramoto(edge_result)"
   ]
  },
  {
   "cell_type": "code",
   "execution_count": null,
   "metadata": {},
   "outputs": [],
   "source": [
    "np.random.seed(42)\n",
    "initial_phase = np.random.random(Gsc.n_edges)\n",
    "\n",
    "t_max = 200\n",
    "n_t = 5000\n",
    "alpha_1 = 0.05\n",
    "alpha_2 = np.pi / 2 + 0.4\n",
    "\n",
    "edge_result = integrate_edge_kuramoto(\n",
    "    Gsc, initial_phase, t_max, n_t, alpha_1=alpha_1, alpha_2=alpha_2\n",
    ")\n",
    "plot_edge_kuramoto(edge_result)"
   ]
  },
  {
   "cell_type": "code",
   "execution_count": null,
   "metadata": {},
   "outputs": [],
   "source": [
    "plt.figure()\n",
    "plt.plot((edge_result.y[6].T))\n",
    "# for i in range(9):\n",
    "#    plt.axhline(-np.pi*i)"
   ]
  },
  {
   "cell_type": "code",
   "execution_count": null,
   "metadata": {
    "scrolled": false
   },
   "outputs": [],
   "source": [
    "e = np.round(edge_result.y + np.pi, 2) % (2 * np.pi) - np.pi\n",
    "for i in range(100):\n",
    "    plt.figure()\n",
    "    nx.draw_networkx_nodes(G, pos=pos)\n",
    "    edge_labels = dict(((u, v), d) for d, (u, v) in enumerate(G.edges))\n",
    "    node_labels = dict((u, d) for d, u in enumerate(G.nodes))\n",
    "    nx.draw_networkx_edge_labels(G, pos=pos, edge_labels=edge_labels)\n",
    "    nx.draw_networkx_labels(G, pos=pos, labels=node_labels)\n",
    "    nx.draw_networkx_edges(\n",
    "        G.to_directed(), pos=pos\n",
    "    )  # , edge_color=e[:,i],width=2, edge_vmin=-np.pi, edge_vmax=np.pi)\n",
    "    nx.draw_networkx_edges(\n",
    "        G, pos=pos, edge_color=e[:, i], width=2, edge_vmin=-np.pi, edge_vmax=np.pi\n",
    "    )\n",
    "\n",
    "    plt.title(i)"
   ]
  },
  {
   "cell_type": "code",
   "execution_count": null,
   "metadata": {},
   "outputs": [],
   "source": [
    "np.random.seed(4444)\n",
    "initial_phase = np.random.uniform(0, 0.5, Gsc.n_edges)\n",
    "initial_phase = np.zeros(Gsc.n_edges)\n",
    "initial_phase[0] = 1\n",
    "t_max = 10\n",
    "n_t = 100\n",
    "alpha_1 = 0\n",
    "alpha_2 = 0\n",
    "# alpha_2=np.random.uniform(0, 2 * np.pi, Gsc.lifted_N1.shape[0]) # np.ones(Gsc.lifted_N1.shape[0])*np.pi\n",
    "\n",
    "# initial_phase = np.hstack([initial_phase,-initial_phase])\n",
    "\n",
    "edge_result = integrate_edge_kuramoto(\n",
    "    Gsc, initial_phase, t_max, n_t, alpha_1=alpha_1, alpha_2=alpha_2\n",
    ")\n",
    "# edge_result.y = Gsc.V.T.dot(edge_result.y)\n",
    "# from copy import copy\n",
    "# e = copy(edge_result)\n",
    "# e.y = -edge_result.y[13:]\n",
    "\n",
    "# plot_edge_kuramoto(e)\n",
    "\n",
    "# e.y = edge_result.y[:13]\n",
    "\n",
    "# plot_edge_kuramoto(e)\n",
    "# edge_result.y = Gsc.V.T.dot(edge_result.y)\n",
    "plot_edge_kuramoto(edge_result)"
   ]
  },
  {
   "cell_type": "code",
   "execution_count": null,
   "metadata": {},
   "outputs": [],
   "source": [
    "op = module_order_parameter(\n",
    "    edge_result.y, np.hstack([edge_community_assignment, edge_community_assignment])\n",
    ")\n",
    "plt.figure()\n",
    "plt.plot(op.T)\n",
    "# plt.ylim([0,1])\n",
    "plt.legend([\"0\", \"1\", \"2\", \"tot\"])\n",
    "plt.show"
   ]
  },
  {
   "cell_type": "markdown",
   "metadata": {},
   "source": [
    "## Two cliques one hole"
   ]
  },
  {
   "cell_type": "code",
   "execution_count": null,
   "metadata": {
    "scrolled": true
   },
   "outputs": [],
   "source": [
    "G = nx.Graph()\n",
    "\n",
    "G.add_edge(0, 1, weight=1, edge_com=0)\n",
    "G.add_edge(6, 7, weight=1, edge_com=0)\n",
    "G.add_edge(7, 0, weight=1, edge_com=0)\n",
    "G.add_edge(0, 6, weight=1, edge_com=0)\n",
    "G.add_edge(1, 7, weight=1, edge_com=0)\n",
    "\n",
    "G.add_edge(1, 6, weight=1, edge_com=2)\n",
    "\n",
    "G.add_edge(2, 3, weight=1, edge_com=1)\n",
    "G.add_edge(3, 4, weight=1, edge_com=1)\n",
    "G.add_edge(4, 5, weight=1, edge_com=1)\n",
    "G.add_edge(2, 4, weight=1, edge_com=1)\n",
    "G.add_edge(3, 5, weight=1, edge_com=1)\n",
    "\n",
    "G.add_edge(2, 5, weight=1, edge_com=2)\n",
    "\n",
    "G.add_edge(1, 2, weight=1, edge_com=2)\n",
    "G.add_edge(5, 6, weight=1, edge_com=2)\n",
    "\n",
    "node_com_dict = dict(\n",
    "    zip(list(np.linspace(0, 7, 8).astype(int)), [0, 0, 1, 1, 1, 1, 0, 0])\n",
    ")\n",
    "nx.set_node_attributes(G, node_com_dict, \"node_com\")\n",
    "\n",
    "edge_community_assignment = np.array(\n",
    "    list(nx.get_edge_attributes(G, \"edge_com\").values())\n",
    ")\n",
    "\n",
    "\n",
    "Gsc = SimplicialComplex(graph=G, no_faces=False)\n",
    "\n",
    "plt.figure()\n",
    "nx.draw_networkx(G)\n",
    "plt.show()"
   ]
  },
  {
   "cell_type": "code",
   "execution_count": null,
   "metadata": {},
   "outputs": [],
   "source": [
    "# np.random.seed(4444)\n",
    "# initial_phase = np.random.uniform(0, np.pi, Gsc.n_edges)\n",
    "initial_phase = np.random.normal(0, 0.2, Gsc.n_edges)\n",
    "\n",
    "t_max = 50\n",
    "n_t = 100\n",
    "alpha_1 = np.ones(Gsc.lifted_N1.shape[1]) * 0\n",
    "alpha_2 = np.ones(Gsc.lifted_N1.shape[0]) * 0\n",
    "# alpha_2=np.random.uniform(0, 2 * np.pi, Gsc.lifted_N1.shape[0]) # np.ones(Gsc.lifted_N1.shape[0])*np.pi\n",
    "\n",
    "initial_phase = np.hstack([initial_phase, -initial_phase])\n",
    "\n",
    "edge_result = integrate_edge_kuramoto(\n",
    "    Gsc, initial_phase, t_max, n_t, alpha_1=alpha_1, alpha_2=alpha_2\n",
    ")\n",
    "plot_edge_kuramoto(edge_result)"
   ]
  },
  {
   "cell_type": "code",
   "execution_count": null,
   "metadata": {},
   "outputs": [],
   "source": [
    "op = module_order_parameter(\n",
    "    edge_result.y, np.hstack([edge_community_assignment, edge_community_assignment])\n",
    ")\n",
    "plt.figure()\n",
    "plt.plot(op.T)\n",
    "# plt.ylim([0,1])\n",
    "plt.legend([\"0\", \"1\", \"2\", \"tot\"])\n",
    "plt.show"
   ]
  },
  {
   "cell_type": "code",
   "execution_count": null,
   "metadata": {},
   "outputs": [],
   "source": [
    "theta = np.round(edge_result.y[:, -1] + np.pi, 2) % (2 * np.pi) - np.pi\n",
    "error, theta_hat, coeff, dim = is_in_subspace(theta, Gsc.lifted_L1)\n",
    "print(error)\n",
    "print(coeff)\n",
    "print(dim)\n",
    "\n",
    "plt.figure()\n",
    "plt.plot(theta)\n",
    "plt.plot(theta_hat, \"o\")\n",
    "# plt.legend('state','reconstructed in null-space')\n",
    "plt.show()"
   ]
  },
  {
   "cell_type": "markdown",
   "metadata": {
    "collapsed": true
   },
   "source": [
    "## No hole square"
   ]
  },
  {
   "cell_type": "code",
   "execution_count": null,
   "metadata": {},
   "outputs": [],
   "source": [
    "G = nx.Graph()\n",
    "\n",
    "G.add_edge(0, 1, weight=1, edge_com=0)\n",
    "G.add_edge(1, 2, weight=1, edge_com=0)\n",
    "G.add_edge(2, 3, weight=1, edge_com=0)\n",
    "G.add_edge(3, 0, weight=1, edge_com=0)\n",
    "G.add_edge(0, 2, weight=1, edge_com=0)\n",
    "\n",
    "node_com_dict = dict(zip(list(np.linspace(0, 7, 8).astype(int)), [0, 0, 0, 0]))\n",
    "nx.set_node_attributes(G, node_com_dict, \"node_com\")\n",
    "\n",
    "edge_community_assignment = np.array(\n",
    "    list(nx.get_edge_attributes(G, \"edge_com\").values())\n",
    ")\n",
    "\n",
    "Gsc = SimplicialComplex(graph=G, no_faces=False)\n",
    "\n",
    "plt.figure()\n",
    "nx.draw_networkx(G)\n",
    "plt.show()"
   ]
  },
  {
   "cell_type": "code",
   "execution_count": null,
   "metadata": {},
   "outputs": [],
   "source": [
    "initial_phase = np.random.uniform(0, 1, Gsc.n_edges)\n",
    "initial_phase = np.random.normal(0, 2, Gsc.n_edges)\n",
    "\n",
    "t_max = 50\n",
    "n_t = 100\n",
    "alpha_1 = np.ones(Gsc.lifted_N1.shape[1]) * 0\n",
    "alpha_2 = np.ones(Gsc.lifted_N1.shape[0]) * 0\n",
    "\n",
    "initial_phase = np.hstack([initial_phase, -initial_phase])\n",
    "\n",
    "edge_result = integrate_edge_kuramoto(\n",
    "    Gsc, initial_phase, t_max, n_t, alpha_1=alpha_1, alpha_2=alpha_2\n",
    ")\n",
    "plot_edge_kuramoto(edge_result)"
   ]
  },
  {
   "cell_type": "code",
   "execution_count": null,
   "metadata": {},
   "outputs": [],
   "source": [
    "op = module_order_parameter(\n",
    "    edge_result.y, np.hstack([edge_community_assignment, edge_community_assignment])\n",
    ")\n",
    "plt.figure()\n",
    "plt.plot(op.T)\n",
    "# plt.ylim([0,1])\n",
    "plt.legend([\"0\", \"tot\"])\n",
    "plt.show"
   ]
  },
  {
   "cell_type": "markdown",
   "metadata": {},
   "source": [
    "## One hole square"
   ]
  },
  {
   "cell_type": "code",
   "execution_count": null,
   "metadata": {},
   "outputs": [],
   "source": [
    "G = nx.Graph()\n",
    "\n",
    "G.add_edge(0, 1, weight=1, edge_com=0)\n",
    "G.add_edge(1, 2, weight=1, edge_com=0)\n",
    "G.add_edge(2, 3, weight=1, edge_com=0)\n",
    "G.add_edge(3, 0, weight=1, edge_com=0)\n",
    "\n",
    "node_com_dict = dict(zip(list(np.linspace(0, 3, 4).astype(int)), [0, 0, 0, 0]))\n",
    "nx.set_node_attributes(G, node_com_dict, \"node_com\")\n",
    "\n",
    "edge_community_assignment = np.array(\n",
    "    list(nx.get_edge_attributes(G, \"edge_com\").values())\n",
    ")\n",
    "\n",
    "Gsc = SimplicialComplex(graph=G, no_faces=False)\n",
    "\n",
    "plt.figure()\n",
    "nx.draw_networkx(G)\n",
    "plt.show()"
   ]
  },
  {
   "cell_type": "code",
   "execution_count": null,
   "metadata": {},
   "outputs": [],
   "source": [
    "initial_phase = np.random.uniform(0, 1, Gsc.n_edges)\n",
    "# initial_phase = np.random.normal(0, 2, Gsc.n_edges)\n",
    "\n",
    "t_max = 10\n",
    "n_t = 100\n",
    "alpha_1 = np.ones(Gsc.lifted_N1.shape[1]) * 1\n",
    "alpha_2 = np.ones(Gsc.lifted_N1.shape[0]) * 0\n",
    "\n",
    "initial_phase = np.hstack([initial_phase, -initial_phase])\n",
    "\n",
    "edge_result = integrate_edge_kuramoto(\n",
    "    Gsc, initial_phase, t_max, n_t, alpha_1=alpha_1, alpha_2=alpha_2\n",
    ")\n",
    "plot_edge_kuramoto(edge_result)"
   ]
  },
  {
   "cell_type": "code",
   "execution_count": null,
   "metadata": {},
   "outputs": [],
   "source": [
    "op = module_order_parameter(\n",
    "    edge_result.y, np.hstack([edge_community_assignment, edge_community_assignment])\n",
    ")\n",
    "plt.figure()\n",
    "plt.plot(op.T)\n",
    "# plt.ylim([0,1])\n",
    "plt.legend([\"0\", \"tot\"])\n",
    "plt.show"
   ]
  },
  {
   "cell_type": "code",
   "execution_count": null,
   "metadata": {},
   "outputs": [],
   "source": [
    "theta = np.round(edge_result.y[:, -10] + np.pi, 2) % (2 * np.pi) - np.pi\n",
    "error, theta_hat, coeff, dim = is_in_subspace(theta, Gsc.lifted_L1)\n",
    "print(error)\n",
    "print(coeff)\n",
    "print(dim)\n",
    "\n",
    "plt.figure()\n",
    "plt.plot(theta)\n",
    "plt.plot(theta_hat, \"o\")\n",
    "# plt.legend('final state','reconstructed in null-space')\n",
    "plt.show()\n",
    "\n",
    "theta = edge_result.y[0:4, -1]\n",
    "error, theta_hat, coeff, dim = is_in_subspace(theta, Gsc.L1)\n",
    "print(error)\n",
    "print(coeff)\n",
    "print(dim)\n",
    "\n",
    "plt.figure()\n",
    "plt.plot(theta)\n",
    "plt.plot(theta_hat, \"o\")\n",
    "plt.show()"
   ]
  },
  {
   "cell_type": "code",
   "execution_count": null,
   "metadata": {},
   "outputs": [],
   "source": [
    "print(np.linalg.eigvals(Gsc.L1.todense()))\n",
    "\n",
    "plt.figure()\n",
    "plt.imshow(Gsc.V.dot(sc.linalg.null_space(Gsc.L1.todense())))\n",
    "plt.show()\n",
    "\n",
    "print(np.real(np.linalg.eigvals(Gsc.lifted_L1.todense())))\n",
    "\n",
    "plt.figure()\n",
    "plt.imshow(np.real(sc.linalg.null_space(Gsc.lifted_L1.todense())))\n",
    "plt.title(\"\")\n",
    "plt.show()"
   ]
  }
 ],
 "metadata": {
  "kernelspec": {
   "display_name": "Python 3",
   "language": "python",
   "name": "python3"
  },
  "language_info": {
   "codemirror_mode": {
    "name": "ipython",
    "version": 3
   },
   "file_extension": ".py",
   "mimetype": "text/x-python",
   "name": "python",
   "nbconvert_exporter": "python",
   "pygments_lexer": "ipython3",
   "version": "3.7.4"
  }
 },
 "nbformat": 4,
 "nbformat_minor": 2
}
