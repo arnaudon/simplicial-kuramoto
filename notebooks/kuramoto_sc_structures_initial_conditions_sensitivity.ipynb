{
 "cells": [
  {
   "cell_type": "code",
   "execution_count": null,
   "metadata": {
    "collapsed": true
   },
   "outputs": [],
   "source": [
    "import pickle\n",
    "import random\n",
    "\n",
    "import matplotlib\n",
    "import matplotlib.pyplot as plt\n",
    "import networkx as nx\n",
    "import numpy as np\n",
    "import scipy as sc\n",
    "from scipy.spatial import Delaunay\n",
    "\n",
    "from simplicial_kuramoto import SimplicialComplex, plotting\n",
    "from simplicial_kuramoto.graph_generator import modular_graph\n",
    "from simplicial_kuramoto.integrators import *"
   ]
  },
  {
   "cell_type": "code",
   "execution_count": null,
   "metadata": {
    "collapsed": true
   },
   "outputs": [],
   "source": [
    "def get_grid(n_node):\n",
    "\n",
    "    x = np.linspace(0, 1, n_node)\n",
    "\n",
    "    points = []\n",
    "    for i in range(n_node):\n",
    "        for j in range(n_node):\n",
    "            points.append([x[j], x[i]])\n",
    "\n",
    "    tri = Delaunay(points)\n",
    "\n",
    "    edge_list = []\n",
    "    for t in tri.simplices:\n",
    "        edge_list.append([t[0], t[1]])\n",
    "        edge_list.append([t[0], t[2]])\n",
    "        edge_list.append([t[1], t[2]])\n",
    "\n",
    "    graph = nx.Graph()\n",
    "    graph.add_nodes_from(np.arange(len(points)))\n",
    "    graph.add_edges_from(edge_list)\n",
    "    return graph, points"
   ]
  },
  {
   "cell_type": "code",
   "execution_count": null,
   "metadata": {},
   "outputs": [],
   "source": [
    "graph, points = get_grid(5)\n",
    "\n",
    "plt.figure(figsize=(10, 10))\n",
    "nx.draw_networkx_nodes(graph, pos=points, node_size=20)\n",
    "nx.draw_networkx_edges(graph, pos=points)\n",
    "\n",
    "labels = dict(((u, v), d) for d, (u, v) in enumerate(graph.edges))\n",
    "nx.draw_networkx_edge_labels(graph, pos=points, edge_labels=labels)"
   ]
  },
  {
   "cell_type": "markdown",
   "metadata": {},
   "source": [
    "# Fixed number of faces, changing initial conditions"
   ]
  },
  {
   "cell_type": "code",
   "execution_count": null,
   "metadata": {
    "collapsed": true
   },
   "outputs": [],
   "source": [
    "def complex_info(complex_delaunay, edge_result):\n",
    "    B0 = complex_delaunay.node_incidence_matrix\n",
    "    W0 = complex_delaunay.node_weights_matrix\n",
    "    B1 = complex_delaunay.edge_incidence_matrix\n",
    "    W1 = complex_delaunay.edge_weights_matrix\n",
    "    W2 = complex_delaunay.face_weights_matrix\n",
    "    omega_0 = np.zeros(complex_delaunay.n_edges)\n",
    "\n",
    "    Ld = W1.dot(B0.dot(W0.dot(B0.T)))\n",
    "    Lu = W1.dot(B1.T.dot(W2.dot(B1)))\n",
    "\n",
    "    L1 = Ld + Lu\n",
    "\n",
    "    mod_sol = np.mod(\n",
    "        np.around(L1.dot(edge_result.y[:, -1]), 10), np.around(2 * np.pi, 10)\n",
    "    )\n",
    "    print(mod_sol)\n",
    "    print(\n",
    "        np.mod(\n",
    "            np.around(L1.dot(edge_result.y[:, -1]).sum(), 10), np.around(2 * np.pi, 10)\n",
    "        )\n",
    "    )\n",
    "\n",
    "    print(sc.linalg.null_space(L1.todense()).shape[1])"
   ]
  },
  {
   "cell_type": "code",
   "execution_count": null,
   "metadata": {
    "scrolled": false
   },
   "outputs": [],
   "source": [
    "mu = np.pi\n",
    "sigma = np.linspace(0, 0.01, 10)\n",
    "\n",
    "t_max = 100\n",
    "n_t = 10\n",
    "\n",
    "all_cliques = nx.enumerate_all_cliques(graph)\n",
    "faces = [clique for clique in all_cliques if len(clique) == 3]\n",
    "\n",
    "n_repeats = 5\n",
    "N_faces = [0, 11, 22, 32]\n",
    "N_flip = 0\n",
    "\n",
    "order = np.zeros([len(sigma), len(N_faces), n_repeats])\n",
    "\n",
    "for si, s in enumerate(sigma):\n",
    "    print(s)\n",
    "    for nfi, nf in enumerate(N_faces):\n",
    "        print(nf)\n",
    "        for k in range(0, n_repeats):\n",
    "            initial_phase = np.random.normal(mu, s, len(graph.edges))\n",
    "            #             randomly flip 10 edges\n",
    "            for j in range(N_flip):\n",
    "                print(j)\n",
    "                initial_phase[np.random.randint(1, len(graph.edges))] = np.pi\n",
    "\n",
    "            rand_faces = random.sample(faces, int(nf))\n",
    "            complex_delaunay = SimplicialComplex(\n",
    "                graph=graph, no_faces=False, faces=rand_faces\n",
    "            )\n",
    "\n",
    "            edge_result = integrate_edge_kuramoto(\n",
    "                complex_delaunay, initial_phase, t_max, n_t\n",
    "            )\n",
    "\n",
    "            #             complex_info(complex_delaunay,edge_result)\n",
    "\n",
    "            op = plotting.plot_order_parameter(\n",
    "                edge_result.y, return_op=True, plot=False\n",
    "            )\n",
    "            order[si, nfi, k] = op[-1]\n",
    "#             order_repeat.append(op[-1])\n",
    "\n",
    "#         order_sigma.append(order_repeat)\n",
    "#     order.append(order_sigma)"
   ]
  },
  {
   "cell_type": "code",
   "execution_count": null,
   "metadata": {},
   "outputs": [],
   "source": [
    "plt.plot(sigma, np.squeeze(order[:, 0, :]), \"b*-\")"
   ]
  },
  {
   "cell_type": "code",
   "execution_count": null,
   "metadata": {},
   "outputs": [],
   "source": [
    "# mean_order = np.array([np.mean(l) for l in order])\n",
    "# std_order = np.array([np.std(l) for l in order])\n",
    "for nfi, nf in enumerate(N_faces):\n",
    "    mean_order = np.mean(np.squeeze(order[:, nfi, :]), 1)\n",
    "    std_order = np.std(np.squeeze(order[:, nfi, :]), 1)\n",
    "\n",
    "    fig, ax = plt.subplots(1)\n",
    "    ax.plot(sigma, mean_order, lw=2, label=\"Mean Order\", color=\"blue\")\n",
    "    ax.fill_between(\n",
    "        sigma,\n",
    "        mean_order + std_order,\n",
    "        mean_order - std_order,\n",
    "        facecolor=\"blue\",\n",
    "        alpha=0.5,\n",
    "    )\n",
    "    ax.set_title(\n",
    "        \"Increasing sigma for N_faces \"\n",
    "        + str(nf)\n",
    "        + \" and \"\n",
    "        + str(N_flip)\n",
    "        + ' \"flipped\" edges'\n",
    "    )\n",
    "    ax.legend(loc=\"upper right\")\n",
    "    ax.set_xlabel(\"Sigma\")\n",
    "    ax.set_ylabel(\"Order\")\n",
    "    ax.grid()\n",
    "    plt.savefig(str(nf) + \".png\")"
   ]
  }
 ],
 "metadata": {
  "kernelspec": {
   "display_name": "Python 3",
   "language": "python",
   "name": "python3"
  },
  "language_info": {
   "codemirror_mode": {
    "name": "ipython",
    "version": 3
   },
   "file_extension": ".py",
   "mimetype": "text/x-python",
   "name": "python",
   "nbconvert_exporter": "python",
   "pygments_lexer": "ipython3",
   "version": "3.7.4"
  }
 },
 "nbformat": 4,
 "nbformat_minor": 2
}
