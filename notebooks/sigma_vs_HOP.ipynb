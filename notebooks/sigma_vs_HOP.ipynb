{
 "cells": [
  {
   "cell_type": "code",
   "execution_count": null,
   "metadata": {
    "collapsed": true
   },
   "outputs": [],
   "source": [
    "# to do:\n",
    "# look at projection in each subspace\n",
    "# Energy in each subspace"
   ]
  },
  {
   "cell_type": "code",
   "execution_count": null,
   "metadata": {},
   "outputs": [],
   "source": [
    "import pickle\n",
    "import random\n",
    "\n",
    "import matplotlib\n",
    "import matplotlib.pyplot as plt\n",
    "import networkx as nx\n",
    "import numpy as np\n",
    "import scipy as sc\n",
    "from scipy.spatial import Delaunay\n",
    "from scipy.spatial.distance import cdist\n",
    "\n",
    "from simplicial_kuramoto import SimplicialComplex\n",
    "from simplicial_kuramoto.chimera_measures import *\n",
    "from simplicial_kuramoto.frustration_scan import *\n",
    "from simplicial_kuramoto.graph_generator import modular_graph\n",
    "from simplicial_kuramoto.integrators import *\n",
    "from simplicial_kuramoto.plotting import *"
   ]
  },
  {
   "cell_type": "code",
   "execution_count": null,
   "metadata": {},
   "outputs": [],
   "source": [
    "def Null_Space_Plot(Gsc, graph, pos, savename=None):\n",
    "\n",
    "    KerL1 = sc.linalg.null_space(Gsc.L1.todense())\n",
    "\n",
    "    #     print(KerL1)\n",
    "    for i in range(KerL1.shape[1]):\n",
    "        plt.figure()\n",
    "        nx.draw_networkx_nodes(graph, pos=pos, node_size=5)\n",
    "        nx.draw_networkx_edges(\n",
    "            graph,\n",
    "            pos=pos,\n",
    "            edge_color=KerL1[:, i],\n",
    "            edge_cmap=plt.get_cmap(\"bwr\"),\n",
    "            width=5,\n",
    "            edge_vmin=np.min(KerL1[:, i]),\n",
    "            edge_vmax=np.max(KerL1[:, i]),\n",
    "        )\n",
    "        plt.title(\"Null space of L1, vector \" + str(i))\n",
    "        if savename:\n",
    "            plt.savefig(savename + \"_Ker_\" + str(i) + \".pdf\", format=\"pdf\")\n",
    "        plt.show()"
   ]
  },
  {
   "cell_type": "code",
   "execution_count": null,
   "metadata": {},
   "outputs": [],
   "source": [
    "def ring_of_rings(num_rings, ring_size, ring_gap=1):\n",
    "\n",
    "    G = nx.Graph()\n",
    "    for i in range(num_rings):\n",
    "        gc = nx.generators.classic.circulant_graph(ring_size, [1])\n",
    "        edges = gc.edges()\n",
    "\n",
    "        if not list(G.nodes()):\n",
    "            max_node_id = 0\n",
    "        else:\n",
    "            max_node_id = np.max(list(G.nodes()))\n",
    "\n",
    "        for edge in edges:\n",
    "            edge_ = tuple([(max_node_id) + x for x in edge])\n",
    "            G.add_edge(edge_[0], edge_[1], community=i)\n",
    "\n",
    "            if edge[0] == 0 and edge[1] == 2:\n",
    "                G.add_edge(edge_[0], edge_[1], community=i, community_sync=1)\n",
    "            else:\n",
    "                G.add_edge(edge_[0], edge_[1], community=i, community_sync=0)\n",
    "\n",
    "        for j in range(ring_gap):\n",
    "            max_node_id = np.max(list(G.nodes()))\n",
    "            G.add_edge(\n",
    "                max_node_id,\n",
    "                (max_node_id + 1)\n",
    "                % (num_rings * ring_size + num_rings * (ring_gap - 1)),\n",
    "                community=999,\n",
    "                community_sync=2,\n",
    "            )\n",
    "\n",
    "    return G"
   ]
  },
  {
   "cell_type": "code",
   "execution_count": null,
   "metadata": {},
   "outputs": [],
   "source": [
    "savename = \"abs\"\n",
    "G = nx.cycle_graph(4)\n",
    "G.add_edge(0, 2)\n",
    "plt.figure()\n",
    "nx.draw_networkx(G)\n",
    "plt.show()\n",
    "\n",
    "Gsc = SimplicialComplex(graph=G, faces=[[0, 1, 2]])\n",
    "\n",
    "pos = nx.spring_layout(\n",
    "    G,\n",
    ")\n",
    "\n",
    "# plt.savefig(savename+'.pdf',format='pdf')\n",
    "\n",
    "Null_Space_Plot(Gsc, G, pos, savename)"
   ]
  },
  {
   "cell_type": "code",
   "execution_count": null,
   "metadata": {},
   "outputs": [],
   "source": [
    "initial_phase = np.random.random(Gsc.n_edges)\n",
    "grad_subspace, curl_subspace, harm_subspace = get_subspaces(Gsc)"
   ]
  },
  {
   "cell_type": "code",
   "execution_count": null,
   "metadata": {},
   "outputs": [],
   "source": [
    "np.random.seed(42)\n",
    "\n",
    "np.random.random(Gsc.n_edges)"
   ]
  },
  {
   "cell_type": "code",
   "execution_count": null,
   "metadata": {},
   "outputs": [],
   "source": [
    "alpha_1 = np.random.normal(0, 1, Gsc.n_edges)\n",
    "alpha_1 = alpha_1 + harm_subspace.T\n",
    "# alpha_1 = alpha_1.tolist()\n",
    "alpha_1 = alpha_1.tolist()[0]\n",
    "alpha_2 = 0"
   ]
  },
  {
   "cell_type": "code",
   "execution_count": null,
   "metadata": {},
   "outputs": [],
   "source": [
    "sigmas = np.logspace(-2, 1, 100)\n",
    "\n",
    "results = scan_sigma_parameters(\n",
    "    Gsc, sigmas=sigmas, alpha1=alpha_1, alpha2=alpha_2, t_max=1000\n",
    ")"
   ]
  },
  {
   "cell_type": "code",
   "execution_count": null,
   "metadata": {},
   "outputs": [],
   "source": [
    "plt.figure()\n",
    "order = []\n",
    "for i in range(len(results)):\n",
    "\n",
    "    result = results[i][0]\n",
    "    sigma = sigmas[i]\n",
    "\n",
    "    global_order = compute_simplicial_order_parameter(result.y, harm_subspace)\n",
    "\n",
    "    plt.plot(result.t, global_order)\n",
    "    order.append(np.mean(global_order[-10:]))\n",
    "\n",
    "plt.xscale(\"log\")\n",
    "plt.savefig(\"sync_time_sigma_alpha1_noise.png\")"
   ]
  },
  {
   "cell_type": "code",
   "execution_count": null,
   "metadata": {},
   "outputs": [],
   "source": [
    "plt.plot(sigmas, order, \"-+\")\n",
    "plt.xscale(\"log\")\n",
    "plt.xlabel(\"sigma\")\n",
    "plt.ylabel(\"global order\")\n",
    "plt.savefig(\"sigma_vs_hop.png\")"
   ]
  },
  {
   "cell_type": "code",
   "execution_count": null,
   "metadata": {},
   "outputs": [],
   "source": [
    "G = nx.Graph()\n",
    "\n",
    "G.add_edge(0, 1, weight=1, edge_com=0)\n",
    "G.add_edge(1, 2, weight=1, edge_com=0)\n",
    "G.add_edge(2, 3, weight=1, edge_com=0)\n",
    "G.add_edge(3, 4, weight=1, edge_com=0)\n",
    "G.add_edge(4, 0, weight=1, edge_com=0)\n",
    "# G.add_edge(5,0,weight=1,edge_com=0)\n",
    "\n",
    "G.add_edge(2, 0, weight=1, edge_com=0)\n",
    "\n",
    "node_com_dict = dict(zip(list(np.linspace(0, 5, 6).astype(int)), [0, 0, 0, 0, 0, 0]))\n",
    "nx.set_node_attributes(G, node_com_dict, \"node_com\")\n",
    "\n",
    "edge_community_assignment = np.array(\n",
    "    list(nx.get_edge_attributes(G, \"edge_com\").values())\n",
    ")\n",
    "\n",
    "Gsc = SimplicialComplex(graph=G, no_faces=False)\n",
    "\n",
    "# plt.figure()\n",
    "# nx.draw_networkx(G)\n",
    "# plt.show()\n",
    "pos = nx.spring_layout(\n",
    "    G,\n",
    ")\n",
    "plt.figure()\n",
    "nx.draw_networkx_nodes(G, pos=pos)\n",
    "edge_labels = dict(((u, v), d) for d, (u, v) in enumerate(G.edges))\n",
    "node_labels = dict((u, d) for d, u in enumerate(G.nodes))\n",
    "_ = nx.draw_networkx_edge_labels(G, pos=pos, edge_labels=edge_labels)\n",
    "_ = nx.draw_networkx_labels(G, pos=pos, labels=node_labels)\n",
    "_ = nx.draw_networkx_edges(G, pos=pos)\n",
    "\n",
    "Null_Space_Plot(Gsc, G, pos, savename)\n",
    "\n",
    "\n",
    "initial_phase = np.random.random(Gsc.n_edges)\n",
    "grad_subspace, curl_subspace, harm_subspace = get_subspaces(Gsc)"
   ]
  },
  {
   "cell_type": "code",
   "execution_count": null,
   "metadata": {},
   "outputs": [],
   "source": [
    "alpha_1 = np.random.normal(0, 1, Gsc.n_edges)\n",
    "alpha_1 = alpha_1 + harm_subspace.T\n",
    "# alpha_1 = alpha_1.tolist()\n",
    "alpha_1 = alpha_1.tolist()[0]\n",
    "alpha_2 = 0"
   ]
  },
  {
   "cell_type": "code",
   "execution_count": null,
   "metadata": {},
   "outputs": [],
   "source": [
    "sigmas = np.logspace(-2, 1, 100)\n",
    "\n",
    "results = scan_sigma_parameters(\n",
    "    Gsc, sigmas=sigmas, alpha1=alpha_1, alpha2=alpha_2, t_max=1000\n",
    ")"
   ]
  },
  {
   "cell_type": "code",
   "execution_count": null,
   "metadata": {},
   "outputs": [],
   "source": [
    "plt.figure()\n",
    "order = []\n",
    "for i in range(len(results)):\n",
    "\n",
    "    result = results[i][0]\n",
    "    sigma = sigmas[i]\n",
    "\n",
    "    global_order = compute_simplicial_order_parameter(result.y, harm_subspace)\n",
    "\n",
    "    plt.plot(result.t, global_order)\n",
    "    order.append(np.mean(global_order[-10:]))\n",
    "\n",
    "plt.xscale(\"log\")\n",
    "plt.savefig(\"sync_time_sigma_alpha1_noise2.png\")"
   ]
  },
  {
   "cell_type": "code",
   "execution_count": null,
   "metadata": {},
   "outputs": [],
   "source": [
    "plt.plot(sigmas, order, \"-+\")\n",
    "plt.xscale(\"log\")\n",
    "plt.xlabel(\"sigma\")\n",
    "plt.ylabel(\"global order\")\n",
    "plt.savefig(\"sigma_vs_hop2.png\")"
   ]
  },
  {
   "cell_type": "code",
   "execution_count": null,
   "metadata": {},
   "outputs": [],
   "source": [
    "G = ring_of_rings(5, 3, 1)\n",
    "savename = \"abc\"\n",
    "edge_community_assignment = []\n",
    "for node1, node2, data in G.edges.data():\n",
    "    edge_community_assignment.append(data[\"community_sync\"])\n",
    "\n",
    "Gsc = SimplicialComplex(graph=G, no_faces=False)\n",
    "\n",
    "pos = nx.spring_layout(\n",
    "    G,\n",
    ")\n",
    "plt.figure()\n",
    "nx.draw_networkx_nodes(G, pos=pos)\n",
    "edge_labels = dict(\n",
    "    ((u, v), edge_community_assignment[d]) for d, (u, v) in enumerate(G.edges)\n",
    ")\n",
    "node_labels = dict((u, d) for d, u in enumerate(G.nodes))\n",
    "_ = nx.draw_networkx_edge_labels(G, pos=pos, edge_labels=edge_labels)\n",
    "_ = nx.draw_networkx_labels(G, pos=pos, labels=node_labels)\n",
    "_ = nx.draw_networkx_edges(G, pos=pos)\n",
    "plt.savefig(\"rotr_graph.png\")\n",
    "\n",
    "# plt.savefig(savename+'.pdf',format='pdf')\n",
    "\n",
    "\n",
    "Null_Space_Plot(Gsc, G, pos, savename)"
   ]
  },
  {
   "cell_type": "code",
   "execution_count": null,
   "metadata": {},
   "outputs": [],
   "source": [
    "initial_phase = np.random.random(Gsc.n_edges)\n",
    "grad_subspace, curl_subspace, harm_subspace = get_subspaces(Gsc)\n",
    "\n",
    "alpha_1 = np.random.normal(0, 1, Gsc.n_edges)\n",
    "alpha_1 = alpha_1 + harm_subspace.T\n",
    "# alpha_1 = alpha_1.tolist()\n",
    "alpha_1 = alpha_1.tolist()[0]\n",
    "alpha_2 = 0\n",
    "\n",
    "sigmas = np.logspace(-2, 1, 100)\n",
    "\n",
    "results = scan_sigma_parameters(\n",
    "    Gsc, sigmas=sigmas, alpha1=alpha_1, alpha2=alpha_2, n_t=1000, t_max=4000\n",
    ")"
   ]
  },
  {
   "cell_type": "code",
   "execution_count": null,
   "metadata": {},
   "outputs": [],
   "source": [
    "plt.figure()\n",
    "order = []\n",
    "variance = []\n",
    "for i in range(len(results)):\n",
    "\n",
    "    result = results[i][0]\n",
    "    sigma = sigmas[i]\n",
    "\n",
    "    global_order = compute_simplicial_order_parameter(result.y, harm_subspace)\n",
    "\n",
    "    plt.plot(result.t, global_order)\n",
    "    order.append(np.mean(global_order[-10:]))\n",
    "    variance.append(np.std(global_order[-100:]))\n",
    "\n",
    "plt.xscale(\"log\")\n",
    "plt.savefig(\"rotr_sync_time_sigma_alpha1_noise.png\")"
   ]
  },
  {
   "cell_type": "code",
   "execution_count": null,
   "metadata": {},
   "outputs": [],
   "source": [
    "plt.plot(sigmas, order, \"-+\")\n",
    "plt.errorbar(\n",
    "    sigmas,\n",
    "    order,\n",
    "    variance,\n",
    ")\n",
    "plt.xscale(\"log\")\n",
    "plt.xlabel(\"sigma\")\n",
    "plt.ylabel(\"global order\")\n",
    "plt.savefig(\"sigma_vs_hop.png\")"
   ]
  }
 ],
 "metadata": {
  "kernelspec": {
   "display_name": "Python 3",
   "language": "python",
   "name": "python3"
  },
  "language_info": {
   "codemirror_mode": {
    "name": "ipython",
    "version": 3
   },
   "file_extension": ".py",
   "mimetype": "text/x-python",
   "name": "python",
   "nbconvert_exporter": "python",
   "pygments_lexer": "ipython3",
   "version": "3.8.5"
  }
 },
 "nbformat": 4,
 "nbformat_minor": 2
}
