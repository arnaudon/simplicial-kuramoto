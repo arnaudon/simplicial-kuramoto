{
 "cells": [
  {
   "cell_type": "code",
   "execution_count": 1,
   "metadata": {
    "collapsed": true
   },
   "outputs": [],
   "source": [
    "import numpy as np\n",
    "import matplotlib.pyplot as plt\n",
    "import matplotlib\n",
    "import networkx as nx\n",
    "import scipy as sc\n",
    "from scipy.spatial import Delaunay\n",
    "from scipy.spatial.distance import cdist\n",
    "import random\n",
    "\n",
    "import pickle\n",
    "\n",
    "from simplicial_kuramoto import SimplicialComplex\n",
    "from simplicial_kuramoto.graph_generator import modular_graph\n",
    "from simplicial_kuramoto.integrators import *\n",
    "from simplicial_kuramoto.plotting import *"
   ]
  },
  {
   "cell_type": "code",
   "execution_count": 3,
   "metadata": {
    "collapsed": true
   },
   "outputs": [],
   "source": [
    "def get_delauney_holes_multi(n_points, centre_holes,radius,points=[]):\n",
    "\n",
    "\n",
    "    if(len(points)==0):\n",
    "        x = np.random.rand(n_points)\n",
    "        y = np.random.rand(n_points)\n",
    "        points = np.vstack([x,y]).T\n",
    "\n",
    "    tri = Delaunay(points)\n",
    "\n",
    "    edge_list = []\n",
    "    \n",
    "    \n",
    "    idx_inside=np.empty([0], dtype=int)\n",
    "    for i in range(centre_holes.shape[0]):\n",
    "        idx_inside=np.hstack([idx_inside,encloses([centre_holes[i]],points,radius)[1]])\n",
    "    \n",
    "    for t in tri.simplices:\n",
    "        \n",
    "        if t[0] not in idx_inside and t[1] not in idx_inside:\n",
    "            edge_list.append([t[0], t[1]])\n",
    "     \n",
    "        if t[1] not in idx_inside and t[2] not in idx_inside:\n",
    "            edge_list.append([t[1], t[2]])\n",
    "\n",
    "        if t[0] not in idx_inside and t[2] not in idx_inside:\n",
    "            edge_list.append([t[0], t[2]])   \n",
    "\n",
    "\n",
    "            \n",
    "    graph = nx.Graph()\n",
    "    #graph.add_nodes_from(np.arange(len(points)))    \n",
    "    graph.add_edges_from(edge_list)\n",
    "    \n",
    "    Gcc = sorted(nx.connected_components(graph), key=len, reverse=True)\n",
    "    g = graph.subgraph(Gcc[0])\n",
    "    \n",
    "    \n",
    "    return g, points\n",
    "\n",
    "\n",
    "def encloses(centre, points, radius):\n",
    "    inside_hole = (cdist(centre, points, 'euclidean') <= radius)\n",
    "    idx_inside = np.where(inside_hole )\n",
    "    \n",
    "    return idx_inside"
   ]
  },
  {
   "cell_type": "code",
   "execution_count": 9,
   "metadata": {},
   "outputs": [
    {
     "name": "stdout",
     "output_type": "stream",
     "text": [
      "We created 10 faces\n",
      "(14,)\n",
      "(14,)\n",
      "[-0.42456553  0.81831308 -0.57416705  0.17867351  0.84237519  0.93853784\n",
      "  0.77318171 -0.22534331  0.8622851   0.99042464  0.42372739 -0.95442167\n",
      " -0.90601927  0.65268956]\n",
      "[ 0.42456553 -0.56855951 -0.57416705  0.99174808 -0.84237519  0.93853784\n",
      "  0.99346097  0.22534331  0.8622851   0.74160713 -0.42372739 -0.95442167\n",
      " -0.71063884 -0.56000319]\n"
     ]
    }
   ],
   "source": [
    "centre_holes = np.array([[0.25,0.5],[0.75,0.5]])\n",
    "n_points=20\n",
    "radius=0.2\n",
    "graph, points = get_delauney_holes_multi(n_points, centre_holes,radius)\n",
    "complex_delaunay = SimplicialComplex(graph=graph, no_faces=False)\n",
    "\n",
    "phase = np.random.uniform(0, 2 * np.pi,len(graph.edges))\n",
    "phase2=np.tile(phase, 2)\n",
    "\n",
    "B0 = complex_delaunay.node_incidence_matrix\n",
    "B1 = complex_delaunay.edge_incidence_matrix\n",
    "\n",
    "Nn=B0.shape[1]\n",
    "Ne=B0.shape[0]\n",
    "Nf=B1.shape[0]\n",
    "\n",
    "Ie=np.diag(np.ones(Ne))\n",
    "nIe=np.diag(-np.ones(Ne))\n",
    "\n",
    "V=np.concatenate((Ie, nIe),axis=0)\n",
    "hB0=V.dot(B0.toarray())\n",
    "hB1=B1.toarray().dot(V.T)\n",
    "\n",
    "hB0p=hB0.copy()\n",
    "hB0n=hB0.copy()\n",
    "\n",
    "hB0p[hB0p<0]=0\n",
    "hB0n[hB0n>0]=0\n",
    "hB0n=np.negative(hB0n)\n",
    "\n",
    "hB1p=hB1.copy()\n",
    "hB1n=hB1.copy()\n",
    "hB1p[hB1p<0]=0\n",
    "hB1n[hB1n>0]=0\n",
    "hB1n=np.negative(hB1n)\n",
    "\n",
    "print(np.sin(B0.T.dot(phase)).shape)\n",
    "print(np.sin(hB0p.T.dot(phase2)).shape)\n",
    "print(np.sin(B0.T.dot(phase)))\n",
    "print(np.sin(hB0p.T.dot(phase2)))"
   ]
  },
  {
   "cell_type": "code",
   "execution_count": null,
   "metadata": {
    "collapsed": true
   },
   "outputs": [],
   "source": []
  }
 ],
 "metadata": {
  "kernelspec": {
   "display_name": "Python 3",
   "language": "python",
   "name": "python3"
  },
  "language_info": {
   "codemirror_mode": {
    "name": "ipython",
    "version": 3
   },
   "file_extension": ".py",
   "mimetype": "text/x-python",
   "name": "python",
   "nbconvert_exporter": "python",
   "pygments_lexer": "ipython3",
   "version": "3.7.4"
  }
 },
 "nbformat": 4,
 "nbformat_minor": 2
}
