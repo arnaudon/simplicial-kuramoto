{
 "cells": [
  {
   "cell_type": "code",
   "execution_count": null,
   "metadata": {
    "collapsed": true
   },
   "outputs": [],
   "source": [
    "import pickle\n",
    "import random\n",
    "\n",
    "import matplotlib\n",
    "import matplotlib.pyplot as plt\n",
    "import networkx as nx\n",
    "import numpy as np\n",
    "import scipy as sc\n",
    "from scipy.spatial import Delaunay\n",
    "from scipy.spatial.distance import cdist\n",
    "\n",
    "from simplicial_kuramoto import SimplicialComplex\n",
    "from simplicial_kuramoto.frustration_scan import *\n",
    "from simplicial_kuramoto.graph_generator import modular_graph\n",
    "from simplicial_kuramoto.integrators import *\n",
    "from simplicial_kuramoto.plotting import *"
   ]
  },
  {
   "cell_type": "code",
   "execution_count": null,
   "metadata": {
    "collapsed": true
   },
   "outputs": [],
   "source": [
    "def is_in_subspace(vector, matrix):\n",
    "    ns = sc.linalg.null_space(matrix.todense())\n",
    "\n",
    "    coeff = vector.dot(ns)\n",
    "    ns_dim = coeff.shape\n",
    "\n",
    "    vector_hat = np.zeros(ns.shape[0])\n",
    "\n",
    "    for i in range(ns.shape[1]):\n",
    "        vector_hat += coeff[i] * ns[:, i]\n",
    "\n",
    "    error = np.sum(np.abs(vector - vector_hat))\n",
    "\n",
    "    return error, vector_hat, coeff, ns_dim"
   ]
  },
  {
   "cell_type": "markdown",
   "metadata": {},
   "source": [
    "## One hole square"
   ]
  },
  {
   "cell_type": "code",
   "execution_count": null,
   "metadata": {},
   "outputs": [],
   "source": [
    "G = nx.Graph()\n",
    "\n",
    "G.add_edge(0, 1, weight=1, edge_com=0)\n",
    "G.add_edge(1, 2, weight=1, edge_com=0)\n",
    "G.add_edge(2, 3, weight=1, edge_com=0)\n",
    "G.add_edge(3, 0, weight=1, edge_com=0)\n",
    "\n",
    "node_com_dict = dict(zip(list(np.linspace(0, 3, 4).astype(int)), [0, 0, 0, 0]))\n",
    "nx.set_node_attributes(G, node_com_dict, \"node_com\")\n",
    "\n",
    "edge_community_assignment = np.array(\n",
    "    list(nx.get_edge_attributes(G, \"edge_com\").values())\n",
    ")\n",
    "\n",
    "Gsc = SimplicialComplex(graph=G, no_faces=False)\n",
    "\n",
    "plt.figure()\n",
    "nx.draw_networkx(G)\n",
    "plt.show()"
   ]
  },
  {
   "cell_type": "code",
   "execution_count": null,
   "metadata": {},
   "outputs": [],
   "source": [
    "folder = \"./results/\"\n",
    "\n",
    "path = folder + \"square.pkl\"\n",
    "filename = \"square.pdf\"\n",
    "plot_phases(path, filename)\n",
    "plot_recurences(path, filename, eps=0.1, steps=10)\n",
    "plot_rqa(path, filename, frac=0.2, min_rr=0.3)"
   ]
  },
  {
   "cell_type": "code",
   "execution_count": null,
   "metadata": {},
   "outputs": [],
   "source": [
    "folder = \"./results/\"\n",
    "\n",
    "path = folder + \"square_flip.pkl\"\n",
    "filename = \"square_flip.pdf\"\n",
    "plot_phases(path, filename)\n",
    "plot_recurences(path, filename, eps=0.1, steps=10)\n",
    "plot_rqa(path, filename, frac=0.2, min_rr=0.3)"
   ]
  },
  {
   "cell_type": "markdown",
   "metadata": {},
   "source": [
    "## Hexagone"
   ]
  },
  {
   "cell_type": "code",
   "execution_count": null,
   "metadata": {},
   "outputs": [],
   "source": [
    "G = nx.Graph()\n",
    "\n",
    "G.add_edge(0, 1, weight=1, edge_com=0)\n",
    "G.add_edge(1, 2, weight=1, edge_com=1)\n",
    "G.add_edge(2, 3, weight=1, edge_com=2)\n",
    "G.add_edge(3, 4, weight=1, edge_com=0)\n",
    "G.add_edge(4, 5, weight=1, edge_com=1)\n",
    "G.add_edge(5, 0, weight=1, edge_com=2)\n",
    "\n",
    "node_com_dict = dict(zip(list(np.linspace(0, 5, 6).astype(int)), [0, 0, 0, 0, 0, 0]))\n",
    "nx.set_node_attributes(G, node_com_dict, \"node_com\")\n",
    "\n",
    "edge_community_assignment = np.array(\n",
    "    list(nx.get_edge_attributes(G, \"edge_com\").values())\n",
    ")\n",
    "\n",
    "Gsc = SimplicialComplex(graph=G, no_faces=False)\n",
    "\n",
    "plt.figure()\n",
    "nx.draw_networkx(G)\n",
    "plt.show()"
   ]
  },
  {
   "cell_type": "code",
   "execution_count": null,
   "metadata": {},
   "outputs": [],
   "source": [
    "folder = \"./results/\"\n",
    "\n",
    "path = folder + \"hexagone.pkl\"\n",
    "filename = \"hexagone.pdf\"\n",
    "plot_phases(path, filename)\n",
    "plot_recurences(path, filename, eps=0.1, steps=10)\n",
    "plot_rqa(path, filename, frac=0.2, min_rr=0.3)"
   ]
  },
  {
   "cell_type": "code",
   "execution_count": null,
   "metadata": {},
   "outputs": [],
   "source": [
    "folder = \"./results/\"\n",
    "\n",
    "path = folder + \"hexagone_flip.pkl\"\n",
    "filename = \"hexagone_flip.pdf\"\n",
    "plot_phases(path, filename)\n",
    "plot_recurences(path, filename, eps=0.1, steps=10)\n",
    "plot_rqa(path, filename, frac=0.2, min_rr=0.3)"
   ]
  },
  {
   "cell_type": "markdown",
   "metadata": {},
   "source": [
    "## House"
   ]
  },
  {
   "cell_type": "code",
   "execution_count": null,
   "metadata": {},
   "outputs": [],
   "source": [
    "G = nx.Graph()\n",
    "\n",
    "G.add_edge(0, 1, weight=1, edge_com=0)\n",
    "G.add_edge(1, 2, weight=1, edge_com=0)\n",
    "G.add_edge(2, 3, weight=1, edge_com=0)\n",
    "G.add_edge(3, 4, weight=1, edge_com=0)\n",
    "G.add_edge(4, 0, weight=1, edge_com=0)\n",
    "# G.add_edge(5,0,weight=1,edge_com=0)\n",
    "\n",
    "G.add_edge(2, 0, weight=1, edge_com=0)\n",
    "\n",
    "node_com_dict = dict(zip(list(np.linspace(0, 5, 6).astype(int)), [0, 0, 0, 0, 0, 0]))\n",
    "nx.set_node_attributes(G, node_com_dict, \"node_com\")\n",
    "\n",
    "edge_community_assignment = np.array(\n",
    "    list(nx.get_edge_attributes(G, \"edge_com\").values())\n",
    ")\n",
    "\n",
    "Gsc = SimplicialComplex(graph=G, no_faces=False)\n",
    "\n",
    "# plt.figure()\n",
    "# nx.draw_networkx(G)\n",
    "# plt.show()\n",
    "pos = nx.spring_layout(\n",
    "    G,\n",
    ")\n",
    "plt.figure()\n",
    "nx.draw_networkx_nodes(G, pos=pos)\n",
    "edge_labels = dict(((u, v), d) for d, (u, v) in enumerate(G.edges))\n",
    "node_labels = dict((u, d) for d, u in enumerate(G.nodes))\n",
    "_ = nx.draw_networkx_edge_labels(G, pos=pos, edge_labels=edge_labels)\n",
    "_ = nx.draw_networkx_labels(G, pos=pos, labels=node_labels)\n",
    "_ = nx.draw_networkx_edges(G, pos=pos)"
   ]
  },
  {
   "cell_type": "code",
   "execution_count": null,
   "metadata": {},
   "outputs": [],
   "source": [
    "folder = \"./results/\"\n",
    "\n",
    "path = folder + \"house.pkl\"\n",
    "filename = \"house.pdf\"\n",
    "plot_phases(path, filename)\n",
    "plot_recurences(path, filename, eps=0.1, steps=10)\n",
    "plot_rqa(path, filename, frac=0.2, min_rr=0.3)"
   ]
  },
  {
   "cell_type": "code",
   "execution_count": null,
   "metadata": {},
   "outputs": [],
   "source": [
    "folder = \"./results/\"\n",
    "\n",
    "path = folder + \"house_hole_cyle.pkl\"\n",
    "filename = \"house_hole_cyle.pdf\"\n",
    "plot_phases(path, filename)\n",
    "plot_recurences(path, filename, eps=0.1, steps=10)\n",
    "plot_rqa(path, filename, frac=0.2, min_rr=0.3)"
   ]
  },
  {
   "cell_type": "code",
   "execution_count": null,
   "metadata": {},
   "outputs": [],
   "source": [
    "folder = \"./results/\"\n",
    "\n",
    "path = folder + \"house_triangle_cyle.pkl\"\n",
    "filename = \"house_triangle_cyle.pdf\"\n",
    "plot_phases(path, filename)\n",
    "plot_recurences(path, filename, eps=0.1, steps=10)\n",
    "plot_rqa(path, filename, frac=0.2, min_rr=0.3)"
   ]
  },
  {
   "cell_type": "code",
   "execution_count": null,
   "metadata": {},
   "outputs": [],
   "source": [
    "folder = \"./results/\"\n",
    "\n",
    "path = folder + \"house_triangle_cyle_semi_hole.pkl\"\n",
    "filename = \"house_triangle_cyle_semi_hole.pdf\"\n",
    "plot_phases(path, filename)\n",
    "plot_recurences(path, filename, eps=0.1, steps=10)\n",
    "plot_rqa(path, filename, frac=0.2, min_rr=0.3)"
   ]
  },
  {
   "cell_type": "markdown",
   "metadata": {},
   "source": [
    "## Two cliques one hole"
   ]
  },
  {
   "cell_type": "code",
   "execution_count": null,
   "metadata": {
    "scrolled": true
   },
   "outputs": [],
   "source": [
    "G = nx.Graph()\n",
    "\n",
    "G.add_edge(0, 1, weight=1, edge_com=0)\n",
    "G.add_edge(6, 7, weight=1, edge_com=0)\n",
    "G.add_edge(7, 0, weight=1, edge_com=0)\n",
    "G.add_edge(0, 6, weight=1, edge_com=0)\n",
    "G.add_edge(1, 7, weight=1, edge_com=0)\n",
    "\n",
    "G.add_edge(1, 6, weight=1, edge_com=2)\n",
    "\n",
    "G.add_edge(2, 3, weight=1, edge_com=1)\n",
    "G.add_edge(3, 4, weight=1, edge_com=1)\n",
    "G.add_edge(4, 5, weight=1, edge_com=1)\n",
    "G.add_edge(2, 4, weight=1, edge_com=1)\n",
    "G.add_edge(3, 5, weight=1, edge_com=1)\n",
    "\n",
    "G.add_edge(2, 5, weight=1, edge_com=2)\n",
    "\n",
    "G.add_edge(1, 2, weight=1, edge_com=2)\n",
    "G.add_edge(5, 6, weight=1, edge_com=2)\n",
    "\n",
    "node_com_dict = dict(\n",
    "    zip(list(np.linspace(0, 7, 8).astype(int)), [0, 0, 1, 1, 1, 1, 0, 0])\n",
    ")\n",
    "nx.set_node_attributes(G, node_com_dict, \"node_com\")\n",
    "\n",
    "edge_community_assignment = np.array(\n",
    "    list(nx.get_edge_attributes(G, \"edge_com\").values())\n",
    ")\n",
    "\n",
    "\n",
    "Gsc = SimplicialComplex(graph=G, no_faces=False)\n",
    "\n",
    "plt.figure()\n",
    "nx.draw_networkx(G)\n",
    "plt.show()"
   ]
  }
 ],
 "metadata": {
  "kernelspec": {
   "display_name": "Python 3",
   "language": "python",
   "name": "python3"
  },
  "language_info": {
   "codemirror_mode": {
    "name": "ipython",
    "version": 3
   },
   "file_extension": ".py",
   "mimetype": "text/x-python",
   "name": "python",
   "nbconvert_exporter": "python",
   "pygments_lexer": "ipython3",
   "version": "3.7.4"
  }
 },
 "nbformat": 4,
 "nbformat_minor": 2
}
