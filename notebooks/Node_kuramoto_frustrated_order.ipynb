{
 "cells": [
  {
   "cell_type": "code",
   "execution_count": null,
   "metadata": {
    "collapsed": true
   },
   "outputs": [],
   "source": [
    "import pickle\n",
    "import random\n",
    "\n",
    "import matplotlib\n",
    "import matplotlib.pyplot as plt\n",
    "import networkx as nx\n",
    "import numpy as np\n",
    "import scipy as sc\n",
    "from scipy.spatial import Delaunay\n",
    "from scipy.spatial.distance import cdist\n",
    "\n",
    "from simplicial_kuramoto import SimplicialComplex\n",
    "from simplicial_kuramoto.graph_generator import modular_graph\n",
    "from simplicial_kuramoto.integrators import *\n",
    "from simplicial_kuramoto.plotting import *"
   ]
  },
  {
   "cell_type": "code",
   "execution_count": null,
   "metadata": {},
   "outputs": [],
   "source": [
    "# modular graph\n",
    "Nc = 3\n",
    "Nn = 10\n",
    "Nie = 5\n",
    "G = modular_graph(Nc, Nn, Nie, rando=True)\n",
    "Gsc = SimplicialComplex(graph=G, no_faces=False)\n",
    "\n",
    "community_assignment = np.asarray(list(nx.get_node_attributes(G, \"community\").values()))\n",
    "\n",
    "\n",
    "plt.figure()\n",
    "nx.draw_networkx(G)\n",
    "plt.show()"
   ]
  },
  {
   "cell_type": "code",
   "execution_count": null,
   "metadata": {},
   "outputs": [],
   "source": [
    "# normal node Kuramoto\n",
    "np.random.seed(0)\n",
    "initial_phase = np.random.uniform(0, 2 * np.pi, Gsc.n_nodes)\n",
    "# initial_phase = np.concatenate((np.eye(len(graph.nodes -np.eye(len(graph.nodes))), axis=0).dot(initial_phase)\n",
    "\n",
    "t_max = 50\n",
    "n_t = 100\n",
    "alpha_0 = 1\n",
    "alpha_1 = 0.4  # np.ones(Gsc.n_edges)*np.pi\n",
    "\n",
    "node_result = integrate_node_kuramoto(\n",
    "    Gsc, initial_phase, t_max, n_t, alpha_0=alpha_0, alpha_1=alpha_1\n",
    ")\n",
    "plot_edge_kuramoto(node_result)"
   ]
  },
  {
   "cell_type": "code",
   "execution_count": null,
   "metadata": {},
   "outputs": [],
   "source": [
    "op = module_order_parameter(node_result.y, community_assignment)\n",
    "plt.figure()\n",
    "plt.plot(op.T)\n",
    "plt.show()"
   ]
  },
  {
   "cell_type": "code",
   "execution_count": null,
   "metadata": {
    "collapsed": true
   },
   "outputs": [],
   "source": [
    "plt.figure()\n",
    "plt.plot(op[0:3, :].T)\n",
    "plt.show"
   ]
  },
  {
   "cell_type": "code",
   "execution_count": null,
   "metadata": {
    "collapsed": true
   },
   "outputs": [],
   "source": [
    "print(Shanahan_indices(op))"
   ]
  },
  {
   "cell_type": "code",
   "execution_count": null,
   "metadata": {
    "collapsed": true
   },
   "outputs": [],
   "source": [
    "ps = pairwise_synchronisation(node_result.y, community_assignment)"
   ]
  },
  {
   "cell_type": "code",
   "execution_count": null,
   "metadata": {
    "collapsed": true
   },
   "outputs": [],
   "source": [
    "plt.plot(ps.T)"
   ]
  },
  {
   "cell_type": "code",
   "execution_count": null,
   "metadata": {
    "collapsed": true
   },
   "outputs": [],
   "source": [
    "ce = coalition_entropy(op)\n",
    "ce"
   ]
  },
  {
   "cell_type": "code",
   "execution_count": null,
   "metadata": {
    "collapsed": true
   },
   "outputs": [],
   "source": [
    "gop, phase_gradient = module_gradient_parameter(node_result.y, community_assignment)\n",
    "plt.imshow(phase_gradient)"
   ]
  },
  {
   "cell_type": "code",
   "execution_count": null,
   "metadata": {
    "collapsed": true
   },
   "outputs": [],
   "source": [
    "plt.plot(gop.T)"
   ]
  }
 ],
 "metadata": {
  "kernelspec": {
   "display_name": "Python 3",
   "language": "python",
   "name": "python3"
  },
  "language_info": {
   "codemirror_mode": {
    "name": "ipython",
    "version": 3
   },
   "file_extension": ".py",
   "mimetype": "text/x-python",
   "name": "python",
   "nbconvert_exporter": "python",
   "pygments_lexer": "ipython3",
   "version": "3.7.4"
  }
 },
 "nbformat": 4,
 "nbformat_minor": 2
}
