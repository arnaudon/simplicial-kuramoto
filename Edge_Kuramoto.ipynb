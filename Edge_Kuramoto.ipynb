{
 "cells": [
  {
   "cell_type": "code",
   "execution_count": 1,
   "metadata": {
    "collapsed": true
   },
   "outputs": [],
   "source": [
    "import numpy as np\n",
    "import pylab as plt\n",
    "import networkx as nx\n",
    "import scipy.integrate as integ\n",
    "import math\n",
    "\n",
    "from utils import *\n",
    "\n",
    "%matplotlib inline"
   ]
  },
  {
   "cell_type": "code",
   "execution_count": 2,
   "metadata": {
    "collapsed": true
   },
   "outputs": [],
   "source": [
    "def kuramoto_full_theta(t, theta, B0, B1, a, omega_0, degree, weights_n, weights_e, weights_f):\n",
    "    return omega_0-a*(1/np.absolute(B0).sum(1))*np.diag(we).dot(B0.dot(np.sin(B0.T.dot(theta))))-a*(1/np.absolute(B1).sum(0))*B1.T.dot(np.diag(wf).dot(np.sin(B1.dot(theta))))\n",
    "#     return omega_0-a*np.diag(we).dot(B0.dot(np.sin(B0.T.dot(theta))))-a*B1.T.dot(np.diag(wf).dot(np.sin(B1.dot(theta))))\n",
    "\n",
    "# L1w=np.diag(we).dot(B0.dot(B0.T))+B1.T.dot(np.diag(wf).dot(B1))\n",
    "# L1w=B0.dot(np.diag(wn).dot(B0.T))+B1.T.dot(np.diag(wf).dot(B1))\n",
    "\n",
    "def integrate_kuramoto_full_theta(B0, B1, theta_0, t_max, n_t, a, omega_0, degree, weights_n, weights_e, weights_f):\n",
    "    \n",
    "    return integ.solve_ivp(lambda t, theta: kuramoto_full_theta(t, theta, B0, B1, a, omega_0, degree, weights_n, weights_e, weights_f), [0, t_max], theta_0, t_eval = np.linspace(0, t_max, n_t),method='Radau',rtol=1.49012e-8,atol=1.49012e-8)"
   ]
  },
  {
   "cell_type": "code",
   "execution_count": 3,
   "metadata": {
    "scrolled": false
   },
   "outputs": [
    {
     "name": "stderr",
     "output_type": "stream",
     "text": [
      "/Library/Frameworks/Python.framework/Versions/2.7/lib/python2.7/site-packages/networkx/drawing/nx_pylab.py:126: MatplotlibDeprecationWarning: pyplot.hold is deprecated.\n",
      "    Future behavior will be consistent with the long-time default:\n",
      "    plot commands add elements without first clearing the\n",
      "    Axes and/or Figure.\n",
      "  b = plt.ishold()\n",
      "/Library/Frameworks/Python.framework/Versions/2.7/lib/python2.7/site-packages/networkx/drawing/nx_pylab.py:137: MatplotlibDeprecationWarning: pyplot.hold is deprecated.\n",
      "    Future behavior will be consistent with the long-time default:\n",
      "    plot commands add elements without first clearing the\n",
      "    Axes and/or Figure.\n",
      "  plt.hold(b)\n",
      "/Library/Frameworks/Python.framework/Versions/2.7/lib/python2.7/site-packages/matplotlib/__init__.py:917: UserWarning: axes.hold is deprecated. Please remove it from your matplotlibrc and/or style files.\n",
      "  warnings.warn(self.msg_depr_set % key)\n",
      "/Library/Frameworks/Python.framework/Versions/2.7/lib/python2.7/site-packages/matplotlib/rcsetup.py:152: UserWarning: axes.hold is deprecated, will be removed in 3.0\n",
      "  warnings.warn(\"axes.hold is deprecated, will be removed in 3.0\")\n"
     ]
    },
    {
     "data": {
      "image/png": "[encoded data removed]",
      "text/plain": [
       "<matplotlib.figure.Figure at 0x10073b810>"
      ]
     },
     "metadata": {},
     "output_type": "display_data"
    }
   ],
   "source": [
    "G=nx.Graph()\n",
    "G.add_edge(1,2)\n",
    "G.add_edge(1,3)\n",
    "G.add_edge(2,3)\n",
    "G.add_edge(2,4)\n",
    "G.add_edge(3,4)\n",
    "\n",
    "pos = nx.spring_layout(G)\n",
    "plt.figure()\n",
    "nx.draw(G,pos = pos,with_labels = True)"
   ]
  },
  {
   "cell_type": "code",
   "execution_count": 4,
   "metadata": {},
   "outputs": [
    {
     "name": "stdout",
     "output_type": "stream",
     "text": [
      "[[ 3.  0.  0. -1.  0.]\n",
      " [ 0.  3.  0.  0. -1.]\n",
      " [ 0.  0.  4.  0.  0.]\n",
      " [-1.  0.  0.  3.  0.]\n",
      " [ 0. -1.  0.  0.  3.]]\n",
      "[2. 2. 4. 4. 4.]\n"
     ]
    }
   ],
   "source": [
    "A=nx.adjacency_matrix(G).toarray()\n",
    "# print A\n",
    "Nn=len(G.nodes())\n",
    "Ne=len(G.edges())\n",
    "Nf=2\n",
    "\n",
    "B0=np.zeros((Ne,Nn))\n",
    "count=0\n",
    "for i in range(Nn):\n",
    "    for j in range(i+1,Nn):\n",
    "        if(A[i,j]==1):\n",
    "            B0[count,i]=1\n",
    "            B0[count,j]=-1\n",
    "            count+=1\n",
    "# print B0\n",
    "B1=np.zeros((Nf,Ne))\n",
    "B1[0,:]=[1, -1, 1, 0, 0]\n",
    "B1[1,:]=[0, 0, -1, 1, -1]\n",
    "# print B1\n",
    "\n",
    "L1=B0.dot(B0.T)+B1.T.dot(B1)\n",
    "print L1\n",
    "\n",
    "eigval, eigvec = np.linalg.eig(L1)\n",
    "eig_sort = np.argsort(eigval)\n",
    "eigval = eigval[eig_sort]\n",
    "eigvec = eigvec[:,eig_sort]\n",
    "print eigval"
   ]
  },
  {
   "cell_type": "code",
   "execution_count": 5,
   "metadata": {},
   "outputs": [
    {
     "name": "stdout",
     "output_type": "stream",
     "text": [
      "L1dwn: [[ 2.  1. -1. -1.  0.]\n",
      " [ 1.  2.  1.  0. -1.]\n",
      " [-2.  2.  4.  2. -2.]\n",
      " [-1.  0.  1.  2.  1.]\n",
      " [ 0. -1. -1.  1.  2.]]\n",
      "L1up: [[ 2. -2.  2.  0.  0.]\n",
      " [-2.  2. -2.  0.  0.]\n",
      " [ 2. -2.  4. -2.  2.]\n",
      " [ 0.  0. -2.  2. -2.]\n",
      " [ 0.  0.  2. -2.  2.]]\n",
      "[2. 4. 4. 6. 8.]\n"
     ]
    }
   ],
   "source": [
    "wn=np.ones(Nn)\n",
    "we=np.ones(Ne)\n",
    "wf=np.zeros(Nf)\n",
    "we[2]=2\n",
    "wf[0]=we[0]*we[1]*we[2]\n",
    "wf[1]=we[2]*we[3]*we[4]\n",
    "\n",
    "L1wdwn=np.diag(we).dot(B0.dot(B0.T))\n",
    "L1wup=B1.T.dot(np.diag(wf).dot(B1))\n",
    "L1w=L1wdwn+L1wup\n",
    "\n",
    "eigval, eigvec = np.linalg.eig(L1w)\n",
    "eig_sort = np.argsort(eigval)\n",
    "eigval = eigval[eig_sort]\n",
    "eigvec = eigvec[:,eig_sort]\n",
    "\n",
    "print \"L1dwn:\", L1wdwn\n",
    "print \"L1up:\", L1wup\n",
    "print eigval"
   ]
  },
  {
   "cell_type": "code",
   "execution_count": 26,
   "metadata": {},
   "outputs": [
    {
     "data": {
      "text/plain": [
       "<matplotlib.colorbar.Colorbar at 0x11a094910>"
      ]
     },
     "execution_count": 26,
     "metadata": {},
     "output_type": "execute_result"
    },
    {
     "data": {
      "image/png": "[encoded data removed]",
      "text/plain": [
       "<matplotlib.figure.Figure at 0x11b13f110>"
      ]
     },
     "metadata": {},
     "output_type": "display_data"
    }
   ],
   "source": [
    "np.random.seed(seed=4444)\n",
    "\n",
    "theta_0=np.random.rand(Ne)\n",
    "omega_0=0#np.ones(Ne)*0\n",
    "\n",
    "degree=np.absolute(B0).sum(0)\n",
    "a=1\n",
    "\n",
    "t_max = 1000 #integration time\n",
    "n_t = 200 #number of timepoints \n",
    "\n",
    "wn=np.ones(Nn)\n",
    "we=np.ones(Ne)\n",
    "wf=np.ones(Nf)\n",
    "we[2]=0.1\n",
    "wf[0]=we[0]*we[1]*we[2]\n",
    "wf[1]=we[2]*we[3]*we[4]\n",
    "\n",
    "result=integrate_kuramoto_full_theta(B0, B1, theta_0, t_max, n_t, a, omega_0, degree, wn, we, wf)\n",
    "\n",
    "times = result.t\n",
    "theta = result.y\n",
    "\n",
    "plt.figure()\n",
    "plt.imshow(theta, aspect='auto',cmap='bwr')\n",
    "plt.colorbar()"
   ]
  },
  {
   "cell_type": "code",
   "execution_count": 7,
   "metadata": {},
   "outputs": [
    {
     "name": "stdout",
     "output_type": "stream",
     "text": [
      "[0.2 0.4 2.  2.2 4. ]\n"
     ]
    }
   ],
   "source": [
    "L1w=np.diag(we).dot(B0.dot(B0.T))+B1.T.dot(np.diag(wf).dot(B1))\n",
    "\n",
    "eigval, eigvec = np.linalg.eig(L1w)\n",
    "eig_sort = np.argsort(eigval)\n",
    "eigval = eigval[eig_sort]\n",
    "eigvec = eigvec[:,eig_sort]\n",
    "print eigval"
   ]
  },
  {
   "cell_type": "code",
   "execution_count": 8,
   "metadata": {},
   "outputs": [
    {
     "data": {
      "image/png": "[encoded data removed]",
      "text/plain": [
       "<matplotlib.figure.Figure at 0x10510dbd0>"
      ]
     },
     "metadata": {},
     "output_type": "display_data"
    }
   ],
   "source": [
    "G=nx.complete_graph(4)\n",
    "\n",
    "pos = nx.spring_layout(G)\n",
    "# plt.figure()\n",
    "# nx.draw(G,pos = pos,with_labels = True)\n",
    "nx.draw_networkx(G, pos=pos)"
   ]
  },
  {
   "cell_type": "code",
   "execution_count": 9,
   "metadata": {},
   "outputs": [
    {
     "name": "stdout",
     "output_type": "stream",
     "text": [
      "[[4. 0. 0. 0. 0. 0.]\n",
      " [0. 4. 0. 0. 0. 0.]\n",
      " [0. 0. 4. 0. 0. 0.]\n",
      " [0. 0. 0. 4. 0. 0.]\n",
      " [0. 0. 0. 0. 4. 0.]\n",
      " [0. 0. 0. 0. 0. 4.]]\n",
      "[4. 4. 4. 4. 4. 4.]\n"
     ]
    }
   ],
   "source": [
    "A=nx.adjacency_matrix(G).toarray()\n",
    "# print A\n",
    "Nn=len(G.nodes())\n",
    "Ne=len(G.edges())\n",
    "Nf=4\n",
    "\n",
    "B0=np.zeros((Ne,Nn))\n",
    "count=0\n",
    "for i in range(Nn):\n",
    "    for j in range(i+1,Nn):\n",
    "        if(A[i,j]==1):\n",
    "            B0[count,i]=1\n",
    "            B0[count,j]=-1\n",
    "            count+=1\n",
    "# print B0\n",
    "B1=np.zeros((Nf,Ne))\n",
    "B1[0,:]=[1, -1, 0, 1, 0, 0] #123\n",
    "B1[1,:]=[1, 0, -1, 0, 1, 0] #124\n",
    "B1[2,:]=[0, 1, -1, 0, 0, 1] #143\n",
    "B1[3,:]=[0, 0, 0, 1, -1, 1] #243\n",
    "# print B1\n",
    "\n",
    "L1=B0.dot(B0.T)+B1.T.dot(B1)\n",
    "print L1\n",
    "\n",
    "eigval, eigvec = np.linalg.eig(L1)\n",
    "eig_sort = np.argsort(eigval)\n",
    "eigval = eigval[eig_sort]\n",
    "eigvec = eigvec[:,eig_sort]\n",
    "print eigval"
   ]
  },
  {
   "cell_type": "code",
   "execution_count": 10,
   "metadata": {},
   "outputs": [
    {
     "name": "stdout",
     "output_type": "stream",
     "text": [
      "L1dwn: [[ 2.    1.    1.   -1.   -1.    0.  ]\n",
      " [ 1.    2.    1.    1.    0.   -1.  ]\n",
      " [ 0.01  0.01  0.02  0.    0.01  0.01]\n",
      " [-0.01  0.01  0.    0.02  0.01 -0.01]\n",
      " [-1.    0.    1.    1.    2.    1.  ]\n",
      " [ 0.   -1.    1.   -1.    1.    2.  ]]\n",
      "L1up: [[ 0.02 -0.01 -0.01  0.01  0.01  0.  ]\n",
      " [-0.01  0.02 -0.01 -0.01  0.    0.01]\n",
      " [-0.01 -0.01  0.02  0.   -0.01 -0.01]\n",
      " [ 0.01 -0.01  0.    0.02 -0.01  0.01]\n",
      " [ 0.01  0.   -0.01 -0.01  0.02 -0.01]\n",
      " [ 0.    0.01 -0.01  0.01 -0.01  0.02]]\n",
      "[0.04 0.04 0.04 2.02 2.02 4.  ]\n"
     ]
    }
   ],
   "source": [
    "wn=np.ones(Nn)\n",
    "we=np.ones(Ne)\n",
    "wf=np.zeros(Nf)\n",
    "we[2]=0.01\n",
    "we[3]=0.01\n",
    "wf[0]=we[0]*we[1]*we[3]\n",
    "wf[1]=we[1]*we[2]*we[5]\n",
    "wf[2]=we[0]*we[2]*we[4]\n",
    "wf[3]=we[3]*we[4]*we[5]\n",
    "\n",
    "L1wdwn=np.diag(we).dot(B0.dot(B0.T))\n",
    "L1wup=B1.T.dot(np.diag(wf).dot(B1))\n",
    "L1w=L1wdwn+L1wup\n",
    "\n",
    "eigval, eigvec = np.linalg.eig(L1w)\n",
    "eig_sort = np.argsort(eigval)\n",
    "eigval = eigval[eig_sort]\n",
    "eigvec = eigvec[:,eig_sort]\n",
    "\n",
    "print \"L1dwn:\", L1wdwn\n",
    "print \"L1up:\", L1wup\n",
    "print eigval"
   ]
  },
  {
   "cell_type": "code",
   "execution_count": 27,
   "metadata": {},
   "outputs": [
    {
     "data": {
      "text/plain": [
       "<matplotlib.colorbar.Colorbar at 0x11a391b90>"
      ]
     },
     "execution_count": 27,
     "metadata": {},
     "output_type": "execute_result"
    },
    {
     "data": {
      "image/png": "[encoded data removed]",
      "text/plain": [
       "<matplotlib.figure.Figure at 0x11aaba410>"
      ]
     },
     "metadata": {},
     "output_type": "display_data"
    }
   ],
   "source": [
    "np.random.seed(seed=4444)\n",
    "\n",
    "theta_0=np.random.rand(Ne)\n",
    "omega_0=0#np.ones(Ne)*0\n",
    "\n",
    "degree=np.absolute(B0).sum(0)\n",
    "a=1\n",
    "\n",
    "t_max = 1000 #integration time\n",
    "n_t = 200 #number of timepoints \n",
    "\n",
    "wn=np.ones(Nn)\n",
    "we=np.ones(Ne)\n",
    "wf=np.ones(Nf)\n",
    "we[2]=1\n",
    "we[3]=1\n",
    "wf[0]=we[0]*we[1]*we[3]\n",
    "wf[1]=we[1]*we[2]*we[5]\n",
    "wf[2]=we[0]*we[2]*we[4]\n",
    "wf[3]=we[3]*we[4]*we[5]\n",
    "\n",
    "result=integrate_kuramoto_full_theta(B0, B1, theta_0, t_max, n_t, a, omega_0, degree, wn, we, wf)\n",
    "\n",
    "times = result.t\n",
    "theta = result.y\n",
    "\n",
    "plt.figure()\n",
    "plt.imshow(theta, aspect='auto',cmap='bwr')\n",
    "plt.colorbar()"
   ]
  },
  {
   "cell_type": "code",
   "execution_count": 12,
   "metadata": {},
   "outputs": [
    {
     "name": "stdout",
     "output_type": "stream",
     "text": [
      "[4. 4. 4. 4. 4. 4.]\n"
     ]
    }
   ],
   "source": [
    "L1w=np.diag(we).dot(B0.dot(B0.T))+B1.T.dot(np.diag(wf).dot(B1))\n",
    "\n",
    "eigval, eigvec = np.linalg.eig(L1w)\n",
    "eig_sort = np.argsort(eigval)\n",
    "eigval = eigval[eig_sort]\n",
    "eigvec = eigvec[:,eig_sort]\n",
    "print eigval"
   ]
  },
  {
   "cell_type": "code",
   "execution_count": 13,
   "metadata": {
    "collapsed": true
   },
   "outputs": [],
   "source": [
    "def ntri(A):\n",
    "    # signed incidence matrices for triangles\n",
    "    Nn=A.shape[0]\n",
    "    Ne=int(np.sum(A)/2)\n",
    "    #print Nn, Ne\n",
    "\n",
    "    e=np.zeros((Ne,2))\n",
    "    count=0;\n",
    "    for i in range(Nn):\n",
    "        for j in range(i+1,Nn):\n",
    "            if(A[i,j]>0):\n",
    "                e[count,0]=i\n",
    "                e[count,1]=j\n",
    "                count+=1\n",
    "    print \"edges\"\n",
    "    print e\n",
    "    I=np.zeros((Ne,Nn))\n",
    "    for i in range(Ne):\n",
    "        I[i,int(e[i,0])]=1\n",
    "        I[i,int(e[i,1])]=-1\n",
    "    #print I\n",
    "\n",
    "    Nf=0\n",
    "    for i in range(Nn):\n",
    "        for j in range(i+1,Nn):\n",
    "            for k in range(j+1,Nn):\n",
    "                subA=A[np.ix_([i,j,k],[i,j,k])]\n",
    "                if(np.sum(subA)==6):\n",
    "                    Nf+=1\n",
    "    f=np.zeros((Nf,3))\n",
    "    count=0\n",
    "    for i in range(Nn):\n",
    "        for j in range(i+1,Nn):\n",
    "            for k in range(j+1,Nn):\n",
    "                subA=A[np.ix_([i,j,k],[i,j,k])]\n",
    "                if(np.sum(subA)==6):\n",
    "                    f[count,0]=i\n",
    "                    f[count,1]=j\n",
    "                    f[count,2]=k\n",
    "                    count+=1\n",
    "    print \"faces\"\n",
    "    print f\n",
    "    II=np.zeros((Nf,Ne))\n",
    "    for i in range(f.shape[0]):\n",
    "        for j in [0,-1,-2]:\n",
    "            temp=np.roll(f[i,:],j)\n",
    "            temp=temp[0:2]\n",
    "            for k in range(e.shape[0]):\n",
    "                #print e[k,:],temp\n",
    "                if(((e[k,:]==temp).all())or((e[k,:]==np.roll(temp,1)).all())):\n",
    "                    Irow=k\n",
    "            if(temp[0]<temp[1]):\n",
    "                II[i,Irow]=1\n",
    "            else:\n",
    "                II[i,Irow]=-1\n",
    "    #print II \n",
    "    ntrie=np.sum(II,1)\n",
    "    return I,II#,ntrie, e#, len(ntrie)"
   ]
  },
  {
   "cell_type": "code",
   "execution_count": 14,
   "metadata": {},
   "outputs": [
    {
     "data": {
      "image/png": "[encoded data removed]",
      "text/plain": [
       "<matplotlib.figure.Figure at 0x116f18a50>"
      ]
     },
     "metadata": {},
     "output_type": "display_data"
    }
   ],
   "source": [
    "G=nx.complete_graph(4)\n",
    "\n",
    "nx.draw_networkx(G)"
   ]
  },
  {
   "cell_type": "code",
   "execution_count": 15,
   "metadata": {},
   "outputs": [
    {
     "name": "stdout",
     "output_type": "stream",
     "text": [
      "edges\n",
      "[[0. 1.]\n",
      " [0. 2.]\n",
      " [0. 3.]\n",
      " [1. 2.]\n",
      " [1. 3.]\n",
      " [2. 3.]]\n",
      "faces\n",
      "[[0. 1. 2.]\n",
      " [0. 1. 3.]\n",
      " [0. 2. 3.]\n",
      " [1. 2. 3.]]\n",
      "[[ 1. -1.  0.  0.]\n",
      " [ 1.  0. -1.  0.]\n",
      " [ 1.  0.  0. -1.]\n",
      " [ 0.  1. -1.  0.]\n",
      " [ 0.  1.  0. -1.]\n",
      " [ 0.  0.  1. -1.]]\n",
      "[[ 1. -1.  0.  1.  0.  0.]\n",
      " [ 1.  0. -1.  0.  1.  0.]\n",
      " [ 0.  1. -1.  0.  0.  1.]\n",
      " [ 0.  0.  0.  1. -1.  1.]]\n"
     ]
    }
   ],
   "source": [
    "A=nx.to_numpy_matrix(G)\n",
    "I,II=ntri(A)\n",
    "print I\n",
    "print II"
   ]
  },
  {
   "cell_type": "code",
   "execution_count": 34,
   "metadata": {
    "scrolled": false
   },
   "outputs": [
    {
     "name": "stdout",
     "output_type": "stream",
     "text": [
      "edges\n",
      "[[0. 1.]\n",
      " [0. 2.]\n",
      " [0. 3.]\n",
      " [1. 2.]\n",
      " [1. 3.]\n",
      " [2. 3.]]\n",
      "faces\n",
      "[[0. 1. 2.]\n",
      " [0. 1. 3.]\n",
      " [0. 2. 3.]\n",
      " [1. 2. 3.]]\n",
      "[[ 1. -1.  0.  0.]\n",
      " [ 1.  0. -1.  0.]\n",
      " [ 1.  0.  0. -1.]\n",
      " [ 0.  1. -1.  0.]\n",
      " [ 0.  1.  0. -1.]\n",
      " [ 0.  0.  1. -1.]]\n",
      "[[ 1. -1.  0.  1.  0.  0.]\n",
      " [ 1.  0. -1.  0.  1.  0.]\n",
      " [ 0.  1. -1.  0.  0.  1.]\n",
      " [ 0.  0.  0.  1. -1.  1.]]\n"
     ]
    },
    {
     "data": {
      "text/plain": [
       "[<matplotlib.lines.Line2D at 0x11a716ed0>]"
      ]
     },
     "execution_count": 34,
     "metadata": {},
     "output_type": "execute_result"
    },
    {
     "data": {
      "image/png": "[encoded data removed]",
      "text/plain": [
       "<matplotlib.figure.Figure at 0x11cbf0a90>"
      ]
     },
     "metadata": {},
     "output_type": "display_data"
    },
    {
     "data": {
      "image/png": "[encoded data removed]",
      "text/plain": [
       "<matplotlib.figure.Figure at 0x11ca68090>"
      ]
     },
     "metadata": {},
     "output_type": "display_data"
    },
    {
     "data": {
      "image/png": "[encoded data removed]",
      "text/plain": [
       "<matplotlib.figure.Figure at 0x11c413cd0>"
      ]
     },
     "metadata": {},
     "output_type": "display_data"
    }
   ],
   "source": [
    "# no weights\n",
    "G=nx.complete_graph(4)\n",
    "# G=nx.cycle_graph(4)\n",
    "# G.add_edge(0,2)\n",
    "# plt.figure()\n",
    "nx.draw_networkx(G)\n",
    "\n",
    "A=nx.to_numpy_matrix(G)\n",
    "\n",
    "I,II=ntri(A)\n",
    "print I\n",
    "print II\n",
    "\n",
    "Nn=I.shape[1]\n",
    "Ne=I.shape[0]\n",
    "Nf=II.shape[0]\n",
    "wn=np.ones(Nn)\n",
    "we=np.ones(Ne)\n",
    "wf=np.ones(Nf)\n",
    "\n",
    "B0=I\n",
    "B1=II\n",
    "\n",
    "# np.random.seed(seed=4444)\n",
    "\n",
    "theta_0=np.pi*np.random.rand(Ne)\n",
    "\n",
    "omega_0=0#np.ones(Ne)*0\n",
    "\n",
    "degree=np.absolute(B0).sum(0)\n",
    "a=1\n",
    "\n",
    "t_max = 100 #integration time\n",
    "n_t = 200 #number of timepoints \n",
    "\n",
    "result=integrate_kuramoto_full_theta(B0, B1, theta_0, t_max, n_t, a, omega_0, degree, wn, we, wf)\n",
    "\n",
    "times = result.t\n",
    "theta = result.y\n",
    "\n",
    "plt.figure()\n",
    "plt.imshow(theta, aspect='auto',cmap='bwr')\n",
    "plt.colorbar()\n",
    "\n",
    "op=order_parameter(theta, 4, 1)\n",
    "plt.figure()\n",
    "plt.plot(op[0,:])"
   ]
  },
  {
   "cell_type": "code",
   "execution_count": null,
   "metadata": {
    "collapsed": true
   },
   "outputs": [],
   "source": []
  },
  {
   "cell_type": "code",
   "execution_count": null,
   "metadata": {
    "collapsed": true
   },
   "outputs": [],
   "source": []
  }
 ],
 "metadata": {
  "kernelspec": {
   "display_name": "Python 2",
   "language": "python",
   "name": "python2"
  },
  "language_info": {
   "codemirror_mode": {
    "name": "ipython",
    "version": 2
   },
   "file_extension": ".py",
   "mimetype": "text/x-python",
   "name": "python",
   "nbconvert_exporter": "python",
   "pygments_lexer": "ipython2",
   "version": "2.7.9"
  }
 },
 "nbformat": 4,
 "nbformat_minor": 2
}
