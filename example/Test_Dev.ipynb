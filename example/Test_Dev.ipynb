{
 "cells": [
  {
   "cell_type": "code",
   "execution_count": 1,
   "metadata": {},
   "outputs": [],
   "source": [
    "import numpy as np\n",
    "import matplotlib.pyplot as plt\n",
    "import networkx as nx\n",
    "import scipy as sc\n",
    "\n",
    "from simplicial_kuramoto import SimplicialComplex\n",
    "from simplicial_kuramoto.graph_generator import modular_graph\n",
    "from simplicial_kuramoto.integrators import *\n",
    "from simplicial_kuramoto.plotting import plot_node_kuramoto\n",
    "from simplicial_kuramoto.plotting import plot_flow"
   ]
  },
  {
   "cell_type": "code",
   "execution_count": 2,
   "metadata": {
    "scrolled": true
   },
   "outputs": [
    {
     "data": {
      "image/png": "[encoded data removed]",
      "text/plain": [
       "<Figure size 432x288 with 1 Axes>"
      ]
     },
     "metadata": {
      "needs_background": "light"
     },
     "output_type": "display_data"
    }
   ],
   "source": [
    "# test node Kuramoto\n",
    "graph = modular_graph(2, 10, 2)\n",
    "complex_test = SimplicialComplex(graph=graph)\n",
    "\n",
    "# print(\"Incidence matrix:\", complex_test.node_incidence_matrix)\n",
    "complex_test.flip_edge_orientation(0)\n",
    "# print(\"Orientation of 0 fliped:\", complex_test.node_incidence_matrix)\n",
    "\n",
    "\n",
    "initial_phase = np.zeros(len(graph))\n",
    "initial_phase[0] = 1.0\n",
    "\n",
    "results = integrate_node_kuramoto(complex_test, initial_phase, 20.0, 100)\n",
    "\n",
    "plot_node_kuramoto(results)\n",
    "plt.show()"
   ]
  },
  {
   "cell_type": "code",
   "execution_count": 3,
   "metadata": {},
   "outputs": [
    {
     "name": "stderr",
     "output_type": "stream",
     "text": [
      "/usr/local/lib/python3.7/site-packages/networkx/drawing/nx_pylab.py:579: MatplotlibDeprecationWarning: \n",
      "The iterable function was deprecated in Matplotlib 3.1 and will be removed in 3.3. Use np.iterable instead.\n",
      "  if not cb.iterable(width):\n"
     ]
    },
    {
     "data": {
      "image/png": "[encoded data removed]",
      "text/plain": [
       "<Figure size 432x288 with 1 Axes>"
      ]
     },
     "metadata": {},
     "output_type": "display_data"
    },
    {
     "name": "stdout",
     "output_type": "stream",
     "text": [
      "  (0, 0)\t-1.0\n",
      "  (0, 1)\t1.0\n",
      "  (1, 0)\t-1.0\n",
      "  (1, 3)\t1.0\n",
      "  (2, 1)\t-1.0\n",
      "  (2, 2)\t1.0\n",
      "  (3, 2)\t-1.0\n",
      "  (3, 3)\t1.0\n",
      "\n",
      "\theta_0:  [1.64023927 1.49053661 1.08354631 3.38261914]\n",
      "\theta_final:  [2.72476336 3.55842195 2.72476336 2.72476336]\n",
      "\theta_final:  [2.72476336 3.55842195 2.72476336 2.72476336]\n",
      "Div:  [0. 0. 0. 0.]\n",
      "Curl:  []\n",
      "L1\theta:  [-6.28318531e+00 -1.25663706e+01  4.44089210e-16 -6.28318531e+00]\n",
      "L1\theta:  [0. 0. 0. 0.]\n",
      "dim(Ker(L1)):  1\n",
      "Ker(L1):  [[-0.5]\n",
      " [ 0.5]\n",
      " [-0.5]\n",
      " [-0.5]]\n"
     ]
    }
   ],
   "source": [
    "# test edge Kuramoto\n",
    "# cycle graph\n",
    "Nn=4\n",
    "\n",
    "G=nx.cycle_graph(Nn)\n",
    "# G.add_edge(0,2)\n",
    "plt.figure()\n",
    "nx.draw_networkx(G)\n",
    "plt.show()\n",
    "\n",
    "test_complex=SimplicialComplex(graph=G)\n",
    "\n",
    "B0=test_complex.node_incidence_matrix\n",
    "B1=test_complex.edge_incidence_matrix\n",
    "\n",
    "print(B0)\n",
    "print(B1)\n",
    "\n",
    "Nn=B0.shape[1]\n",
    "Ne=B0.shape[0]\n",
    "Nf=B1.shape[0]\n",
    "\n",
    "initial_phase=2*np.pi*np.random.rand(Ne)\n",
    "t_max = 1000\n",
    "n_t = 200\n",
    "\n",
    "# result=integrate_edge_kuramoto(test_complex, initial_phase, t_max, n_t, omega_0=None, a=1)\n",
    "result=integrate_edge_kuramoto(test_complex, initial_phase, t_max, n_t, omega_0=None)\n",
    "\n",
    "plot_flow(initial_phase,test_complex,result,plotname=None)\n",
    "    \n",
    "# B0[1,0]=-B0[1,0]\n",
    "# B0[1,-1]=-B0[1,-1]\n",
    "\n",
    "# plotflow(theta_0,B0,B1,'All same orientations')\n",
    "# plotflow(theta_final,B0,B1,'All same orientations') "
   ]
  },
  {
   "cell_type": "code",
   "execution_count": null,
   "metadata": {
    "collapsed": true
   },
   "outputs": [],
   "source": []
  },
  {
   "cell_type": "code",
   "execution_count": null,
   "metadata": {
    "collapsed": true
   },
   "outputs": [],
   "source": []
  }
 ],
 "metadata": {
  "kernelspec": {
   "display_name": "Python 3",
   "language": "python",
   "name": "python3"
  },
  "language_info": {
   "codemirror_mode": {
    "name": "ipython",
    "version": 3
   },
   "file_extension": ".py",
   "mimetype": "text/x-python",
   "name": "python",
   "nbconvert_exporter": "python",
   "pygments_lexer": "ipython3",
   "version": "3.7.4"
  }
 },
 "nbformat": 4,
 "nbformat_minor": 2
}
