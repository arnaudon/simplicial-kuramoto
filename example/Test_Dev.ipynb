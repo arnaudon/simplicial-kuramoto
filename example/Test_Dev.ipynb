{
 "cells": [
  {
   "cell_type": "code",
   "execution_count": 1,
   "metadata": {},
   "outputs": [],
   "source": [
    "import numpy as np\n",
    "import matplotlib.pyplot as plt\n",
    "import networkx as nx\n",
    "import scipy as sc\n",
    "\n",
    "from simplicial_kuramoto import SimplicialComplex\n",
    "from simplicial_kuramoto.graph_generator import modular_graph\n",
    "from simplicial_kuramoto.integrators import *\n",
    "from simplicial_kuramoto.plotting import plot_node_kuramoto\n",
    "from simplicial_kuramoto.plotting import plot_flow"
   ]
  },
  {
   "cell_type": "code",
   "execution_count": 2,
   "metadata": {
    "scrolled": true
   },
   "outputs": [],
   "source": [
    "# test node Kuramoto\n",
    "graph = modular_graph(2, 10, 2)\n",
    "complex_test = SimplicialComplex(graph=graph)\n",
    "\n",
    "# print(\"Incidence matrix:\", complex_test.node_incidence_matrix)\n",
    "complex_test.flip_edge_orientation(0)\n",
    "# print(\"Orientation of 0 fliped:\", complex_test.node_incidence_matrix)\n",
    "\n",
    "\n",
    "initial_phase = np.zeros(len(graph))\n",
    "initial_phase[0] = 1.0\n",
    "\n",
    "results = integrate_node_kuramoto(complex_test, initial_phase, 20.0, 100)\n",
    "\n",
    "# plot_node_kuramoto(results)\n",
    "# plt.show()"
   ]
  },
  {
   "cell_type": "code",
   "execution_count": 3,
   "metadata": {},
   "outputs": [
    {
     "name": "stderr",
     "output_type": "stream",
     "text": [
      "/usr/local/lib/python3.7/site-packages/networkx/drawing/nx_pylab.py:579: MatplotlibDeprecationWarning: \n",
      "The iterable function was deprecated in Matplotlib 3.1 and will be removed in 3.3. Use np.iterable instead.\n",
      "  if not cb.iterable(width):\n"
     ]
    },
    {
     "data": {
      "image/png": "[encoded data removed]",
      "text/plain": [
       "<Figure size 432x288 with 1 Axes>"
      ]
     },
     "metadata": {},
     "output_type": "display_data"
    },
    {
     "name": "stdout",
     "output_type": "stream",
     "text": [
      "[[ 1. -1.  0.  0.]\n",
      " [ 1.  0.  0. -1.]\n",
      " [ 0.  1. -1.  0.]\n",
      " [ 0.  0.  1. -1.]]\n",
      "[]\n",
      "\theta_0:  [5.82981646 2.89118733 0.82757514 3.21094714]\n",
      "\theta_final:  [8.02747316 4.53889746 1.74428785 1.74428785]\n",
      "\theta_final:  [1.74428785 4.53889745 1.74428785 1.74428785]\n",
      "Div:  [0. 0. 0. 0.]\n",
      "Curl:  []\n",
      "L1\theta:  [[-18.84955592 -18.84955592   6.28318531  -6.28318531]]\n",
      "L1\theta:  [[1.00001785e-10 1.00001785e-10 0.00000000e+00 0.00000000e+00]]\n",
      "dim(Ker(L1)):  1\n",
      "Ker(L1):  [[-0.5]\n",
      " [ 0.5]\n",
      " [-0.5]\n",
      " [-0.5]]\n"
     ]
    },
    {
     "data": {
      "image/png": "[encoded data removed]",
      "text/plain": [
       "<Figure size 432x288 with 2 Axes>"
      ]
     },
     "metadata": {
      "needs_background": "light"
     },
     "output_type": "display_data"
    }
   ],
   "source": [
    "# test edge Kuramoto\n",
    "# cycle graph\n",
    "Nn=4\n",
    "\n",
    "G=nx.cycle_graph(Nn)\n",
    "# G.add_edge(0,2)\n",
    "plt.figure()\n",
    "nx.draw_networkx(G)\n",
    "plt.show()\n",
    "\n",
    "test_complex=SimplicialComplex(graph=G)\n",
    "\n",
    "B0=test_complex.node_incidence_matrix_alt\n",
    "B1=test_complex.edge_incidence_matrix\n",
    "\n",
    "print(B0)\n",
    "print(B1)\n",
    "\n",
    "Nn=B0.shape[1]\n",
    "Ne=B0.shape[0]\n",
    "Nf=B1.shape[0]\n",
    "\n",
    "initial_phase=2*np.pi*np.random.rand(Ne)\n",
    "t_max = 1000\n",
    "n_t = 200\n",
    "\n",
    "result=integrate_edge_kuramoto(test_complex, initial_phase, t_max, n_t, omega_0=None, a=1)\n",
    "\n",
    "plot_flow(initial_phase,test_complex,result,plotname=None)\n",
    "    \n",
    "# B0[1,0]=-B0[1,0]\n",
    "# B0[1,-1]=-B0[1,-1]\n",
    "\n",
    "# plotflow(theta_0,B0,B1,'All same orientations')\n",
    "# plotflow(theta_final,B0,B1,'All same orientations') "
   ]
  },
  {
   "cell_type": "code",
   "execution_count": null,
   "metadata": {
    "collapsed": true
   },
   "outputs": [],
   "source": []
  },
  {
   "cell_type": "code",
   "execution_count": null,
   "metadata": {
    "collapsed": true
   },
   "outputs": [],
   "source": []
  }
 ],
 "metadata": {
  "kernelspec": {
   "display_name": "Python 3",
   "language": "python",
   "name": "python3"
  },
  "language_info": {
   "codemirror_mode": {
    "name": "ipython",
    "version": 3
   },
   "file_extension": ".py",
   "mimetype": "text/x-python",
   "name": "python",
   "nbconvert_exporter": "python",
   "pygments_lexer": "ipython3",
   "version": "3.7.4"
  }
 },
 "nbformat": 4,
 "nbformat_minor": 2
}
